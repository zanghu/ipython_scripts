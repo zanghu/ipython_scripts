{
 "metadata": {
  "name": "New_AE&DAE"
 },
 "nbformat": 3,
 "nbformat_minor": 0,
 "worksheets": [
  {
   "cells": [
    {
     "cell_type": "heading",
     "level": 1,
     "metadata": {},
     "source": [
      "AutoEncoder and Denoised AutoEncoder"
     ]
    },
    {
     "cell_type": "code",
     "collapsed": false,
     "input": [
      "import theano\n",
      "import theano.tensor as T\n",
      "import numpy\n",
      "from theano.tensor.shared_randomstreams import RandomStreams\n",
      "\n",
      "from pylearn2.base import Block\n",
      "from pylearn2.models.model import Model\n",
      "from pylearn2.costs.cost import Cost, SumOfCosts\n",
      "from pylearn2.space import VectorSpace\n",
      "from pylearn2.corruption import BinomialCorruptor, GaussianCorruptor\n",
      "from pylearn2.utils import sharedX, as_floatX\n",
      "\n",
      "theano.config.compute_test_value = 'off'\n",
      "\n",
      "def get_sparseness(W, n):\n",
      "    #if isinstance(W, theano.tensor.sharedvar.TensorSharedVariable):\n",
      "    #n = numpy.prod(W.shape)\n",
      "    sparseness = (T.sqrt(n) - T.abs_(W).sum() / T.sqrt(T.square(W).sum())) / (T.sqrt(n) -1)\n",
      "    return sparseness\n",
      "\n",
      "class MSECost(Cost):\n",
      "    \n",
      "    def get_data_specs(self, model):\n",
      "        \n",
      "        return model.get_monitoring_data_specs()\n",
      "        \n",
      "    def expr(self, model, data):\n",
      "        \n",
      "        v = data\n",
      "        output = model.get_final_output(v)\n",
      "        recon_error = (T.square(output - v).sum(axis=1)).mean()\n",
      "        return 0.5 * recon_error\n",
      "    \n",
      "class CrossEntropyCost(Cost):\n",
      "    \n",
      "    def expr(self, model, data):\n",
      "        v = data\n",
      "        z = model.get_final_output(v)\n",
      "        # x_i maybe take zero value,but x is not in log, z is directly derived from model.nonlinear(), its value must between (0, 1)\n",
      "        cross_entropy = -T.sum(v * T.log(z) + (1. - v) * T.log(1. - z), axis=1)\n",
      "        return cross_entropy.mean()\n",
      "\n",
      "    def get_data_specs(self, model):\n",
      "        return model.get_monitoring_data_specs()\n",
      "    \n",
      "class L2WeightDecay(Cost):\n",
      "    \n",
      "    def expr(self, model, data):\n",
      "        \n",
      "        weight_decay = T.square(model.W1).sum() + T.square(model.W2).sum()\n",
      "        return weight_decay\n",
      "    \n",
      "    def get_data_specs(self, model):\n",
      "        \n",
      "        return model.get_monitoring_data_specs()\n",
      "    \n",
      "class L1WeightDecay(Cost):\n",
      "    \n",
      "    def expr(self, model, data):\n",
      "        \n",
      "        weight_decay = T.abs_(model.W).sum()\n",
      "        return weight_decay\n",
      "    \n",
      "    def get_data_specs(self, model):\n",
      "        \n",
      "        return model.get_monitoring_data_specs()\n",
      "    \n",
      "    def get_monitoring_channels(self, model, data, **kwargs):\n",
      "        \n",
      "        channels = OrderedDict()\n",
      "        n = model.n_vis * model.n_hid\n",
      "        channels['weight_sparseness'] = get_sparseness(model.W, n)\n",
      "        return channels\n",
      "    \n",
      "class L1Sparse(Cost):\n",
      "    \n",
      "    def expr(self, model, data):\n",
      "        \n",
      "        v = data\n",
      "        mid = model.get_enc(v)\n",
      "        L1_sparse = T.abs_(mid).sum(axis=1).mean()\n",
      "        return L1_sparse\n",
      "    \n",
      "    def get_data_specs(self, model):\n",
      "        return model.get_monitoring_data_specs()\n",
      "    \n",
      "class RLeSparse(Cost): # Ranzato-LeCun 2007\n",
      "    \n",
      "    def expr(self, model, data):\n",
      "        \n",
      "        v = data\n",
      "        z = (model.get_enc(v)) ** 2\n",
      "        h = T.log(1 + T.square(z)).sum(axis=1).mean()\n",
      "        return h\n",
      "    \n",
      "    def get_data_specs(self, model):\n",
      "        return model.get_monitoring_data_specs()\n",
      "    \n",
      "class CS294Sparse(Cost):\n",
      "    \n",
      "    def __init__(self, rou=0.05):\n",
      "        self.rou = rou\n",
      "    \n",
      "    def expr(self, model, data):\n",
      "        \n",
      "        v = data\n",
      "        mid = model.get_enc(v)\n",
      "        rou_mid = mid.mean(axis=0)\n",
      "        cs294_sparse = (self.rou * T.log(self.rou / rou_mid) + (1 - self.rou) * T.log((1 - self.rou) / (1 - rou_mid))).sum()\n",
      "        return cs294_sparse\n",
      "    \n",
      "    def get_data_specs(self, model):\n",
      "        \"\"\"\"\"\"\n",
      "        return model.get_monitoring_data_specs()\n",
      "    \n",
      "\n",
      "\n",
      "class MyAutoEncoder(Model, Block):\n",
      "    \"\"\"AutoEncoder(AE)\"\"\"\n",
      "    def __init__(self, n_vis, n_hid, corruptor=None, W=None, b_enc=None, b_dec=None, numpy_rng=None, dec_f=True, extra_cost=None,theano_rng=None):\n",
      "        \"\"\"\u6784\u9020\u51fd\u6570\n",
      "        dec_f: \u89e3\u7801\u5355\u5143\u662f\u5426\u5305\u542b\u975e\u7ebf\u6027\u51fd\u6570\n",
      "        extra_cost:\u9664\u4e86\u57fa\u672c\u7684MSE Cost\u548cCE Cost\u4e4b\u5916\u7684\u4ee3\u4ef7\u51fd\u6570\u5176\u4ed6\u60e9\u7f5a\u9879\uff0c\u4f8b\u5982\u7a00\u758f\u60e9\u7f5a\uff0cweight decay\u7b49\u7b49. \n",
      "                \u7528\u4e8eself.get_default_cost()\u65b9\u6cd5\u4e2d. \u8fd9\u6837\u4f9d\u8d56\u9700\u8981\u5728\u6a21\u578b\u521d\u59cb\u5316\u4e4b\u524d\u52a0\u5165\u5e0c\u671b\u6dfb\u52a0\u7684\u60e9\u7f5a\u9879\u5373\u53ef.\n",
      "        \"\"\"\n",
      "        Model.__init__(self) # self.names_to_del = set(); self._test_batch_size = 2\n",
      "        Block.__init__(self) # self.fn = None; self.cpu_only = False\n",
      "\n",
      "        self.n_vis = n_vis\n",
      "        self.n_hid = n_hid\n",
      "        self.extra_cost = extra_cost\n",
      "        self.dec_f = dec_f\n",
      "        self.corruptor = corruptor\n",
      "        \n",
      "        self.input_space = VectorSpace(dim=self.n_vis) # add input_space\n",
      "        self.output_space = VectorSpace(dim=self.n_hid) # add output_space\n",
      "\n",
      "        if numpy_rng is None:\n",
      "            # create a number generator\n",
      "            numpy_rng = numpy.random.RandomState(seed=19900418)\n",
      "        self.numpy_rng = numpy_rng\n",
      "\n",
      "        if theano_rng is None:\n",
      "            theano_rng = RandomStreams(numpy_rng.randint(2 ** 30))\n",
      "        self.theano_rng = theano_rng\n",
      "\n",
      "        if W is None:\n",
      "            init_W = numpy.asarray(numpy_rng.uniform(\n",
      "                      low= -4 * numpy.sqrt(6. / (n_hid + n_vis + 1.)),\n",
      "                      high= 4 * numpy.sqrt(6. / (n_hid + n_vis + 1.)),\n",
      "                      size=(n_vis, n_hid)),\n",
      "                      dtype=theano.config.floatX)\n",
      "            # theano shared variables for weights and biases\n",
      "            W = theano.shared(value=init_W, name='W', borrow=True)\n",
      "\n",
      "        if b_enc is None:\n",
      "            # create shared variable for hidden units bias\n",
      "            b_enc = theano.shared(value=numpy.zeros(n_hid, dtype=theano.config.floatX), name='b_enc', borrow=True)\n",
      "\n",
      "        if b_dec is None:\n",
      "            # create shared variable for visible units bias\n",
      "            b_dec = theano.shared(value=numpy.zeros(n_vis, dtype=theano.config.floatX), name='b_dec', borrow=True)\n",
      "\n",
      "        self.W = W\n",
      "        self.b_enc = b_enc\n",
      "        self.b_dec = b_dec\n",
      "\n",
      "        self._params = [self.W, self.b_enc, self.b_dec]  \n",
      "        \n",
      "    def get_enc(self, data):\n",
      "        \"\"\"\u7f16\u7801\u65b9\u6cd5\uff0c\u7ebf\u6027\u53d8\u6362+\u975e\u7ebf\u6027\u53d8\u6362\"\"\"\n",
      "        v = data\n",
      "        linear_enc = T.dot(v, self.W) + self.b_enc\n",
      "        enc = self.nonlinear(linear_enc)\n",
      "        return enc\n",
      "        \n",
      "    def get_dec(self, z):\n",
      "        \"\"\"\u89e3\u7801\u65b9\u6cd5\uff0c\u7ebf\u6027\u53d8\u6362+\u975e\u7ebf\u6027\u53d8\u6362\"\"\"\n",
      "        linear_dec = T.dot(z, (self.W).T) + self.b_dec\n",
      "        if self.dec_f is True: #\u5982\u679c\u521d\u59cb\u5316\u6a21\u578b\u65f6\u8981\u6c42decoder\u5305\u542b\u975e\u7ebf\u6027\u53d8\u6362\n",
      "            dec = self.nonlinear(linear_dec)\n",
      "        else:\n",
      "            dec = linear_dec\n",
      "        return dec\n",
      "        \n",
      "    def nonlinear(self, x):\n",
      "        \n",
      "        return T.nnet.sigmoid(x)\n",
      "    \n",
      "    def get_train_enc(self, data):\n",
      "        \"\"\"\u8bad\u7ec3\u65f6\u7f16\u7801\uff0c\u4e3a\u4f8b\u5982DAE\u8fd9\u7c7b\u6a21\u578b\u670d\u52a1\"\"\"\n",
      "        v = data\n",
      "        if self.corruptor is not None: \n",
      "            v = self.corruptor(v)\n",
      "        mid = self.get_enc(v)\n",
      "        return mid\n",
      "    \n",
      "    def get_final_output(self, data):\n",
      "        \"\"\"\u8ba1\u7b97\u7531\u8f93\u5165\u5f97\u5230\u7684\u6700\u7ec8\u8f93\u51fa\"\"\"\n",
      "        v = data\n",
      "        if self.corruptor is not None: \n",
      "            v = self.corruptor(v)\n",
      "        mid = self.get_enc(v)\n",
      "        output = self.get_dec(mid)\n",
      "        return output\n",
      "    \n",
      "    def get_monitoring_data_specs(self):\n",
      "        \"\"\"\"\"\"\n",
      "        return (self.get_input_space(), self.get_input_source())\n",
      "    \n",
      "    def get_monitoring_channels(self, data):\n",
      "        \"\"\"\"\"\"\n",
      "        v = data\n",
      "        channels = {}\n",
      "        \n",
      "        channel_name = 'recon_error'\n",
      "        output = self.get_final_output(v)\n",
      "        recon_error = (T.square(output - v).sum(axis=1)).mean()\n",
      "        channels[channel_name] = recon_error\n",
      "        \n",
      "        channel_name = 'hidden_sparseness' #\u9690\u5c42\u8868\u793a\u7a00\u758f\u5ea6\n",
      "        h = self.get_enc(v)\n",
      "        sparseness_vector = (T.sqrt(self.n_hid) - T.sum(T.abs_(h), axis=1) / T.sqrt(T.sum(h**2, axis=1))) / (T.sqrt(self.n_hid) - 1.)\n",
      "        assert sparseness_vector.ndim == 1\n",
      "        channels[channel_name] = T.mean(sparseness_vector)\n",
      "        \n",
      "        channel_name = 'W_sparseness' #\u6743\u503c\u77e9\u9635\u7a00\u758f\u5ea6\n",
      "        W = self.W.T\n",
      "        sparseness_vector = (T.sqrt(self.n_vis) - T.sum(T.abs_(W), axis=1) / T.sqrt(T.sum(W**2, axis=1))) / (T.sqrt(self.n_vis) - 1.)\n",
      "        assert sparseness_vector.ndim == 1\n",
      "        channels[channel_name] = T.mean(sparseness_vector)\n",
      "        \n",
      "\n",
      "        return channels\n",
      "    \n",
      "    def get_default_cost(self):\n",
      "        \"\"\"Based on Salah Rifai's ICML11's Paper\"\"\"\n",
      "        if self.dec_f is True:\n",
      "            cost = CrossEntropyCost()\n",
      "        else:\n",
      "            cost = MSECost()\n",
      "            \n",
      "        if self.extra_cost is not None: #\u5c1a\u4e0d\u5b8c\u5584\uff0c\u5982\u679c\u8981\u4f7f\u7528extra_cost\uff0c\u5efa\u8bae\u5728\u63a7\u5236\u6587\u4ef6\u79bb\u5355\u72ec\u5236\u9020cost\n",
      "            cost = SumOfCosts(costs=[cost, self.extra_cost])\n",
      "        return cost\n",
      "    "
     ],
     "language": "python",
     "metadata": {},
     "outputs": [],
     "prompt_number": 6
    },
    {
     "cell_type": "heading",
     "level": 3,
     "metadata": {},
     "source": [
      "AE\u63a7\u5236\u6587\u4ef6"
     ]
    },
    {
     "cell_type": "code",
     "collapsed": false,
     "input": [
      "if __name__ == '__main__':\n",
      "    \n",
      "    from pylearn2.datasets.mnist import MNIST\n",
      "    from pylearn2.training_algorithms.sgd import SGD\n",
      "    from pylearn2.costs.cost import SumOfCosts\n",
      "    from pylearn2.train import Train\n",
      "    from pylearn2.termination_criteria import MonitorBased\n",
      "    from pylearn2.train_extensions.best_params import MonitorBasedSaveBest\n",
      "    from pylearn2.training_algorithms.sgd import MonitorBasedLRAdjuster\n",
      "    from pylearn2.training_algorithms.sgd import MomentumAdjustor\n",
      "    from pylearn2.termination_criteria import EpochCounter\n",
      "    #from pylearn2.datasets.preprocessing import GlobalContrastNormalization, ZCA, ExtractPatches, Pipeline\n",
      "    \n",
      "    dsm_train = MNIST(which_set='train', start=0, stop=500, one_hot=True)\n",
      "    dsm_valid = MNIST(which_set='train', start=500, stop=600, one_hot=True)\n",
      "    dsm_test = MNIST(which_set='test', start=0, stop=100, one_hot=True)\n",
      "\t\n",
      "    #monitoring_dataset = {'train': dsm_train, 'valid': dsm_valid, 'test': dsm_test}\n",
      "    monitoring_dataset = {'train': dsm_train}\n",
      "\t\n",
      "    ae_model = MyAutoEncoder(n_vis=784, n_hid=500, corruptor=GaussianCorruptor(stdev=1))\n",
      "    \n",
      "    #mse_cost = MSECost()\n",
      "    #l1_cost = L1Sparse()\n",
      "    #wd_cost = WeightDecay(); lambda_ = 0.0001\n",
      "    #sp_cost = Sparse(rou=0.01); beta = 3.\n",
      "    #ce_cost = CrossEntropyCost()\n",
      "    #total_cost = SumOfCosts(costs=[mse_cost, (lambda_, wd_cost), (beta, sp_cost)])\n",
      "    #total_cost = SumOfCosts(costs=[MyCD_energy_scan(k=1), (1/ 0.05, HonglakLeeSparse(p=0.05))])\n",
      "    \n",
      "    alg = SGD(learning_rate=0.1, cost=None, batch_size=20, init_momentum=None, monitoring_dataset=monitoring_dataset,\n",
      "              termination_criterion=EpochCounter(max_epochs=15))\n",
      "    \n",
      "    train = Train(dataset=dsm_train, model=ae_model, algorithm=alg, save_path='ae_save.pkl', save_freq=5)\n",
      "    \n",
      "    train.main_loop()"
     ],
     "language": "python",
     "metadata": {},
     "outputs": [
      {
       "output_type": "stream",
       "stream": "stdout",
       "text": [
        "Parameter and initial learning rate summary:\n"
       ]
      },
      {
       "output_type": "stream",
       "stream": "stdout",
       "text": [
        "\tW: 0.1\n"
       ]
      },
      {
       "output_type": "stream",
       "stream": "stdout",
       "text": [
        "\tb_enc: 0.1\n"
       ]
      },
      {
       "output_type": "stream",
       "stream": "stdout",
       "text": [
        "\tb_dec: 0.1\n"
       ]
      },
      {
       "output_type": "stream",
       "stream": "stdout",
       "text": [
        "Compiling sgd_update...\n"
       ]
      },
      {
       "output_type": "stream",
       "stream": "stdout",
       "text": [
        "Compiling sgd_update done. Time elapsed: 1.000000 seconds\n"
       ]
      },
      {
       "output_type": "stream",
       "stream": "stdout",
       "text": [
        "compiling begin_record_entry...\n"
       ]
      },
      {
       "output_type": "stream",
       "stream": "stdout",
       "text": [
        "compiling begin_record_entry done. Time elapsed: 0.000000 seconds\n"
       ]
      },
      {
       "output_type": "stream",
       "stream": "stdout",
       "text": [
        "Monitored channels: \n"
       ]
      },
      {
       "output_type": "stream",
       "stream": "stdout",
       "text": [
        "\tlearning_rate\n"
       ]
      },
      {
       "output_type": "stream",
       "stream": "stdout",
       "text": [
        "\tmonitor_seconds_per_epoch\n"
       ]
      },
      {
       "output_type": "stream",
       "stream": "stdout",
       "text": [
        "\ttrain_W_sparseness\n"
       ]
      },
      {
       "output_type": "stream",
       "stream": "stdout",
       "text": [
        "\ttrain_hidden_sparseness\n"
       ]
      },
      {
       "output_type": "stream",
       "stream": "stdout",
       "text": [
        "\ttrain_objective\n"
       ]
      },
      {
       "output_type": "stream",
       "stream": "stdout",
       "text": [
        "\ttrain_recon_error\n"
       ]
      },
      {
       "output_type": "stream",
       "stream": "stdout",
       "text": [
        "Compiling accum...\n"
       ]
      },
      {
       "output_type": "stream",
       "stream": "stdout",
       "text": [
        "graph size: 77\n"
       ]
      },
      {
       "output_type": "stream",
       "stream": "stdout",
       "text": [
        "Compiling accum done. Time elapsed: 1.000000 seconds\n"
       ]
      },
      {
       "output_type": "stream",
       "stream": "stdout",
       "text": [
        "Monitoring step:\n"
       ]
      },
      {
       "output_type": "stream",
       "stream": "stdout",
       "text": [
        "\tEpochs seen: 0\n"
       ]
      },
      {
       "output_type": "stream",
       "stream": "stdout",
       "text": [
        "\tBatches seen: 0\n"
       ]
      },
      {
       "output_type": "stream",
       "stream": "stdout",
       "text": [
        "\tExamples seen: 0\n"
       ]
      },
      {
       "output_type": "stream",
       "stream": "stdout",
       "text": [
        "\tlearning_rate: 0.1\n"
       ]
      },
      {
       "output_type": "stream",
       "stream": "stdout",
       "text": [
        "\tmonitor_seconds_per_epoch: 0.0\n"
       ]
      },
      {
       "output_type": "stream",
       "stream": "stdout",
       "text": [
        "\ttrain_W_sparseness: 0.139183971279\n"
       ]
      },
      {
       "output_type": "stream",
       "stream": "stdout",
       "text": [
        "\ttrain_hidden_sparseness: 0.118360349\n"
       ]
      },
      {
       "output_type": "stream",
       "stream": "stdout",
       "text": [
        "\ttrain_objective: 134.760201305\n"
       ]
      },
      {
       "output_type": "stream",
       "stream": "stdout",
       "text": [
        "\ttrain_recon_error: 269.568709398\n"
       ]
      },
      {
       "output_type": "stream",
       "stream": "stdout",
       "text": [
        "Time this epoch: 0.000000 seconds\n"
       ]
      },
      {
       "output_type": "stream",
       "stream": "stdout",
       "text": [
        "Monitoring step:\n"
       ]
      },
      {
       "output_type": "stream",
       "stream": "stdout",
       "text": [
        "\tEpochs seen: 1\n"
       ]
      },
      {
       "output_type": "stream",
       "stream": "stdout",
       "text": [
        "\tBatches seen: 25\n"
       ]
      },
      {
       "output_type": "stream",
       "stream": "stdout",
       "text": [
        "\tExamples seen: 500\n"
       ]
      },
      {
       "output_type": "stream",
       "stream": "stdout",
       "text": [
        "\tlearning_rate: 0.1\n"
       ]
      },
      {
       "output_type": "stream",
       "stream": "stdout",
       "text": [
        "\tmonitor_seconds_per_epoch: 0.0\n"
       ]
      },
      {
       "output_type": "stream",
       "stream": "stdout",
       "text": [
        "\ttrain_W_sparseness: 0.140972729762\n"
       ]
      },
      {
       "output_type": "stream",
       "stream": "stdout",
       "text": [
        "\ttrain_hidden_sparseness: 0.186257262072\n"
       ]
      },
      {
       "output_type": "stream",
       "stream": "stdout",
       "text": [
        "\ttrain_objective: 28.5383744706\n"
       ]
      },
      {
       "output_type": "stream",
       "stream": "stdout",
       "text": [
        "\ttrain_recon_error: 56.7227133962\n"
       ]
      },
      {
       "output_type": "stream",
       "stream": "stdout",
       "text": [
        "Time this epoch: 0.000000 seconds\n"
       ]
      },
      {
       "output_type": "stream",
       "stream": "stdout",
       "text": [
        "Monitoring step:\n"
       ]
      },
      {
       "output_type": "stream",
       "stream": "stdout",
       "text": [
        "\tEpochs seen: 2\n"
       ]
      },
      {
       "output_type": "stream",
       "stream": "stdout",
       "text": [
        "\tBatches seen: 50\n"
       ]
      },
      {
       "output_type": "stream",
       "stream": "stdout",
       "text": [
        "\tExamples seen: 1000\n"
       ]
      },
      {
       "output_type": "stream",
       "stream": "stdout",
       "text": [
        "\tlearning_rate: 0.1\n"
       ]
      },
      {
       "output_type": "stream",
       "stream": "stdout",
       "text": [
        "\tmonitor_seconds_per_epoch: 0.0\n"
       ]
      },
      {
       "output_type": "stream",
       "stream": "stdout",
       "text": [
        "\ttrain_W_sparseness: 0.141626460128\n"
       ]
      },
      {
       "output_type": "stream",
       "stream": "stdout",
       "text": [
        "\ttrain_hidden_sparseness: 0.20933474727\n"
       ]
      },
      {
       "output_type": "stream",
       "stream": "stdout",
       "text": [
        "\ttrain_objective: 26.1727160071\n"
       ]
      },
      {
       "output_type": "stream",
       "stream": "stdout",
       "text": [
        "\ttrain_recon_error: 52.0822533282\n"
       ]
      },
      {
       "output_type": "stream",
       "stream": "stdout",
       "text": [
        "Time this epoch: 0.000000 seconds\n"
       ]
      },
      {
       "output_type": "stream",
       "stream": "stdout",
       "text": [
        "Monitoring step:\n"
       ]
      },
      {
       "output_type": "stream",
       "stream": "stdout",
       "text": [
        "\tEpochs seen: 3\n"
       ]
      },
      {
       "output_type": "stream",
       "stream": "stdout",
       "text": [
        "\tBatches seen: 75\n"
       ]
      },
      {
       "output_type": "stream",
       "stream": "stdout",
       "text": [
        "\tExamples seen: 1500\n"
       ]
      },
      {
       "output_type": "stream",
       "stream": "stdout",
       "text": [
        "\tlearning_rate: 0.1\n"
       ]
      },
      {
       "output_type": "stream",
       "stream": "stdout",
       "text": [
        "\tmonitor_seconds_per_epoch: 0.0\n"
       ]
      },
      {
       "output_type": "stream",
       "stream": "stdout",
       "text": [
        "\ttrain_W_sparseness: 0.142179214418\n"
       ]
      },
      {
       "output_type": "stream",
       "stream": "stdout",
       "text": [
        "\ttrain_hidden_sparseness: 0.223889670695\n"
       ]
      },
      {
       "output_type": "stream",
       "stream": "stdout",
       "text": [
        "\ttrain_objective: 24.4557039908\n"
       ]
      },
      {
       "output_type": "stream",
       "stream": "stdout",
       "text": [
        "\ttrain_recon_error: 48.759924532\n"
       ]
      },
      {
       "output_type": "stream",
       "stream": "stdout",
       "text": [
        "Time this epoch: 0.000000 seconds\n"
       ]
      },
      {
       "output_type": "stream",
       "stream": "stdout",
       "text": [
        "Monitoring step:\n"
       ]
      },
      {
       "output_type": "stream",
       "stream": "stdout",
       "text": [
        "\tEpochs seen: 4\n"
       ]
      },
      {
       "output_type": "stream",
       "stream": "stdout",
       "text": [
        "\tBatches seen: 100\n"
       ]
      },
      {
       "output_type": "stream",
       "stream": "stdout",
       "text": [
        "\tExamples seen: 2000\n"
       ]
      },
      {
       "output_type": "stream",
       "stream": "stdout",
       "text": [
        "\tlearning_rate: 0.1\n"
       ]
      },
      {
       "output_type": "stream",
       "stream": "stdout",
       "text": [
        "\tmonitor_seconds_per_epoch: 0.0\n"
       ]
      },
      {
       "output_type": "stream",
       "stream": "stdout",
       "text": [
        "\ttrain_W_sparseness: 0.142756314271\n"
       ]
      },
      {
       "output_type": "stream",
       "stream": "stdout",
       "text": [
        "\ttrain_hidden_sparseness: 0.237394256614\n"
       ]
      },
      {
       "output_type": "stream",
       "stream": "stdout",
       "text": [
        "\ttrain_objective: 23.1437002865\n"
       ]
      },
      {
       "output_type": "stream",
       "stream": "stdout",
       "text": [
        "\ttrain_recon_error: 46.4839631661\n"
       ]
      },
      {
       "output_type": "stream",
       "stream": "stdout",
       "text": [
        "Time this epoch: 0.000000 seconds\n"
       ]
      },
      {
       "output_type": "stream",
       "stream": "stdout",
       "text": [
        "Monitoring step:\n"
       ]
      },
      {
       "output_type": "stream",
       "stream": "stdout",
       "text": [
        "\tEpochs seen: 5\n"
       ]
      },
      {
       "output_type": "stream",
       "stream": "stdout",
       "text": [
        "\tBatches seen: 125\n"
       ]
      },
      {
       "output_type": "stream",
       "stream": "stdout",
       "text": [
        "\tExamples seen: 2500\n"
       ]
      },
      {
       "output_type": "stream",
       "stream": "stdout",
       "text": [
        "\tlearning_rate: 0.1\n"
       ]
      },
      {
       "output_type": "stream",
       "stream": "stdout",
       "text": [
        "\tmonitor_seconds_per_epoch: 0.0\n"
       ]
      },
      {
       "output_type": "stream",
       "stream": "stdout",
       "text": [
        "\ttrain_W_sparseness: 0.143346795838\n"
       ]
      },
      {
       "output_type": "stream",
       "stream": "stdout",
       "text": [
        "\ttrain_hidden_sparseness: 0.248067857794\n"
       ]
      },
      {
       "output_type": "stream",
       "stream": "stdout",
       "text": [
        "\ttrain_objective: 21.9857014539\n"
       ]
      },
      {
       "output_type": "stream",
       "stream": "stdout",
       "text": [
        "\ttrain_recon_error: 44.3193011454\n"
       ]
      },
      {
       "output_type": "stream",
       "stream": "stdout",
       "text": [
        "Saving to ae_save.pkl...\n"
       ]
      },
      {
       "output_type": "stream",
       "stream": "stdout",
       "text": [
        "Saving to ae_save.pkl done. Time elapsed: 0.000000 seconds\n"
       ]
      },
      {
       "output_type": "stream",
       "stream": "stdout",
       "text": [
        "Time this epoch: 0.000000 seconds\n"
       ]
      },
      {
       "output_type": "stream",
       "stream": "stdout",
       "text": [
        "Monitoring step:\n"
       ]
      },
      {
       "output_type": "stream",
       "stream": "stdout",
       "text": [
        "\tEpochs seen: 6\n"
       ]
      },
      {
       "output_type": "stream",
       "stream": "stdout",
       "text": [
        "\tBatches seen: 150\n"
       ]
      },
      {
       "output_type": "stream",
       "stream": "stdout",
       "text": [
        "\tExamples seen: 3000\n"
       ]
      },
      {
       "output_type": "stream",
       "stream": "stdout",
       "text": [
        "\tlearning_rate: 0.1\n"
       ]
      },
      {
       "output_type": "stream",
       "stream": "stdout",
       "text": [
        "\tmonitor_seconds_per_epoch: 0.0\n"
       ]
      },
      {
       "output_type": "stream",
       "stream": "stdout",
       "text": [
        "\ttrain_W_sparseness: 0.143935855773\n"
       ]
      },
      {
       "output_type": "stream",
       "stream": "stdout",
       "text": [
        "\ttrain_hidden_sparseness: 0.255806858148\n"
       ]
      },
      {
       "output_type": "stream",
       "stream": "stdout",
       "text": [
        "\ttrain_objective: 20.9714971835\n"
       ]
      },
      {
       "output_type": "stream",
       "stream": "stdout",
       "text": [
        "\ttrain_recon_error: 42.5197297825\n"
       ]
      },
      {
       "output_type": "stream",
       "stream": "stdout",
       "text": [
        "Time this epoch: 0.000000 seconds\n"
       ]
      },
      {
       "output_type": "stream",
       "stream": "stdout",
       "text": [
        "Monitoring step:\n"
       ]
      },
      {
       "output_type": "stream",
       "stream": "stdout",
       "text": [
        "\tEpochs seen: 7\n"
       ]
      },
      {
       "output_type": "stream",
       "stream": "stdout",
       "text": [
        "\tBatches seen: 175\n"
       ]
      },
      {
       "output_type": "stream",
       "stream": "stdout",
       "text": [
        "\tExamples seen: 3500\n"
       ]
      },
      {
       "output_type": "stream",
       "stream": "stdout",
       "text": [
        "\tlearning_rate: 0.1\n"
       ]
      },
      {
       "output_type": "stream",
       "stream": "stdout",
       "text": [
        "\tmonitor_seconds_per_epoch: 0.0\n"
       ]
      },
      {
       "output_type": "stream",
       "stream": "stdout",
       "text": [
        "\ttrain_W_sparseness: 0.144523702912\n"
       ]
      },
      {
       "output_type": "stream",
       "stream": "stdout",
       "text": [
        "\ttrain_hidden_sparseness: 0.263727506274\n"
       ]
      },
      {
       "output_type": "stream",
       "stream": "stdout",
       "text": [
        "\ttrain_objective: 20.2098988836\n"
       ]
      },
      {
       "output_type": "stream",
       "stream": "stdout",
       "text": [
        "\ttrain_recon_error: 40.3794672548\n"
       ]
      },
      {
       "output_type": "stream",
       "stream": "stdout",
       "text": [
        "Time this epoch: 0.000000 seconds\n"
       ]
      },
      {
       "output_type": "stream",
       "stream": "stdout",
       "text": [
        "Monitoring step:\n"
       ]
      },
      {
       "output_type": "stream",
       "stream": "stdout",
       "text": [
        "\tEpochs seen: 8\n"
       ]
      },
      {
       "output_type": "stream",
       "stream": "stdout",
       "text": [
        "\tBatches seen: 200\n"
       ]
      },
      {
       "output_type": "stream",
       "stream": "stdout",
       "text": [
        "\tExamples seen: 4000\n"
       ]
      },
      {
       "output_type": "stream",
       "stream": "stdout",
       "text": [
        "\tlearning_rate: 0.1\n"
       ]
      },
      {
       "output_type": "stream",
       "stream": "stdout",
       "text": [
        "\tmonitor_seconds_per_epoch: 0.0\n"
       ]
      },
      {
       "output_type": "stream",
       "stream": "stdout",
       "text": [
        "\ttrain_W_sparseness: 0.145080578825\n"
       ]
      },
      {
       "output_type": "stream",
       "stream": "stdout",
       "text": [
        "\ttrain_hidden_sparseness: 0.270413685516\n"
       ]
      },
      {
       "output_type": "stream",
       "stream": "stdout",
       "text": [
        "\ttrain_objective: 19.4759896511\n"
       ]
      },
      {
       "output_type": "stream",
       "stream": "stdout",
       "text": [
        "\ttrain_recon_error: 38.9774953971\n"
       ]
      },
      {
       "output_type": "stream",
       "stream": "stdout",
       "text": [
        "Time this epoch: 0.000000 seconds\n"
       ]
      },
      {
       "output_type": "stream",
       "stream": "stdout",
       "text": [
        "Monitoring step:\n"
       ]
      },
      {
       "output_type": "stream",
       "stream": "stdout",
       "text": [
        "\tEpochs seen: 9\n"
       ]
      },
      {
       "output_type": "stream",
       "stream": "stdout",
       "text": [
        "\tBatches seen: 225\n"
       ]
      },
      {
       "output_type": "stream",
       "stream": "stdout",
       "text": [
        "\tExamples seen: 4500\n"
       ]
      },
      {
       "output_type": "stream",
       "stream": "stdout",
       "text": [
        "\tlearning_rate: 0.1\n"
       ]
      },
      {
       "output_type": "stream",
       "stream": "stdout",
       "text": [
        "\tmonitor_seconds_per_epoch: 0.0\n"
       ]
      },
      {
       "output_type": "stream",
       "stream": "stdout",
       "text": [
        "\ttrain_W_sparseness: 0.145625445239\n"
       ]
      },
      {
       "output_type": "stream",
       "stream": "stdout",
       "text": [
        "\ttrain_hidden_sparseness: 0.276013562533\n"
       ]
      },
      {
       "output_type": "stream",
       "stream": "stdout",
       "text": [
        "\ttrain_objective: 18.8931468811\n"
       ]
      },
      {
       "output_type": "stream",
       "stream": "stdout",
       "text": [
        "\ttrain_recon_error: 37.928702823\n"
       ]
      },
      {
       "output_type": "stream",
       "stream": "stdout",
       "text": [
        "Time this epoch: 0.000000 seconds\n"
       ]
      },
      {
       "output_type": "stream",
       "stream": "stdout",
       "text": [
        "Monitoring step:\n"
       ]
      },
      {
       "output_type": "stream",
       "stream": "stdout",
       "text": [
        "\tEpochs seen: 10\n"
       ]
      },
      {
       "output_type": "stream",
       "stream": "stdout",
       "text": [
        "\tBatches seen: 250\n"
       ]
      },
      {
       "output_type": "stream",
       "stream": "stdout",
       "text": [
        "\tExamples seen: 5000\n"
       ]
      },
      {
       "output_type": "stream",
       "stream": "stdout",
       "text": [
        "\tlearning_rate: 0.1\n"
       ]
      },
      {
       "output_type": "stream",
       "stream": "stdout",
       "text": [
        "\tmonitor_seconds_per_epoch: 0.0\n"
       ]
      },
      {
       "output_type": "stream",
       "stream": "stdout",
       "text": [
        "\ttrain_W_sparseness: 0.146142240279\n"
       ]
      },
      {
       "output_type": "stream",
       "stream": "stdout",
       "text": [
        "\ttrain_hidden_sparseness: 0.280830338196\n"
       ]
      },
      {
       "output_type": "stream",
       "stream": "stdout",
       "text": [
        "\ttrain_objective: 18.392670772\n"
       ]
      },
      {
       "output_type": "stream",
       "stream": "stdout",
       "text": [
        "\ttrain_recon_error: 36.9111629109\n"
       ]
      },
      {
       "output_type": "stream",
       "stream": "stdout",
       "text": [
        "Saving to ae_save.pkl...\n"
       ]
      },
      {
       "output_type": "stream",
       "stream": "stdout",
       "text": [
        "Saving to ae_save.pkl done. Time elapsed: 0.000000 seconds\n"
       ]
      },
      {
       "output_type": "stream",
       "stream": "stdout",
       "text": [
        "Time this epoch: 0.000000 seconds\n"
       ]
      },
      {
       "output_type": "stream",
       "stream": "stdout",
       "text": [
        "Monitoring step:\n"
       ]
      },
      {
       "output_type": "stream",
       "stream": "stdout",
       "text": [
        "\tEpochs seen: 11\n"
       ]
      },
      {
       "output_type": "stream",
       "stream": "stdout",
       "text": [
        "\tBatches seen: 275\n"
       ]
      },
      {
       "output_type": "stream",
       "stream": "stdout",
       "text": [
        "\tExamples seen: 5500\n"
       ]
      },
      {
       "output_type": "stream",
       "stream": "stdout",
       "text": [
        "\tlearning_rate: 0.1\n"
       ]
      },
      {
       "output_type": "stream",
       "stream": "stdout",
       "text": [
        "\tmonitor_seconds_per_epoch: 0.0\n"
       ]
      },
      {
       "output_type": "stream",
       "stream": "stdout",
       "text": [
        "\ttrain_W_sparseness: 0.146656416398\n"
       ]
      },
      {
       "output_type": "stream",
       "stream": "stdout",
       "text": [
        "\ttrain_hidden_sparseness: 0.284450815732\n"
       ]
      },
      {
       "output_type": "stream",
       "stream": "stdout",
       "text": [
        "\ttrain_objective: 17.9972491345\n"
       ]
      },
      {
       "output_type": "stream",
       "stream": "stdout",
       "text": [
        "\ttrain_recon_error: 36.1378492546\n"
       ]
      },
      {
       "output_type": "stream",
       "stream": "stdout",
       "text": [
        "Time this epoch: 0.000000 seconds\n"
       ]
      },
      {
       "output_type": "stream",
       "stream": "stdout",
       "text": [
        "Monitoring step:\n"
       ]
      },
      {
       "output_type": "stream",
       "stream": "stdout",
       "text": [
        "\tEpochs seen: 12\n"
       ]
      },
      {
       "output_type": "stream",
       "stream": "stdout",
       "text": [
        "\tBatches seen: 300\n"
       ]
      },
      {
       "output_type": "stream",
       "stream": "stdout",
       "text": [
        "\tExamples seen: 6000\n"
       ]
      },
      {
       "output_type": "stream",
       "stream": "stdout",
       "text": [
        "\tlearning_rate: 0.1\n"
       ]
      },
      {
       "output_type": "stream",
       "stream": "stdout",
       "text": [
        "\tmonitor_seconds_per_epoch: 0.0\n"
       ]
      },
      {
       "output_type": "stream",
       "stream": "stdout",
       "text": [
        "\ttrain_W_sparseness: 0.147117242758\n"
       ]
      },
      {
       "output_type": "stream",
       "stream": "stdout",
       "text": [
        "\ttrain_hidden_sparseness: 0.289324546109\n"
       ]
      },
      {
       "output_type": "stream",
       "stream": "stdout",
       "text": [
        "\ttrain_objective: 17.4971698221\n"
       ]
      },
      {
       "output_type": "stream",
       "stream": "stdout",
       "text": [
        "\ttrain_recon_error: 35.367462281\n"
       ]
      },
      {
       "output_type": "stream",
       "stream": "stdout",
       "text": [
        "Time this epoch: 0.000000 seconds\n"
       ]
      },
      {
       "output_type": "stream",
       "stream": "stdout",
       "text": [
        "Monitoring step:\n"
       ]
      },
      {
       "output_type": "stream",
       "stream": "stdout",
       "text": [
        "\tEpochs seen: 13\n"
       ]
      },
      {
       "output_type": "stream",
       "stream": "stdout",
       "text": [
        "\tBatches seen: 325\n"
       ]
      },
      {
       "output_type": "stream",
       "stream": "stdout",
       "text": [
        "\tExamples seen: 6500\n"
       ]
      },
      {
       "output_type": "stream",
       "stream": "stdout",
       "text": [
        "\tlearning_rate: 0.1\n"
       ]
      },
      {
       "output_type": "stream",
       "stream": "stdout",
       "text": [
        "\tmonitor_seconds_per_epoch: 0.0\n"
       ]
      },
      {
       "output_type": "stream",
       "stream": "stdout",
       "text": [
        "\ttrain_W_sparseness: 0.147566348119\n"
       ]
      },
      {
       "output_type": "stream",
       "stream": "stdout",
       "text": [
        "\ttrain_hidden_sparseness: 0.291005390945\n"
       ]
      },
      {
       "output_type": "stream",
       "stream": "stdout",
       "text": [
        "\ttrain_objective: 17.2285187431\n"
       ]
      },
      {
       "output_type": "stream",
       "stream": "stdout",
       "text": [
        "\ttrain_recon_error: 34.8798909735\n"
       ]
      },
      {
       "output_type": "stream",
       "stream": "stdout",
       "text": [
        "Time this epoch: 0.000000 seconds\n"
       ]
      },
      {
       "output_type": "stream",
       "stream": "stdout",
       "text": [
        "Monitoring step:\n"
       ]
      },
      {
       "output_type": "stream",
       "stream": "stdout",
       "text": [
        "\tEpochs seen: 14\n"
       ]
      },
      {
       "output_type": "stream",
       "stream": "stdout",
       "text": [
        "\tBatches seen: 350\n"
       ]
      },
      {
       "output_type": "stream",
       "stream": "stdout",
       "text": [
        "\tExamples seen: 7000\n"
       ]
      },
      {
       "output_type": "stream",
       "stream": "stdout",
       "text": [
        "\tlearning_rate: 0.1\n"
       ]
      },
      {
       "output_type": "stream",
       "stream": "stdout",
       "text": [
        "\tmonitor_seconds_per_epoch: 0.0\n"
       ]
      },
      {
       "output_type": "stream",
       "stream": "stdout",
       "text": [
        "\ttrain_W_sparseness: 0.148002334528\n"
       ]
      },
      {
       "output_type": "stream",
       "stream": "stdout",
       "text": [
        "\ttrain_hidden_sparseness: 0.294291548843\n"
       ]
      },
      {
       "output_type": "stream",
       "stream": "stdout",
       "text": [
        "\ttrain_objective: 17.0270235374\n"
       ]
      },
      {
       "output_type": "stream",
       "stream": "stdout",
       "text": [
        "\ttrain_recon_error: 33.8727668095\n"
       ]
      },
      {
       "output_type": "stream",
       "stream": "stdout",
       "text": [
        "Time this epoch: 0.000000 seconds\n"
       ]
      },
      {
       "output_type": "stream",
       "stream": "stdout",
       "text": [
        "Monitoring step:\n"
       ]
      },
      {
       "output_type": "stream",
       "stream": "stdout",
       "text": [
        "\tEpochs seen: 15\n"
       ]
      },
      {
       "output_type": "stream",
       "stream": "stdout",
       "text": [
        "\tBatches seen: 375\n"
       ]
      },
      {
       "output_type": "stream",
       "stream": "stdout",
       "text": [
        "\tExamples seen: 7500\n"
       ]
      },
      {
       "output_type": "stream",
       "stream": "stdout",
       "text": [
        "\tlearning_rate: 0.1\n"
       ]
      },
      {
       "output_type": "stream",
       "stream": "stdout",
       "text": [
        "\tmonitor_seconds_per_epoch: 0.0\n"
       ]
      },
      {
       "output_type": "stream",
       "stream": "stdout",
       "text": [
        "\ttrain_W_sparseness: 0.148429487462\n"
       ]
      },
      {
       "output_type": "stream",
       "stream": "stdout",
       "text": [
        "\ttrain_hidden_sparseness: 0.297065846877\n"
       ]
      },
      {
       "output_type": "stream",
       "stream": "stdout",
       "text": [
        "\ttrain_objective: 16.7627289513\n"
       ]
      },
      {
       "output_type": "stream",
       "stream": "stdout",
       "text": [
        "\ttrain_recon_error: 33.5691950291\n"
       ]
      },
      {
       "output_type": "stream",
       "stream": "stdout",
       "text": [
        "Saving to ae_save.pkl...\n"
       ]
      },
      {
       "output_type": "stream",
       "stream": "stdout",
       "text": [
        "Saving to ae_save.pkl done. Time elapsed: 0.000000 seconds\n"
       ]
      },
      {
       "output_type": "stream",
       "stream": "stdout",
       "text": [
        "Saving to ae_save.pkl...\n"
       ]
      },
      {
       "output_type": "stream",
       "stream": "stdout",
       "text": [
        "Saving to ae_save.pkl done. Time elapsed: 0.000000 seconds\n"
       ]
      }
     ],
     "prompt_number": 8
    },
    {
     "cell_type": "heading",
     "level": 3,
     "metadata": {},
     "source": [
      "\u65e7\u7248\u63a7\u5236\u6587\u4ef6\uff0c\u4fdd\u7559\u5f88\u591a\u5f53\u65f6\u8bad\u7ec3CS294\u6837\u672c\u96c6\u7684\u75d5\u8ff9\uff0c\u7559\u505a\u5b58\u6863"
     ]
    },
    {
     "cell_type": "code",
     "collapsed": false,
     "input": [
      "if __name__ == '__main__':\n",
      "    \n",
      "    from pylearn2.datasets.mnist import MNIST\n",
      "    from pylearn2.training_algorithms.sgd import SGD\n",
      "    from pylearn2.costs.cost import SumOfCosts\n",
      "    from pylearn2.train import Train\n",
      "    from pylearn2.termination_criteria import MonitorBased\n",
      "    from pylearn2.train_extensions.best_params import MonitorBasedSaveBest\n",
      "    from pylearn2.training_algorithms.sgd import MonitorBasedLRAdjuster\n",
      "    from pylearn2.training_algorithms.sgd import MomentumAdjustor\n",
      "    from pylearn2.termination_criteria import EpochCounter\n",
      "    from pylearn2.datasets.preprocessing import GlobalContrastNormalization, ZCA, ExtractPatches, Pipeline\n",
      "    \n",
      "    from my_training_extensions import ExponentialDecay\n",
      "    \n",
      "    #from my_utils import MyExtractPatches\n",
      "    \n",
      "    #pre = GlobalContrastNormalization(subtract_mean=False, use_std=False)\n",
      "    #pre.apply(dsm_train)\n",
      "\t\n",
      "    dsm_train = MNIST(which_set='train', start=0, stop=50000, one_hot=True)\n",
      "    dsm_valid = MNIST(which_set='train', start=50000, stop=60000, one_hot=True)\n",
      "    dsm_test = MNIST(which_set='test', start=0, stop=10000, one_hot=True)\n",
      "    \n",
      "    #pre.apply(dsm_train)\n",
      "    #pre.apply(dsm_valid)\n",
      "    #pre.apply(dsm_test)\n",
      "    #f = open('/home/zanghu/images.npy')\n",
      "    #images = numpy.load(f)\n",
      "    #f.close()\n",
      "    #patches = MyExtractPacthes(num_patches=10000, patch_size=(8, 8), images=images, gcn=True, zca=True)\n",
      "    \n",
      "    #from UFLDL_images import UFLDL\n",
      "    #dsu = UFLDL()\n",
      "\n",
      "    #pipeline = Pipeline()\n",
      "    #pipeline.items.append(ExtractPatches(patch_shape=(8, 8), num_patches=10000))\n",
      "    #pipeline.items.append(GlobalContrastNormalization(sqrt_bias=10., use_std=False))\n",
      "    #pipeline.items.append(ZCA())\n",
      "    \n",
      "    #====================================================================================\n",
      "    #dsu.apply_preprocessor(preprocessor=pipeline, can_fit=True) # preprocessing\n",
      "    \n",
      "    #dsu.X = dsu.X - ((dsu.X).mean(axis=1))[0, numpy.newaxis] #substract mean\n",
      "    #pstd = 3 * (dsu.X).std(ddof=1)\n",
      "    #dsu.X = numpy.clip(a=dsu.X, a_min=-pstd, a_max=pstd) / pstd\n",
      "    #dsu.X = (dsu.X + 1) * 0.4 + 0.1\n",
      "    #=====================================================================================\n",
      "\t\n",
      "    monitoring_dataset = {'train': dsm_train, 'valid': dsm_valid, 'test': dsm_test}\n",
      "    #monitoring_dataset = {'train': dsu}\n",
      "\t\n",
      "    ae_model = MyAutoEncoder(n_vis=784, n_hid=500, corruptor=GaussianCorruptor(stdev=1))\n",
      "    #f = open('my_ae_trainsave_cs249.pkl')\n",
      "    #ae_model = cPickle.load(f)\n",
      "    #f.close()\n",
      "\n",
      "    #ae_model = MyAutoEncoder(n_vis=784, n_hid=500, W=ae_model.W, b_enc=ae_model.b_enc, b_dec=ae_model.b_dec, \n",
      "    #            numpy_rng=ae_model.numpy_rng,theano_rng=ae_model.theano_rng)\n",
      "    \n",
      "    mse_cost = MSECost()\n",
      "    #l1_cost = L1Sparse()\n",
      "    #wd_cost = WeightDecay(); lambda_ = 0.0001\n",
      "    #sp_cost = Sparse(rou=0.01); beta = 3.\n",
      "    ce_cost = CrossEntropyCost() \n",
      "    #total_cost = SumOfCosts(costs=[mse_cost, (lambda_, wd_cost), (beta, sp_cost)])\n",
      "    #total_cost = SumOfCosts(costs=[MyCD_energy_scan(k=1), (1/ 0.05, HonglakLeeSparse(p=0.05))])\n",
      "    \n",
      "    alg = SGD(learning_rate=0.1, cost=None, batch_size=20, init_momentum=0.3, monitoring_dataset=monitoring_dataset,\n",
      "              #termination_criterion=MonitorBased(channel_name='valid_recon_error', N=10))\n",
      "              termination_criterion=EpochCounter(max_epochs=50))\n",
      "    \n",
      "    # note: the save_path in extensions's parameters must not be identical to Train's save_path parameter, otherwise the overwrite problem will happen\n",
      "    # distiguish the action between Train's save_freq and MonitorBasedSaveBest which in Train's extenions prameter\n",
      "    \n",
      "    #MonitorBasedLRAdjuster(dataset_name='valid'),MomentumAdjustor(start=1, saturate=20, final_momentum=.99)\n",
      "    train = Train(dataset=dsm_train, model=ae_model, algorithm=alg,\n",
      "            #extensions=[MonitorBasedSaveBest(channel_name='train_recon_error', save_path='my_ae_step2.pkl'),\n",
      "            #            ExponentialDecay(decay_factor=0.99, min_lr=0.01),\n",
      "            #            MomentumAdjustor(start=5, saturate=50, final_momentum=.9)],\n",
      "            save_path='ae_save.pkl',\n",
      "            save_freq=5)\n",
      "    \n",
      "    train.main_loop()"
     ],
     "language": "python",
     "metadata": {},
     "outputs": []
    },
    {
     "cell_type": "heading",
     "level": 3,
     "metadata": {},
     "source": [
      "\u65e7\u7248\u76d1\u6d4b\u9891\u9053\u4e2d\u7a00\u758f\u5ea6\u7684\u8ba1\u7b97\u4ee3\u7801"
     ]
    },
    {
     "cell_type": "code",
     "collapsed": false,
     "input": [
      "        channel_name = 'hidden_sparseness' #\u9690\u5c42\u8868\u793a\u7a00\u758f\u5ea6\n",
      "        h = self.propup(v)\n",
      "        sparseness_vector = (T.sqrt(self.n_hid) - T.sum(T.abs_(h), axis=1) / T.sqrt(T.sum(h**2, axis=1))) / (T.sqrt(self.n_hid) - 1.)\n",
      "        assert sparseness_vector.ndim == 1\n",
      "        channels[channel_name] = T.mean(sparseness_vector)\n",
      "        \n",
      "        channel_name = 'W_sparseness' #\u6743\u503c\u77e9\u9635\u7a00\u758f\u5ea6\n",
      "        W = self.W.T\n",
      "        sparseness_vector = (T.sqrt(self.n_vis) - T.sum(T.abs_(W), axis=1) / T.sqrt(T.sum(W**2, axis=1))) / (T.sqrt(self.n_vis) - 1.)\n",
      "        assert sparseness_vector.ndim == 1\n",
      "        channels[channel_name] = T.mean(sparseness_vector)\n",
      "        \n",
      "                channel_name = 'sparse_representation'\n",
      "        mid = self.get_enc(v)\n",
      "        mid_bool = T.cast(mid >= 0.01, theano.config.floatX)\n",
      "        count = (mid_bool.sum(axis=1)).mean()\n",
      "        channels[channel_name] = count\n",
      "        \n",
      "        channel_name = 'sparseness'\n",
      "        part1 = T.cast(T.sqrt(self.n_hid), dtype=theano.config.floatX)\n",
      "        ##channels['part1'] = part1\n",
      "        #part21 = (T.abs_(mid)).sum(axis=1)\n",
      "        ##channels['part21'] = part21\n",
      "        #part22 = T.sqrt((T.square(mid)).sum(axis=1))\n",
      "        ##channels['part22'] = part22\n",
      "        #part2__ = (part21 / part22).mean()\n",
      "        #channels['part2__'] = part2__\n",
      "        part2 = ((T.abs_(mid)).sum(axis=1) / T.sqrt((T.square(mid)).sum(axis=1))).mean()\n",
      "        #part2_max = T.max((T.abs_(mid)).sum(axis=1) / T.sqrt((T.square(mid)).sum(axis=1)))\n",
      "        #channels['part2_max'] = part2_max\n",
      "        #part2_min = T.min((T.abs_(mid)).sum(axis=1) / T.sqrt((T.square(mid)).sum(axis=1)))\n",
      "        #channels['part2_min'] = part2_min\n",
      "        #channels['part2'] = part2\n",
      "        #part21_max = T.max((T.abs_(mid)).sum(axis=1))\n",
      "        #channels['part21_max'] = part21_max\n",
      "        #part21_min = T.min((T.abs_(mid)).sum(axis=1))\n",
      "        #channels['part21_min'] = part21_min\n",
      "        #part22_max = T.max(T.sqrt((T.square(mid)).sum(axis=1)))\n",
      "        #channels['part22_max'] = part22_max\n",
      "        #part22_min = T.min(T.sqrt((T.square(mid)).sum(axis=1)))\n",
      "        #channels['part22_min'] = part22_min\n",
      "        numerator = part1 - part2\n",
      "        denominator = T.sqrt(self.n_hid) - 1.\n",
      "        sparseness = numerator / denominator\n",
      "        channels[channel_name] = sparseness"
     ],
     "language": "python",
     "metadata": {},
     "outputs": []
    },
    {
     "cell_type": "code",
     "collapsed": false,
     "input": [
      "import cPickle\n",
      "import pylab\n",
      "from theano_ae import MyAutoEncoder\n",
      "#from cs294_ae_1101_3 import MyAutoEncoder\n",
      "\n",
      "f = open('my_ae_trainsave_cs249.pkl')\n",
      "ae_model = cPickle.load(f)\n",
      "f.close()\n",
      "\n",
      "W, b1, b2 = [param.get_value() for param in ae_model.get_params()]\n",
      "H = W / numpy.sqrt(numpy.square(W).sum(axis=0))\n",
      "H = H.T\n",
      "for i in xrange(10):\n",
      "    for j in xrange(10):\n",
      "        pylab.subplot(10, 10, i * 10 + j + 1); pylab.axis('off'); pylab.imshow(H[i * 10 + j].reshape(28, 28), cmap=cm.gray)\n",
      "        \n",
      "pylab.show()"
     ],
     "language": "python",
     "metadata": {},
     "outputs": [
      {
       "output_type": "display_data",
       "png": "[encoded data removed]"
      }
     ],
     "prompt_number": 6
    },
    {
     "cell_type": "code",
     "collapsed": false,
     "input": [],
     "language": "python",
     "metadata": {},
     "outputs": []
    }
   ],
   "metadata": {}
  }
 ]
}