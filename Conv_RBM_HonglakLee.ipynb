{
 "metadata": {
  "name": "Conv_RBM_HonglakLee"
 },
 "nbformat": 3,
 "nbformat_minor": 0,
 "worksheets": [
  {
   "cells": [
    {
     "cell_type": "code",
     "collapsed": false,
     "input": [
      "import time\n",
      "import os\n",
      "from itertools import izip\n",
      "import copy\n",
      "\n",
      "import numpy\n",
      "import theano\n",
      "import theano.tensor as T\n",
      "\n",
      "from theano.tensor.shared_randomstreams import RandomStreams\n",
      "from theano.sandbox.rng_mrg import MRG_RandomStreams\n",
      "from theano.compat.python2x import OrderedDict\n",
      "\n",
      "from pylearn2.base import Block\n",
      "from pylearn2.models.model import Model\n",
      "from pylearn2.linear.matrixmul import MatrixMul\n",
      "from pylearn2.linear.linear_transform import LinearTransform\n",
      "from pylearn2.costs.cost import Cost, SumOfCosts\n",
      "from pylearn2.models.mlp import MLP, Layer\n",
      "from pylearn2.datasets.mnist import MNIST\n",
      "from pylearn2.space import VectorSpace, Conv2DSpace\n",
      "from pylearn2.linear.conv2d import make_random_conv2D, make_sparse_random_conv2D\n",
      "#from conv2d import Conv2D, make_random_conv2D, make_sparse_random_conv2D\n",
      "from pylearn2.utils import sharedX, safe_union\n",
      "\n",
      "from module.dataset_from_design import DatasetFromDesign\n",
      "\n",
      "theano.config.compute_test_value = 'off'\n",
      "\n",
      "class HonglakLeeSparse(Cost):\n",
      "    \n",
      "    def __init__(self, p=0.02):\n",
      "        self.p = p\n",
      "    \n",
      "    def expr(self, model, data):\n",
      "        \n",
      "        v = data\n",
      "        p_h_given_v_matrix = model.propup(v)[-1]\n",
      "        sum_meta = T.square(self.p - T.mean(p_h_given_v_matrix, axis=0, dtype=theano.config.floatX))\n",
      "        expr = T.sum(sum_meta)\n",
      "        \n",
      "        return expr\n",
      "    \n",
      "    def get_data_specs(self, model):\n",
      "        return (model.get_input_space(), model.get_input_source())\n",
      "\n",
      "class MyContrastiveDivergence(Cost):\n",
      "    \n",
      "    def __init__(self, k, chain_num=None): # CD-k\n",
      "        # k: CD-k\n",
      "        self.k = k\n",
      "        self.chain_num = chain_num\n",
      "\t\n",
      "    def expr(self, model, data):\n",
      "        \n",
      "\t    return None\n",
      "        \n",
      "    def get_data_specs(self, model):\n",
      "        return model.get_monitoring_data_specs()\n",
      "\n",
      "class MyCD_energy_scan(MyContrastiveDivergence):\n",
      "    \n",
      "    def get_gradients(self, model, data, ** kwargs):\n",
      "        #print 'get_gradients'\n",
      "        pos_v = data\n",
      "        v_samples = pos_v\n",
      "        [h_mean, h_samples, pool_mean, pool_samples, vis_mean, vis_samples], scan_updates = theano.scan(fn = model.gibbs_vhv, sequences=None, \n",
      "\t\t                        outputs_info=[None, None, None, None, None, v_samples], non_sequences=None, n_steps=self.k)\n",
      "        pos_h = h_mean[0]\n",
      "        neg_v = vis_samples[-1]\n",
      "        neg_h = model.sample_hp_given_v(v=neg_v, sample=False)[0]\n",
      "        \n",
      "        cost = -(- model.energy(pos_v, pos_h).mean() + model.energy(neg_v, neg_h).mean())\n",
      "\n",
      "        params = list(model.get_params())\n",
      "\n",
      "        grads = T.grad(cost, params, disconnected_inputs = 'ignore', consider_constant=[pos_v, pos_h, neg_v, neg_h])\n",
      "\n",
      "        gradients = OrderedDict(izip(params, grads))\n",
      "\n",
      "        updates = OrderedDict()\n",
      "        \n",
      "        updates.update(scan_updates) # add scan_updates\n",
      "\n",
      "        return gradients, updates\n",
      "\n",
      "class MyConvRBM(Model, Block):\n",
      "    \"\"\"Convolutional Restricted Boltzmann Machine (CRBM)  \"\"\"\n",
      "    def __init__(self, input_space, output_channels, pool_shape, batch_size=None, detector_axes=('b', 'c', 0, 1), \n",
      "                    kernel_shape=(2,2), kernel_stride=(1, 1), border_mode='valid', \n",
      "                    transformer=None, h_bias=None, v_bias=None, numpy_rng=None,theano_rng=None):\n",
      "        \"\"\"\n",
      "        vis_space: Conv2DSpace\n",
      "        transformer: pylearn2.linear.Conv2D instance\n",
      "        h_bias: vector, \u5927\u5c0f\u7b49\u4e8e\u8f93\u51fa\u7684feature maps\u6570\uff0c\u6bcf\u4e2a\u5206\u91cf\u5bf9\u5e94\u4e00\u4e2afeature map\n",
      "        v_bias: vector, \u5927\u5c0f\u7b49\u4e8e\u8f93\u5165\u7684feature maps\u6570\uff0c\u6bcf\u4e2a\u5206\u91cf\u5bf9\u5e94\u4e00\u4e2afeature map\n",
      "        pool_shape:\n",
      "        pool_stride: \u6839\u636eHonglak Lee\u7684\u539f\u6587\uff0cpool\u533a\u57df\u65e0\u4ea4\u53e0\uff0c\u4e8e\u662f\u8981\u6c42pool_stride=pool_shape\uff0c\u56e0\u6b64\u6682\u65f6\u4e0d\u5355\u72ec\u8bbe\u7f6epool_stride\u53c2\u6570\n",
      "        \u9700\u8981\u6ce8\u610f\uff0c\u5bf9\u4e8e\u5377\u79efRBM\uff0c\u5176\u9690\u5c42\u5bf9\u5e94\u4e8e\u5377\u79ef\u540e\u7684detector_layer\uff0c\u800c\u8f93\u51fa\u5219\u5bf9\u5e94\u4e0epool_layer\uff0c\u56e0\u6b64\u76f8\u5bf9\u4e8e\u666e\u901aRBM\u53ea\u6709\u8f93\u5165\u548c\u8f93\u51fa\u4e24\u4e2aspace\uff0cCRBM\u6709\u4e09\u4e2aspace\n",
      "        \"\"\"\n",
      "        Model.__init__(self) # self.names_to_del = set(); self._test_batch_size = 2\n",
      "        Block.__init__(self) # self.fn = None; self.cpu_only = False\n",
      "        \n",
      "        self.kernel_shape = kernel_shape\n",
      "        self.kernel_stride = kernel_stride\n",
      "        self.pool_shape = pool_shape\n",
      "        self.pool_stride = pool_shape\n",
      "        self.border_mode = border_mode\n",
      "        \n",
      "        self.batch_size = batch_size\n",
      "        self.force_batch_size = batch_size\n",
      "        \n",
      "        input_shape = input_space.shape\n",
      "        input_channels = input_space.num_channels\n",
      "        if self.border_mode == 'valid':\n",
      "            detector_shape = [(input_shape[0] - kernel_shape[0])/int(kernel_stride[0]) + 1, (input_shape[1] - kernel_shape[1])/kernel_stride[1] + 1]\n",
      "        elif self.border_mode == 'full':\n",
      "            detector_shape = [(input_shape[0] + kernel_shape[0])/int(kernel_stride[0]) - 1, (input_shape[1] + kernel_shape[1])/kernel_stride[1] - 1]\n",
      "        \n",
      "        assert isinstance(input_space, Conv2DSpace)\n",
      "        self.input_space = input_space # add input_space\n",
      "        self.detector_space = Conv2DSpace(shape=detector_shape, num_channels=output_channels, axes=detector_axes) # add detector_space\n",
      "        \n",
      "        #\u5f53\u524d\u53ea\u8003\u8651detector layer\u7684feature map\u53ef\u4ee5\u88abpool_shape\u65e0\u4ea4\u53e0\u5b8c\u6574\u5206\u5272\u7684\u60c5\u51b5\n",
      "        #\u4eca\u540e\u9700\u8981\u8865\u5145\uff1a\u8fb9\u7f18\u8865\u9f50\u7684\u60c5\u51b5\n",
      "        output_shape = (detector_shape[0] / pool_shape[0], detector_shape[1] / pool_shape[1])\n",
      "        self.output_space = Conv2DSpace(shape=output_shape, num_channels=output_channels, axes=detector_axes) # add output_space\n",
      "\n",
      "        self.n_vis = numpy.prod(input_space.shape) * input_space.num_channels\n",
      "        self.n_hid = detector_shape[0] * detector_shape[1] * output_channels\n",
      "\n",
      "        if numpy_rng is None:\n",
      "            # create a number generator\n",
      "            numpy_rng = numpy.random.RandomState(seed=19900418)\n",
      "        self.numpy_rng = numpy_rng\n",
      "\n",
      "        if theano_rng is None:\n",
      "            theano_rng = RandomStreams(numpy_rng.randint(2 ** 30))\n",
      "        self.theano_rng = theano_rng\n",
      "\n",
      "        if transformer is None:\n",
      "            irange = 4 * numpy.sqrt(6. / (self.n_hid + self.n_vis))\n",
      "            transformer = make_random_conv2D(irange=irange, input_space=self.input_space, output_space=self.detector_space, \n",
      "                                             kernel_shape = self.kernel_shape, batch_size = self.batch_size, \n",
      "                                             subsample = kernel_stride,border_mode = self.border_mode, rng=self.numpy_rng)\n",
      "        else:\n",
      "            assert isinstance(transformer, Conv2D)\n",
      "\n",
      "        if h_bias is None:\n",
      "            # create shared variable for hidden units bias\n",
      "            h_bias = theano.shared(value=numpy.zeros(self.detector_space.num_channels, dtype=theano.config.floatX), name='h_bias', borrow=True)\n",
      "\n",
      "        if v_bias is None:\n",
      "            # create shared variable for visible units bias\n",
      "            v_bias = theano.shared(value=numpy.zeros(self.input_space.num_channels, dtype=theano.config.floatX), name='v_bias', borrow=True)\n",
      "\n",
      "        self.transformer = transformer\n",
      "        self.h_bias = h_bias\n",
      "        self.v_bias = v_bias\n",
      "\n",
      "        self._params = safe_union(self.transformer.get_params(), [self.h_bias, self.v_bias])\n",
      "        \n",
      "    def get_monitoring_data_specs(self):\n",
      "        \"\"\"\n",
      "        \u8fd9\u91cc\u867d\u7136\u4ecd\u7136\u8c03\u7528get_input_space()\u65b9\u6cd5\uff0c\u4f46\u7531\u4e8eself.input_space\u5df2\u7ecf\u662f\u4e00\u4e2aConv2DSpace\u5b9e\u4f8b\uff0c\u56e0\u6b64dataset\u518d\u8fdb\u884c\u8fed\u4ee3\u5faa\u73af\u65f6\u4ea7\u751f\u7684\u4e0d\u662fdesign_mat\u800c\u662ftopo_view\n",
      "        \"\"\"\n",
      "        return (self.get_input_space(), self.get_input_source())\n",
      "\t\t\n",
      "    def get_monitoring_channels(self, data):\n",
      "        \"\"\"\"\"\"\n",
      "        v = data\n",
      "        channels = {}\n",
      "        \n",
      "\t\t# recon_error\n",
      "        channel_name = 'recon_error'\n",
      "        p_v_given_h, v_sample = self.gibbs_vhv(v)[4:]\n",
      "        recon_error = ((p_v_given_h - v) ** 2).mean(axis=0).sum()\n",
      "        channels[channel_name] = recon_error\n",
      "        \n",
      "        return channels\n",
      "    \n",
      "    # CRBM\u7c7b\u5e94\u8be5\u63d0\u4f9b\u5377\u79ef\u6838\u96c6\u5408W\n",
      "    # W\uff1a 4Dtensor\n",
      "    # self.transformer\u662f\u4e00\u4e2aConv2D\u5b9e\u4f8b\n",
      "    def energy(self, v, h):\n",
      "        # h: 4D tensor, \u8f74\u5411('b', 'c', 0, 1)\n",
      "        # v: 4D tensor, \u8f74\u5411('b', 'c', 0, 1)\n",
      "    \n",
      "        # \u5229\u7528Conv2D\u5b9e\u4f8b\u7684lmul\u65b9\u6cd5\uff0c\u5b9e\u73b0\u6b63\u5411\u5377\u79ef\u8fc7\u7a0b\u8ba1\u7b97\uff0c\u8ba1\u7b97\u7ed3\u679cconv_feature_maps\u662f\u5168\u4f53detector_layer\u7684feature map\n",
      "        conv_feature_maps = self.transformer.lmul(v)\n",
      "        # \u8981\u5f97\u5bfc\u80fd\u91cf\u51fd\u6570\uff0c\u5c064D tensor h\u4e0econv_feature-maps\u5bf9\u5e94\u6837\u672c\u7684\u5bf9\u5e94feature map(channel)\u7684\u5bf9\u5e94\u4f4d\u7f6e\u5143\u7d20\u76f8\u4e58\n",
      "        vWh = (h * conv_feature_maps).sum(axis=[1,2,3])\n",
      "        # \u6c42\u80fd\u91cf\u51fd\u6570\u4e2d\u4e0e\u504f\u7f6e\u6709\u5173\u7684\u9879\n",
      "        ch = T.sum(self.h_bias * T.sum(h, axis=[2,3]), axis=1)\n",
      "        bv = T.sum(self.v_bias * T.sum(v, axis=[2,3]), axis=1)\n",
      "        # E\u662f\u4e00\u4e2a\u5411\u91cf\uff0c\u5176\u6bcf\u4e2a\u5206\u91cf\u5bf9\u5e94\u4e8e\u8be5\u4f4d\u7f6e\u6837\u672c\u7684\u80fd\u91cf\n",
      "        E = - vWh - ch - bv\n",
      "    \n",
      "        return E\n",
      "    \n",
      "    #\u6a21\u57571: \u8ba1\u7b97\u5377\u79ef\uff0c\u5373\u8ba1\u7b97detector_layer\u6536\u5230\u7684\u8f93\u5165\u4fe1\u53f7\n",
      "    def get_activation(self, v):\n",
      "        \"\"\"\n",
      "        v: 4D-tensor\n",
      "        \u672c\u65b9\u6cd5\u7684\u610f\u4e49\u5728\u4e8e\uff0cp(h|v)\u662f\u4e00\u4e2asigmoid\u51fd\u6570\uff0c\u5bf9\u4e8e\u9690\u5355\u5143h_k_mn\uff0c\u5176\u6fc0\u6d3b\u51fd\u6570\u4e3aactivation\u7684\u7b2ck\u4e2afeature map\u7684\u7d22\u5f15\u4e3a(m, n)\u5355\u5143\u7684\u503c\n",
      "        \"\"\"\n",
      "        conv_activation = self.transformer.lmul(v) # activation\u4e5f\u662f4D-tensor\n",
      "        activation = conv_activation + self.h_bias.dimshuffle(0, 'x', 'x') # \u52a0\u5165\u504f\u7f6e\n",
      "        return activation\n",
      "    \n",
      "    #\u6a21\u57572 + \u6a21\u57573\uff1a\u8ba1\u7b97p(h|v), p_pool\u548c\u62bd\u6837h_sample\u548cpool_sample\n",
      "    def sample_hp_given_v(self, v, sample=False):\n",
      "        \"\"\"\n",
      "        \u672c\u65b9\u6cd5\u7684\u76ee\u7684\uff0c\u662f\u83b7\u5f97h\u548cpool\u7684\u6982\u7387\u5bc6\u5ea6\u201c\u77e9\u9635\u201c\uff0c\u4e8b\u5b9e\u4e0a\u8fd9\u4e24\u4e2a\"\u77e9\u9635\"\u90fd\u662f4D-tensor\n",
      "\n",
      "        \u672c\u65b9\u6cd5\u7684\u7406\u8bba\uff0c\u9996\u5148\u900f\u8fc7\u73b0\u8c61\u770b\u672c\u8d28\uff0c\u5373\u867d\u7136\u80fd\u91cf\u51fd\u6570\u6d89\u53ca\u4e86\u5377\u79ef\u7684\u8ba1\u7b97\uff0c\u5bfc\u81f4\u80fd\u91cf\u51fd\u6570\u7684\u5f62\u5f0f\u975e\u5e38\u590d\u6742\uff0c\u4f46\u4e8b\u5b9e\u4e0a\u53ea\u662f\u5c06\u4e00\u7ef4\u7684\u9690\u201c\u5c42\u201d\u548c\u663e\u201c\u5c42\u201dreshape\u6210\u4e86\u4e09\u7ef4\u7684\u5f20\u91cf\n",
      "        \u4f46\u80fd\u91cf\u51fd\u6570\u672c\u8eab\u8bf1\u5bfc\u7684\u6761\u4ef6\u6982\u7387\u7684\u8868\u8fbe\u5f0f\uff08sigmoid\u51fd\u6570\uff09\u548c\u72ec\u7acb\u6027\uff08\u4e0d\u540c\u9690\u5355\u5143h_i_mn\u6761\u4ef6\u72ec\u7acb\uff09\u90fd\u6ca1\u6709\u6539\u53d8\uff0c\u56e0\u6b64\u5728\u6ca1\u6709pool\u5c42\u7684\u60c5\u51b5\u4e0b\uff0c\u7406\u8bba\u5206\u6790\u63a8\u5bfc\u662f\u7b80\u5355\u7684\n",
      "        \u5f53\u8003\u8651pool\u5c42\u65f6\uff0c\u7b49\u4e8e\u5bf9detector_layer\u52a0\u5165\u4e86\u7ea6\u675f\uff0c\u8981\u6c42\u5904\u5728\u540c\u4e00\u4e2apool\u533a\u5757\u4e2d\u7684\u9690\u5355\u5143\u81f3\u591a\u6709\u4e00\u4e2a\u5904\u4e8e\u6fc0\u6d3b\u6001\uff0c\u7ecf\u8fc7\u7406\u8bba\u63a8\u5bfc\uff0c\u53d1\u73b0\u8ba1\u7b97\u8fd9\u79cd\u7ea6\u675f\u4e0b\u7684\u6982\u7387\u5bc6\u5ea6\uff0c\n",
      "        \u9700\u8981\u9996\u5148\u8ba1\u7b97\u51fadetector_layer\u7684\u5377\u79ef\u8f93\u5165\u503c\n",
      "\n",
      "        \u5728\u7f16\u7a0b\u65b9\u9762\uff0c\u672c\u65b9\u6cd5\u4e5f\u6d89\u53ca\u5927\u91cf\u6280\u5de7\uff0c\u5305\u62ec\uff1a\n",
      "        exp(x)\u51fd\u6570\u7684\u5b89\u5168\u8ba1\u7b97\u65b9\u6cd5\n",
      "        \u5e73\u9762\u533a\u57df\u4e0a\u591a\u4e2a\u533a\u5757\u7684\u63d0\u9ad8\u6548\u7387\u7684pool\u65b9\u6cd5\uff08\u5e73\u79fb\u5207\u7247\uff09\n",
      "        \u9ad8\u7ef4\u6982\u7387\u5bc6\u5ea6\u5f20\u91cf\u8f6c\u5316\u4e3a\u77e9\u9635\u6765\u5f62\u5f0f\uff0c\u5b9e\u73b0\u591a\u9879\u5f0f\u62bd\u6837\n",
      "        \u9ad8\u7ef4\u5f20\u91cf\u5207\u7247\u5f97\u5230\u4f4e\u7ef4\u5f20\u91cf\u4e0e\u4f4e\u7ef4\u5f20\u91cf\u53cd\u5411\u586b\u5145\u5f97\u5230\u9ad8\u7ef4\u5f20\u91cf\n",
      "        \"\"\"\n",
      "        detector_act = self.get_activation(v)\n",
      "        batch_size, ch, ar, ac = detector_act.shape\n",
      "        \n",
      "        #\u6c42mx\n",
      "        mx = None\n",
      "        cur_parts = []\n",
      "        for i in xrange(self.pool_shape[0]):\n",
      "            cur_parts.append([])\n",
      "            for j in xrange(self.pool_shape[1]):\n",
      "                cur = detector_act[:, :, i:ar:self.pool_shape[0], j:ac:self.pool_shape[1]]\n",
      "                if mx is None:\n",
      "                    mx = cur\n",
      "                else:\n",
      "                    mx = T.maximum(cur, mx)\n",
      "                cur_parts[-1].append(cur)\n",
      "                \n",
      "        #\u6c42safe_exp\u548c\u5206\u6bcd\u5207\u7247deno\n",
      "        pool_term = T.exp(-mx)\n",
      "        deno = pool_term\n",
      "        safe_parts = []\n",
      "        for i in xrange(self.pool_shape[0]):\n",
      "            safe_parts.append([])\n",
      "            for j in xrange(self.pool_shape[1]):\n",
      "                cur_safe = T.exp(cur_parts[i][j] - mx)\n",
      "                deno = deno + cur_safe\n",
      "                safe_parts[-1].append(cur_safe)\n",
      "                \n",
      "        off_prop = pool_term / deno # \u8ba1\u7b97\u51fapool\u5c42\u7684\u62bd\u6837\u6982\u7387\u77e9\u9635\n",
      "        p_pool = 1. - off_prop\n",
      "                \n",
      "        #\u6c42\u6240\u6709\u7684\u6982\u7387\u5207\u7247\u77e9\u9635\uff0c\u4ecd\u7136\u8981\u8003\u8651\u7a7a\u95f4\u6784\u578b\n",
      "        h_parts = []\n",
      "        for i in xrange(self.pool_shape[0]):\n",
      "            h_parts.append([]) # \u4ecd\u7136\u7ef4\u6301\u51e0\u4f55\u5f62\u72b6\n",
      "            for j in xrange(self.pool_shape[1]):\n",
      "                cur_h = safe_parts[i][j] / deno\n",
      "                h_parts[-1].append(cur_h)\n",
      "        \n",
      "        #\u5c06\u5207\u7247\u8fd4\u56de\u586b\u51454\u7ef4\u5f20\u91cf, \u5f97\u5230h\u7684\u6982\u7387\u5bc6\u5ea6\u77e9\u9635(\u5176\u5b9e\u662f\u4e2a\u5f20\u91cf)\n",
      "        p_h = T.alloc(0., batch_size, ch, ar, ac) # \u521d\u59cb\u5316\u4e00\u4e2a\u7a7a\u76844D-tensor\u4f5c\u4e3a\u9884\u586b\u5145\u6a21\u677f\n",
      "        for i in xrange(self.pool_shape[0]):\n",
      "            for j in xrange(self.pool_shape[1]):\n",
      "                p_h = T.set_subtensor(p_h[:, :, i:ar:self.pool_shape[0], j:ac:self.pool_shape[1]], h_parts[i][j])\n",
      "        h_mean = p_h\n",
      "        pool_mean = p_pool\n",
      "        if sample is False: #\u5982\u679c\u53ea\u9700\u8981\u6982\u7387\u5bc6\u5ea6\u77e9\u9635\uff0c\u5219\u8fd4\u56de        \n",
      "            return [h_mean, pool_mean]\n",
      "        \n",
      "        #\u8fdb\u884c\u62bd\u6837\n",
      "        events = [] # \u5efa\u7acb\u4e00\u7ef4\u5217\u8868\u5b58\u50a8\u9690\u5c42\u6982\u7387\u5bc6\u5ea6\u5207\u7247\n",
      "        for i in xrange(self.pool_shape[0]):\n",
      "            for j in xrange(self.pool_shape[1]):\n",
      "                events.append(h_parts[i][j])\n",
      "        events.append(off_prop)\n",
      "        events = [event.dimshuffle(0,1,2,3,'x') for event in events] #\u65b0\u589e\u8f74\u5411\n",
      "        events = tuple(events)\n",
      "        \n",
      "        stacked_events = T.concatenate(events, axis=4) #\u6cbf\u65b0\u589e\u8f74\u5411\u62fc\u63a5\u6210\u4e00\u4e2a\u65b0\u76845D-tensor\n",
      "        rows = ar // self.pool_shape[0] #\u6bcf\u4e2afeature_map\u7684\u884c\u65b9\u5411\u4e0a\u6709\u591a\u5c11\u4e2apool\u533a\u5757\n",
      "        cols = ac // self.pool_shape[1] #\u6bcf\u4e2afeature_map\u7684\u5217\u65b9\u5411\u4e0a\u6709\u591a\u5c11\u4e2apool\u533a\u5757\n",
      "        \n",
      "        outcomes = self.pool_shape[0] * self.pool_shape[1] + 1\n",
      "        reshaped_events = stacked_events.reshape((batch_size * rows * cols * ch, outcomes))\n",
      "        \n",
      "        multinomial = self.theano_rng.multinomial(pvals=reshaped_events, dtype=theano.config.floatX)\n",
      "        reshaped_multinomial = multinomial.reshape((batch_size, ch, rows, cols, outcomes))\n",
      "        \n",
      "        h_sample = T.alloc(0., batch_size, ch, ar, ac) #\u9884\u5236\u7a7a\u767d\u6a21\u677f\n",
      "        idx = 0 # \u8d77\u59cb\u65f6\u5bf95D-tensor reshaped_multinomial\u7684\u6700\u540e\u4e00\u4e2a\u8f74\u5411\u5207\u5206\u65f6\u7684\u8d77\u59cb\u7d22\u5f15\n",
      "        for i in xrange(self.pool_shape[0]):\n",
      "            for j in xrange(self.pool_shape[1]):\n",
      "                #\u586b\u5145\u6a21\u677f\n",
      "                h_sample = T.set_subtensor(h_sample[:, :, i:ar:self.pool_shape[0], j:ac:self.pool_shape[1]], reshaped_multinomial[:, :, :, :, idx])\n",
      "                idx = idx + 1 #\u5207\u7247\u4f4d\u7f6e\u79fb\u5411\u4e0b\u4e00\u4e2a\u4f4d\u7f6e\n",
      "        \n",
      "        pool_sample = 1 - reshaped_multinomial[:, :, :, :, -1]\n",
      "        \n",
      "        return [h_mean, h_sample, pool_mean, pool_sample]\n",
      "\n",
      "    #\u8ba1\u7b97\u8f6c\u7f6e\u5377\u79ef\uff0c\u5373\u8ba1\u7b97visible_layer\u6536\u5230\u7684\u6765\u81ea\u9690\u5c42\u7684\u8f93\u5165\u4fe1\u53f7\n",
      "    def get_activation_T(self, h):\n",
      "        \"\"\"\n",
      "        v: 4D-tensor\n",
      "        \u672c\u65b9\u6cd5\u7684\u610f\u4e49\u5728\u4e8e\uff0cp(h|v)\u662f\u4e00\u4e2asigmoid\u51fd\u6570\uff0c\u5bf9\u4e8e\u9690\u5355\u5143h_k_mn\uff0c\u5176\u6fc0\u6d3b\u51fd\u6570\u4e3aactivation\u7684\u7b2ck\u4e2afeature map\u7684\u7d22\u5f15\u4e3a(m, n)\u5355\u5143\u7684\u503c\n",
      "        \"\"\"\n",
      "        conv_activation_v = self.transformer.lmul_T(h) # activation\u4e5f\u662f4D-tensor\n",
      "        activation_v = conv_activation_v + self.v_bias.dimshuffle(0, 'x', 'x')\n",
      "        return activation_v\n",
      "    \n",
      "    #\u6a21\u57574\uff1a\u8ba1\u7b97p(v|h)\u7684\u6982\u7387\u5bc6\u5ea6\u77e9\u9635\uff0c\u8f93\u5165\u53c2\u6570h\u662f\u4e00\u4e2a4D-tensor\n",
      "    def propdown(self, h):\n",
      "        \"\"\"\u5229\u7528\u6027\u8d28\uff1a\n",
      "        #T.sum(lmul(v) * h, axis=[1,2,3]) = T.sum(lmul_T(h) * v, axis=[1,2,3]), \u5de6\u4fa7\u662f\u6807\u51c6\u7684\u80fd\u91cf\u51fd\u6570\u8bb0\u6cd5\n",
      "        #\u56e0\u6b64\u53f3\u4fa7\u662f\u80fd\u91cf\u51fd\u6570\u7684\u53e6\u5916\u4e00\u79cd\u8868\u8fbe\u5f0f\uff0c\u800c\u6839\u636e\u53f3\u4fa7\u8868\u8fbe\u5f0f\uff0c\u53ef\u4ee5\u5f88\u5bb9\u6613\u7684\u8ba1\u7b97\u51fap(v|h)\u7684sigmoid\u51fd\u6570\u7684\u6fc0\u6d3b\u51fd\u6570\"\"\"\n",
      "        activation_v = self.get_activation_T(h) #activation_v\u662f\u4e00\u4e2a\u548c\u8f93\u5165v\u5f62\u72b6\u76f8\u540c\u76844D-tensor\n",
      "        #batch_size, ch, ar, ac = activation_v.shape\n",
      "        v_mean = T.nnet.sigmoid(activation_v) #\u7531\u4e8esigmoid\u51fd\u6570\u662felement-wise\u7684\uff0c\u6240\u4ee5\u4e0d\u9700\u8981reshape\uff0c\u53ef\u4ee5\u76f4\u63a5\u4ee54D\u5f20\u91cf\u7684\u5f62\u5f0f\u4f5c\u4e3a\u62bd\u6837\u77e9\u9635\n",
      "\n",
      "        return v_mean\n",
      "\n",
      "    #\u6a21\u57575\uff1a\u5229\u7528p(v|h)\u62bd\u6837v\uff0c\u8f93\u5165h\u662f\u4e00\u4e2a4D-tensor\n",
      "    def sample_v_given_h(self, h):\n",
      "        ''' This function infers state of visible units given hidden units '''\n",
      "        v_mean = self.propdown(h)\n",
      "        v_sample = self.theano_rng.binomial(size=v_mean.shape,\n",
      "                                             n=1, p=v_mean,\n",
      "                                             dtype=theano.config.floatX)\n",
      "        return [v_mean, v_sample]\n",
      "\n",
      "    def gibbs_hvh(self, h0_sample):\n",
      "        ''' This function implements one step of Gibbs sampling,\n",
      "            starting from the hidden state'''\n",
      "        v1_mean, v1_sample = self.sample_v_given_h(h0_sample)\n",
      "        h1_mean, pool1_mean, h1_sample, pool1_sample = self.sample_hp_given_v(v1_sample, sample=True)\n",
      "        return [v1_mean, v1_sample, h1_mean, h1_sample, pool1_mean, pool1_sample]\n",
      "\n",
      "    def gibbs_vhv(self, v0_sample):\n",
      "        ''' This function implements one step of Gibbs sampling,\n",
      "            starting from the visible state'''\n",
      "        h0_mean, h0_sample, pool0_mean, pool0_sample = self.sample_hp_given_v(v0_sample, sample=True)\n",
      "        v1_mean, v1_sample = self.sample_v_given_h(T.cast(h0_sample, dtype=theano.config.floatX))\n",
      "        return [h0_mean, h0_sample, pool0_mean, pool0_sample, v1_mean, v1_sample]\n",
      "    \n",
      "    def get_default_cost(self):\n",
      "        return MyCD_energy_scan(k=1)\n",
      "\t\t\t\t\n",
      "\t# interface for pylearn2.model.mlp PretraindLayer\n",
      "    def upward_pass(self, state_below):\n",
      "        \"\"\"\u5411\u4e0a\u5c42\u4f20\u64ad\u7684\u662fpool\u5c42\u7684\u8f93\u51fa\u5747\u503c\"\"\"\n",
      "        return self.sample_hp_given_v(v=state_below, sample=False)[-1]\n",
      "    \n",
      "if __name__ == '__main__':\n",
      "    \n",
      "    from pylearn2.datasets.mnist import MNIST\n",
      "    from pylearn2.training_algorithms.sgd import SGD\n",
      "    from pylearn2.train import Train\n",
      "    from pylearn2.termination_criteria import MonitorBased\n",
      "    from pylearn2.train_extensions.best_params import MonitorBasedSaveBest\n",
      "    from pylearn2.training_algorithms.sgd import MonitorBasedLRAdjuster\n",
      "    from pylearn2.training_algorithms.sgd import MomentumAdjustor\n",
      "    from pylearn2.termination_criteria import EpochCounter\n",
      "\t\n",
      "\t\n",
      "    dsm_train = MNIST(which_set='train', start=0, stop=500, one_hot=True)\n",
      "    dsm_valid = MNIST(which_set='train', start=500, stop=600, one_hot=True)\n",
      "    dsm_test = MNIST(which_set='test', start=0, stop=100, one_hot=True)\n",
      "\t\n",
      "    monitoring_dataset = {'train': dsm_train, 'valid': dsm_valid, 'test': dsm_test}\n",
      "    #monitoring_dataset = {'train': dsm_train}\n",
      "\t\n",
      "    isp = Conv2DSpace(shape=(28, 28), num_channels=1, axes=('b', 'c', 0, 1))\n",
      "    rbm_model = MyConvRBM(input_space=isp, output_channels=1, pool_shape=(4, 4), batch_size=None, detector_axes=('b', 'c', 0, 1), \n",
      "                    kernel_shape=(5, 5), kernel_stride=(1, 1), border_mode='valid', \n",
      "                    transformer=None, h_bias=None, v_bias=None, numpy_rng=None,theano_rng=None)\n",
      "\n",
      "    total_cost = MyCD_energy_scan(k=1)\n",
      "    #total_cost = SumOfCosts(costs=[MyCD_energy_scan(k=1), (1/ 0.05, HonglakLeeSparse(p=0.05))])\n",
      "    \n",
      "    alg = SGD(learning_rate=0.1, cost=None, batch_size=20, init_momentum=None, monitoring_dataset=monitoring_dataset,\n",
      "              termination_criterion=EpochCounter(max_epochs=20))\n",
      "    \n",
      "    #MonitorBasedLRAdjuster(dataset_name='valid'),MomentumAdjustor(start=1, saturate=20, final_momentum=.99)\n",
      "    train = Train(dataset=dsm_train, model=rbm_model, algorithm=alg,\n",
      "            #extensions=[MonitorBasedSaveBest(channel_name='test_recon_error', save_path='my_rbm_1021.pkl')],\n",
      "            save_path='my_crbm_trainsave.pkl',\n",
      "            save_freq=10)\n",
      "    \n",
      "    train.main_loop()\n",
      "    "
     ],
     "language": "python",
     "metadata": {},
     "outputs": [
      {
       "output_type": "stream",
       "stream": "stdout",
       "text": [
        "Parameter and initial learning rate summary:\n"
       ]
      },
      {
       "output_type": "stream",
       "stream": "stdout",
       "text": [
        "\tsgd_params[0]: 0.1\n"
       ]
      },
      {
       "output_type": "stream",
       "stream": "stdout",
       "text": [
        "\th_bias: 0.1\n"
       ]
      },
      {
       "output_type": "stream",
       "stream": "stdout",
       "text": [
        "\tv_bias: 0.1\n"
       ]
      },
      {
       "output_type": "stream",
       "stream": "stdout",
       "text": [
        "Compiling sgd_update...\n"
       ]
      },
      {
       "output_type": "stream",
       "stream": "stdout",
       "text": [
        "Compiling sgd_update done. Time elapsed: 5.000000 seconds\n"
       ]
      },
      {
       "output_type": "stream",
       "stream": "stdout",
       "text": [
        "compiling begin_record_entry...\n"
       ]
      },
      {
       "output_type": "stream",
       "stream": "stdout",
       "text": [
        "compiling begin_record_entry done. Time elapsed: 0.000000 seconds\n"
       ]
      },
      {
       "output_type": "stream",
       "stream": "stdout",
       "text": [
        "Monitored channels: \n"
       ]
      },
      {
       "output_type": "stream",
       "stream": "stdout",
       "text": [
        "\tlearning_rate\n"
       ]
      },
      {
       "output_type": "stream",
       "stream": "stdout",
       "text": [
        "\tmonitor_seconds_per_epoch\n"
       ]
      },
      {
       "output_type": "stream",
       "stream": "stdout",
       "text": [
        "\ttest_recon_error\n"
       ]
      },
      {
       "output_type": "stream",
       "stream": "stdout",
       "text": [
        "\ttrain_recon_error\n"
       ]
      },
      {
       "output_type": "stream",
       "stream": "stdout",
       "text": [
        "\tvalid_recon_error\n"
       ]
      },
      {
       "output_type": "stream",
       "stream": "stdout",
       "text": [
        "Compiling accum...\n"
       ]
      },
      {
       "output_type": "stream",
       "stream": "stdout",
       "text": [
        "graph size: 145\n"
       ]
      },
      {
       "output_type": "stream",
       "stream": "stdout",
       "text": [
        "graph size: 142\n"
       ]
      },
      {
       "output_type": "stream",
       "stream": "stdout",
       "text": [
        "graph size: 142\n"
       ]
      },
      {
       "output_type": "stream",
       "stream": "stdout",
       "text": [
        "Compiling accum done. Time elapsed: 22.000000 seconds\n"
       ]
      },
      {
       "output_type": "stream",
       "stream": "stdout",
       "text": [
        "Monitoring step:\n"
       ]
      },
      {
       "output_type": "stream",
       "stream": "stdout",
       "text": [
        "\tEpochs seen: 0\n"
       ]
      },
      {
       "output_type": "stream",
       "stream": "stdout",
       "text": [
        "\tBatches seen: 0\n"
       ]
      },
      {
       "output_type": "stream",
       "stream": "stdout",
       "text": [
        "\tExamples seen: 0\n"
       ]
      },
      {
       "output_type": "stream",
       "stream": "stdout",
       "text": [
        "\tlearning_rate: 0.1\n"
       ]
      },
      {
       "output_type": "stream",
       "stream": "stdout",
       "text": [
        "\tmonitor_seconds_per_epoch: 0.0\n"
       ]
      },
      {
       "output_type": "stream",
       "stream": "stdout",
       "text": [
        "\ttest_recon_error: 182.232483825\n"
       ]
      },
      {
       "output_type": "stream",
       "stream": "stdout",
       "text": [
        "\ttrain_recon_error: 181.779102452\n"
       ]
      },
      {
       "output_type": "stream",
       "stream": "stdout",
       "text": [
        "\tvalid_recon_error: 181.50917362\n"
       ]
      },
      {
       "output_type": "stream",
       "stream": "stdout",
       "text": [
        "Time this epoch: 0.000000 seconds\n"
       ]
      },
      {
       "output_type": "stream",
       "stream": "stdout",
       "text": [
        "Monitoring step:\n"
       ]
      },
      {
       "output_type": "stream",
       "stream": "stdout",
       "text": [
        "\tEpochs seen: 1\n"
       ]
      },
      {
       "output_type": "stream",
       "stream": "stdout",
       "text": [
        "\tBatches seen: 25\n"
       ]
      },
      {
       "output_type": "stream",
       "stream": "stdout",
       "text": [
        "\tExamples seen: 500\n"
       ]
      },
      {
       "output_type": "stream",
       "stream": "stdout",
       "text": [
        "\tlearning_rate: 0.1\n"
       ]
      },
      {
       "output_type": "stream",
       "stream": "stdout",
       "text": [
        "\tmonitor_seconds_per_epoch: 0.0\n"
       ]
      },
      {
       "output_type": "stream",
       "stream": "stdout",
       "text": [
        "\ttest_recon_error: 79.9035431656\n"
       ]
      },
      {
       "output_type": "stream",
       "stream": "stdout",
       "text": [
        "\ttrain_recon_error: 84.3820683506\n"
       ]
      },
      {
       "output_type": "stream",
       "stream": "stdout",
       "text": [
        "\tvalid_recon_error: 81.4781858944\n"
       ]
      },
      {
       "output_type": "stream",
       "stream": "stdout",
       "text": [
        "Time this epoch: 0.000000 seconds\n"
       ]
      },
      {
       "output_type": "stream",
       "stream": "stdout",
       "text": [
        "Monitoring step:\n"
       ]
      },
      {
       "output_type": "stream",
       "stream": "stdout",
       "text": [
        "\tEpochs seen: 2\n"
       ]
      },
      {
       "output_type": "stream",
       "stream": "stdout",
       "text": [
        "\tBatches seen: 50\n"
       ]
      },
      {
       "output_type": "stream",
       "stream": "stdout",
       "text": [
        "\tExamples seen: 1000\n"
       ]
      },
      {
       "output_type": "stream",
       "stream": "stdout",
       "text": [
        "\tlearning_rate: 0.1\n"
       ]
      },
      {
       "output_type": "stream",
       "stream": "stdout",
       "text": [
        "\tmonitor_seconds_per_epoch: 0.0\n"
       ]
      },
      {
       "output_type": "stream",
       "stream": "stdout",
       "text": [
        "\ttest_recon_error: 79.9035431589\n"
       ]
      },
      {
       "output_type": "stream",
       "stream": "stdout",
       "text": [
        "\ttrain_recon_error: 84.3820683435\n"
       ]
      },
      {
       "output_type": "stream",
       "stream": "stdout",
       "text": [
        "\tvalid_recon_error: 81.4781858876\n"
       ]
      },
      {
       "output_type": "stream",
       "stream": "stdout",
       "text": [
        "Time this epoch: 0.000000 seconds\n"
       ]
      },
      {
       "output_type": "stream",
       "stream": "stdout",
       "text": [
        "Monitoring step:\n"
       ]
      },
      {
       "output_type": "stream",
       "stream": "stdout",
       "text": [
        "\tEpochs seen: 3\n"
       ]
      },
      {
       "output_type": "stream",
       "stream": "stdout",
       "text": [
        "\tBatches seen: 75\n"
       ]
      },
      {
       "output_type": "stream",
       "stream": "stdout",
       "text": [
        "\tExamples seen: 1500\n"
       ]
      },
      {
       "output_type": "stream",
       "stream": "stdout",
       "text": [
        "\tlearning_rate: 0.1\n"
       ]
      },
      {
       "output_type": "stream",
       "stream": "stdout",
       "text": [
        "\tmonitor_seconds_per_epoch: 0.0\n"
       ]
      },
      {
       "output_type": "stream",
       "stream": "stdout",
       "text": [
        "\ttest_recon_error: 79.9035423028\n"
       ]
      },
      {
       "output_type": "stream",
       "stream": "stdout",
       "text": [
        "\ttrain_recon_error: 84.3820674422\n"
       ]
      },
      {
       "output_type": "stream",
       "stream": "stdout",
       "text": [
        "\tvalid_recon_error: 81.4781850105\n"
       ]
      },
      {
       "output_type": "stream",
       "stream": "stdout",
       "text": [
        "Time this epoch: 0.000000 seconds\n"
       ]
      },
      {
       "output_type": "stream",
       "stream": "stdout",
       "text": [
        "Monitoring step:\n"
       ]
      },
      {
       "output_type": "stream",
       "stream": "stdout",
       "text": [
        "\tEpochs seen: 4\n"
       ]
      },
      {
       "output_type": "stream",
       "stream": "stdout",
       "text": [
        "\tBatches seen: 100\n"
       ]
      },
      {
       "output_type": "stream",
       "stream": "stdout",
       "text": [
        "\tExamples seen: 2000\n"
       ]
      },
      {
       "output_type": "stream",
       "stream": "stdout",
       "text": [
        "\tlearning_rate: 0.1\n"
       ]
      },
      {
       "output_type": "stream",
       "stream": "stdout",
       "text": [
        "\tmonitor_seconds_per_epoch: 0.0\n"
       ]
      },
      {
       "output_type": "stream",
       "stream": "stdout",
       "text": [
        "\ttest_recon_error: 79.9035431656\n"
       ]
      },
      {
       "output_type": "stream",
       "stream": "stdout",
       "text": [
        "\ttrain_recon_error: 84.3820683506\n"
       ]
      },
      {
       "output_type": "stream",
       "stream": "stdout",
       "text": [
        "\tvalid_recon_error: 81.4781858944\n"
       ]
      },
      {
       "output_type": "stream",
       "stream": "stdout",
       "text": [
        "Time this epoch: 0.000000 seconds\n"
       ]
      },
      {
       "output_type": "stream",
       "stream": "stdout",
       "text": [
        "Monitoring step:\n"
       ]
      },
      {
       "output_type": "stream",
       "stream": "stdout",
       "text": [
        "\tEpochs seen: 5\n"
       ]
      },
      {
       "output_type": "stream",
       "stream": "stdout",
       "text": [
        "\tBatches seen: 125\n"
       ]
      },
      {
       "output_type": "stream",
       "stream": "stdout",
       "text": [
        "\tExamples seen: 2500\n"
       ]
      },
      {
       "output_type": "stream",
       "stream": "stdout",
       "text": [
        "\tlearning_rate: 0.1\n"
       ]
      },
      {
       "output_type": "stream",
       "stream": "stdout",
       "text": [
        "\tmonitor_seconds_per_epoch: 0.0\n"
       ]
      },
      {
       "output_type": "stream",
       "stream": "stdout",
       "text": [
        "\ttest_recon_error: 79.9035431656\n"
       ]
      },
      {
       "output_type": "stream",
       "stream": "stdout",
       "text": [
        "\ttrain_recon_error: 84.3820683506\n"
       ]
      },
      {
       "output_type": "stream",
       "stream": "stdout",
       "text": [
        "\tvalid_recon_error: 81.4781858944\n"
       ]
      },
      {
       "output_type": "stream",
       "stream": "stdout",
       "text": [
        "Time this epoch: 0.000000 seconds\n"
       ]
      },
      {
       "output_type": "stream",
       "stream": "stdout",
       "text": [
        "Monitoring step:\n"
       ]
      },
      {
       "output_type": "stream",
       "stream": "stdout",
       "text": [
        "\tEpochs seen: 6\n"
       ]
      },
      {
       "output_type": "stream",
       "stream": "stdout",
       "text": [
        "\tBatches seen: 150\n"
       ]
      },
      {
       "output_type": "stream",
       "stream": "stdout",
       "text": [
        "\tExamples seen: 3000\n"
       ]
      },
      {
       "output_type": "stream",
       "stream": "stdout",
       "text": [
        "\tlearning_rate: 0.1\n"
       ]
      },
      {
       "output_type": "stream",
       "stream": "stdout",
       "text": [
        "\tmonitor_seconds_per_epoch: 0.0\n"
       ]
      },
      {
       "output_type": "stream",
       "stream": "stdout",
       "text": [
        "\ttest_recon_error: 79.9035431656\n"
       ]
      },
      {
       "output_type": "stream",
       "stream": "stdout",
       "text": [
        "\ttrain_recon_error: 84.3820683506\n"
       ]
      },
      {
       "output_type": "stream",
       "stream": "stdout",
       "text": [
        "\tvalid_recon_error: 81.4781858944\n"
       ]
      },
      {
       "output_type": "stream",
       "stream": "stdout",
       "text": [
        "Time this epoch: 0.000000 seconds\n"
       ]
      },
      {
       "output_type": "stream",
       "stream": "stdout",
       "text": [
        "Monitoring step:\n"
       ]
      },
      {
       "output_type": "stream",
       "stream": "stdout",
       "text": [
        "\tEpochs seen: 7\n"
       ]
      },
      {
       "output_type": "stream",
       "stream": "stdout",
       "text": [
        "\tBatches seen: 175\n"
       ]
      },
      {
       "output_type": "stream",
       "stream": "stdout",
       "text": [
        "\tExamples seen: 3500\n"
       ]
      },
      {
       "output_type": "stream",
       "stream": "stdout",
       "text": [
        "\tlearning_rate: 0.1\n"
       ]
      },
      {
       "output_type": "stream",
       "stream": "stdout",
       "text": [
        "\tmonitor_seconds_per_epoch: 0.0\n"
       ]
      },
      {
       "output_type": "stream",
       "stream": "stdout",
       "text": [
        "\ttest_recon_error: 79.9035431409\n"
       ]
      },
      {
       "output_type": "stream",
       "stream": "stdout",
       "text": [
        "\ttrain_recon_error: 84.3820683246\n"
       ]
      },
      {
       "output_type": "stream",
       "stream": "stdout",
       "text": [
        "\tvalid_recon_error: 81.4781858691\n"
       ]
      },
      {
       "output_type": "stream",
       "stream": "stdout",
       "text": [
        "Time this epoch: 0.000000 seconds\n"
       ]
      },
      {
       "output_type": "stream",
       "stream": "stdout",
       "text": [
        "Monitoring step:\n"
       ]
      },
      {
       "output_type": "stream",
       "stream": "stdout",
       "text": [
        "\tEpochs seen: 8\n"
       ]
      },
      {
       "output_type": "stream",
       "stream": "stdout",
       "text": [
        "\tBatches seen: 200\n"
       ]
      },
      {
       "output_type": "stream",
       "stream": "stdout",
       "text": [
        "\tExamples seen: 4000\n"
       ]
      },
      {
       "output_type": "stream",
       "stream": "stdout",
       "text": [
        "\tlearning_rate: 0.1\n"
       ]
      },
      {
       "output_type": "stream",
       "stream": "stdout",
       "text": [
        "\tmonitor_seconds_per_epoch: 0.0\n"
       ]
      },
      {
       "output_type": "stream",
       "stream": "stdout",
       "text": [
        "\ttest_recon_error: 75.3141570896\n"
       ]
      },
      {
       "output_type": "stream",
       "stream": "stdout",
       "text": [
        "\ttrain_recon_error: 79.5203010418\n"
       ]
      },
      {
       "output_type": "stream",
       "stream": "stdout",
       "text": [
        "\tvalid_recon_error: 76.762809774\n"
       ]
      },
      {
       "output_type": "stream",
       "stream": "stdout",
       "text": [
        "Time this epoch: 0.000000 seconds\n"
       ]
      },
      {
       "output_type": "stream",
       "stream": "stdout",
       "text": [
        "Monitoring step:\n"
       ]
      },
      {
       "output_type": "stream",
       "stream": "stdout",
       "text": [
        "\tEpochs seen: 9\n"
       ]
      },
      {
       "output_type": "stream",
       "stream": "stdout",
       "text": [
        "\tBatches seen: 225\n"
       ]
      },
      {
       "output_type": "stream",
       "stream": "stdout",
       "text": [
        "\tExamples seen: 4500\n"
       ]
      },
      {
       "output_type": "stream",
       "stream": "stdout",
       "text": [
        "\tlearning_rate: 0.1\n"
       ]
      },
      {
       "output_type": "stream",
       "stream": "stdout",
       "text": [
        "\tmonitor_seconds_per_epoch: 0.0\n"
       ]
      },
      {
       "output_type": "stream",
       "stream": "stdout",
       "text": [
        "\ttest_recon_error: 78.2133168253\n"
       ]
      },
      {
       "output_type": "stream",
       "stream": "stdout",
       "text": [
        "\ttrain_recon_error: 82.599501341\n"
       ]
      },
      {
       "output_type": "stream",
       "stream": "stdout",
       "text": [
        "\tvalid_recon_error: 79.7453668557\n"
       ]
      },
      {
       "output_type": "stream",
       "stream": "stdout",
       "text": [
        "Time this epoch: 0.000000 seconds\n"
       ]
      },
      {
       "output_type": "stream",
       "stream": "stdout",
       "text": [
        "Monitoring step:\n"
       ]
      },
      {
       "output_type": "stream",
       "stream": "stdout",
       "text": [
        "\tEpochs seen: 10\n"
       ]
      },
      {
       "output_type": "stream",
       "stream": "stdout",
       "text": [
        "\tBatches seen: 250\n"
       ]
      },
      {
       "output_type": "stream",
       "stream": "stdout",
       "text": [
        "\tExamples seen: 5000\n"
       ]
      },
      {
       "output_type": "stream",
       "stream": "stdout",
       "text": [
        "\tlearning_rate: 0.1\n"
       ]
      },
      {
       "output_type": "stream",
       "stream": "stdout",
       "text": [
        "\tmonitor_seconds_per_epoch: 0.0\n"
       ]
      },
      {
       "output_type": "stream",
       "stream": "stdout",
       "text": [
        "\ttest_recon_error: 673.965649666\n"
       ]
      },
      {
       "output_type": "stream",
       "stream": "stdout",
       "text": [
        "\ttrain_recon_error: 668.581817547\n"
       ]
      },
      {
       "output_type": "stream",
       "stream": "stdout",
       "text": [
        "\tvalid_recon_error: 670.978857635\n"
       ]
      },
      {
       "output_type": "stream",
       "stream": "stdout",
       "text": [
        "Saving to my_crbm_trainsave.pkl...\n"
       ]
      },
      {
       "output_type": "stream",
       "stream": "stdout",
       "text": [
        "Saving to my_crbm_trainsave.pkl done. Time elapsed: 0.000000 seconds\n"
       ]
      },
      {
       "output_type": "stream",
       "stream": "stdout",
       "text": [
        "Time this epoch: 0.000000 seconds\n"
       ]
      },
      {
       "output_type": "stream",
       "stream": "stdout",
       "text": [
        "Monitoring step:\n"
       ]
      },
      {
       "output_type": "stream",
       "stream": "stdout",
       "text": [
        "\tEpochs seen: 11\n"
       ]
      },
      {
       "output_type": "stream",
       "stream": "stdout",
       "text": [
        "\tBatches seen: 275\n"
       ]
      },
      {
       "output_type": "stream",
       "stream": "stdout",
       "text": [
        "\tExamples seen: 5500\n"
       ]
      },
      {
       "output_type": "stream",
       "stream": "stdout",
       "text": [
        "\tlearning_rate: 0.1\n"
       ]
      },
      {
       "output_type": "stream",
       "stream": "stdout",
       "text": [
        "\tmonitor_seconds_per_epoch: 0.0\n"
       ]
      },
      {
       "output_type": "stream",
       "stream": "stdout",
       "text": [
        "\ttest_recon_error: 224.044988685\n"
       ]
      },
      {
       "output_type": "stream",
       "stream": "stdout",
       "text": [
        "\ttrain_recon_error: 222.872010382\n"
       ]
      },
      {
       "output_type": "stream",
       "stream": "stdout",
       "text": [
        "\tvalid_recon_error: 222.980556167\n"
       ]
      },
      {
       "output_type": "stream",
       "stream": "stdout",
       "text": [
        "Time this epoch: 0.000000 seconds\n"
       ]
      },
      {
       "output_type": "stream",
       "stream": "stdout",
       "text": [
        "Monitoring step:\n"
       ]
      },
      {
       "output_type": "stream",
       "stream": "stdout",
       "text": [
        "\tEpochs seen: 12\n"
       ]
      },
      {
       "output_type": "stream",
       "stream": "stdout",
       "text": [
        "\tBatches seen: 300\n"
       ]
      },
      {
       "output_type": "stream",
       "stream": "stdout",
       "text": [
        "\tExamples seen: 6000\n"
       ]
      },
      {
       "output_type": "stream",
       "stream": "stdout",
       "text": [
        "\tlearning_rate: 0.1\n"
       ]
      },
      {
       "output_type": "stream",
       "stream": "stdout",
       "text": [
        "\tmonitor_seconds_per_epoch: 0.0\n"
       ]
      },
      {
       "output_type": "stream",
       "stream": "stdout",
       "text": [
        "\ttest_recon_error: 77.0247519667\n"
       ]
      },
      {
       "output_type": "stream",
       "stream": "stdout",
       "text": [
        "\ttrain_recon_error: 81.340955632\n"
       ]
      },
      {
       "output_type": "stream",
       "stream": "stdout",
       "text": [
        "\tvalid_recon_error: 78.5243282411\n"
       ]
      },
      {
       "output_type": "stream",
       "stream": "stdout",
       "text": [
        "Time this epoch: 0.000000 seconds\n"
       ]
      },
      {
       "output_type": "stream",
       "stream": "stdout",
       "text": [
        "Monitoring step:\n"
       ]
      },
      {
       "output_type": "stream",
       "stream": "stdout",
       "text": [
        "\tEpochs seen: 13\n"
       ]
      },
      {
       "output_type": "stream",
       "stream": "stdout",
       "text": [
        "\tBatches seen: 325\n"
       ]
      },
      {
       "output_type": "stream",
       "stream": "stdout",
       "text": [
        "\tExamples seen: 6500\n"
       ]
      },
      {
       "output_type": "stream",
       "stream": "stdout",
       "text": [
        "\tlearning_rate: 0.1\n"
       ]
      },
      {
       "output_type": "stream",
       "stream": "stdout",
       "text": [
        "\tmonitor_seconds_per_epoch: 0.0\n"
       ]
      },
      {
       "output_type": "stream",
       "stream": "stdout",
       "text": [
        "\ttest_recon_error: 668.606704886\n"
       ]
      },
      {
       "output_type": "stream",
       "stream": "stdout",
       "text": [
        "\ttrain_recon_error: 663.256222073\n"
       ]
      },
      {
       "output_type": "stream",
       "stream": "stdout",
       "text": [
        "\tvalid_recon_error: 665.645518321\n"
       ]
      },
      {
       "output_type": "stream",
       "stream": "stdout",
       "text": [
        "Time this epoch: 0.000000 seconds\n"
       ]
      },
      {
       "output_type": "stream",
       "stream": "stdout",
       "text": [
        "Monitoring step:\n"
       ]
      },
      {
       "output_type": "stream",
       "stream": "stdout",
       "text": [
        "\tEpochs seen: 14\n"
       ]
      },
      {
       "output_type": "stream",
       "stream": "stdout",
       "text": [
        "\tBatches seen: 350\n"
       ]
      },
      {
       "output_type": "stream",
       "stream": "stdout",
       "text": [
        "\tExamples seen: 7000\n"
       ]
      },
      {
       "output_type": "stream",
       "stream": "stdout",
       "text": [
        "\tlearning_rate: 0.1\n"
       ]
      },
      {
       "output_type": "stream",
       "stream": "stdout",
       "text": [
        "\tmonitor_seconds_per_epoch: 0.0\n"
       ]
      },
      {
       "output_type": "stream",
       "stream": "stdout",
       "text": [
        "\ttest_recon_error: 79.9034845517\n"
       ]
      },
      {
       "output_type": "stream",
       "stream": "stdout",
       "text": [
        "\ttrain_recon_error: 84.3820066584\n"
       ]
      },
      {
       "output_type": "stream",
       "stream": "stdout",
       "text": [
        "\tvalid_recon_error: 81.4781258551\n"
       ]
      },
      {
       "output_type": "stream",
       "stream": "stdout",
       "text": [
        "Time this epoch: 0.000000 seconds\n"
       ]
      },
      {
       "output_type": "stream",
       "stream": "stdout",
       "text": [
        "Monitoring step:\n"
       ]
      },
      {
       "output_type": "stream",
       "stream": "stdout",
       "text": [
        "\tEpochs seen: 15\n"
       ]
      },
      {
       "output_type": "stream",
       "stream": "stdout",
       "text": [
        "\tBatches seen: 375\n"
       ]
      },
      {
       "output_type": "stream",
       "stream": "stdout",
       "text": [
        "\tExamples seen: 7500\n"
       ]
      },
      {
       "output_type": "stream",
       "stream": "stdout",
       "text": [
        "\tlearning_rate: 0.1\n"
       ]
      },
      {
       "output_type": "stream",
       "stream": "stdout",
       "text": [
        "\tmonitor_seconds_per_epoch: 0.0\n"
       ]
      },
      {
       "output_type": "stream",
       "stream": "stdout",
       "text": [
        "\ttest_recon_error: 124.364647397\n"
       ]
      },
      {
       "output_type": "stream",
       "stream": "stdout",
       "text": [
        "\ttrain_recon_error: 125.078055997\n"
       ]
      },
      {
       "output_type": "stream",
       "stream": "stdout",
       "text": [
        "\tvalid_recon_error: 124.202922825\n"
       ]
      },
      {
       "output_type": "stream",
       "stream": "stdout",
       "text": [
        "Time this epoch: 0.000000 seconds\n"
       ]
      },
      {
       "output_type": "stream",
       "stream": "stdout",
       "text": [
        "Monitoring step:\n"
       ]
      },
      {
       "output_type": "stream",
       "stream": "stdout",
       "text": [
        "\tEpochs seen: 16\n"
       ]
      },
      {
       "output_type": "stream",
       "stream": "stdout",
       "text": [
        "\tBatches seen: 400\n"
       ]
      },
      {
       "output_type": "stream",
       "stream": "stdout",
       "text": [
        "\tExamples seen: 8000\n"
       ]
      },
      {
       "output_type": "stream",
       "stream": "stdout",
       "text": [
        "\tlearning_rate: 0.1\n"
       ]
      },
      {
       "output_type": "stream",
       "stream": "stdout",
       "text": [
        "\tmonitor_seconds_per_epoch: 0.0\n"
       ]
      },
      {
       "output_type": "stream",
       "stream": "stdout",
       "text": [
        "\ttest_recon_error: 74.1413690965\n"
       ]
      },
      {
       "output_type": "stream",
       "stream": "stdout",
       "text": [
        "\ttrain_recon_error: 78.26305084\n"
       ]
      },
      {
       "output_type": "stream",
       "stream": "stdout",
       "text": [
        "\tvalid_recon_error: 75.5503522575\n"
       ]
      },
      {
       "output_type": "stream",
       "stream": "stdout",
       "text": [
        "Time this epoch: 0.000000 seconds\n"
       ]
      },
      {
       "output_type": "stream",
       "stream": "stdout",
       "text": [
        "Monitoring step:\n"
       ]
      },
      {
       "output_type": "stream",
       "stream": "stdout",
       "text": [
        "\tEpochs seen: 17\n"
       ]
      },
      {
       "output_type": "stream",
       "stream": "stdout",
       "text": [
        "\tBatches seen: 425\n"
       ]
      },
      {
       "output_type": "stream",
       "stream": "stdout",
       "text": [
        "\tExamples seen: 8500\n"
       ]
      },
      {
       "output_type": "stream",
       "stream": "stdout",
       "text": [
        "\tlearning_rate: 0.1\n"
       ]
      },
      {
       "output_type": "stream",
       "stream": "stdout",
       "text": [
        "\tmonitor_seconds_per_epoch: 0.0\n"
       ]
      },
      {
       "output_type": "stream",
       "stream": "stdout",
       "text": [
        "\ttest_recon_error: 79.9035431656\n"
       ]
      },
      {
       "output_type": "stream",
       "stream": "stdout",
       "text": [
        "\ttrain_recon_error: 84.3820683506\n"
       ]
      },
      {
       "output_type": "stream",
       "stream": "stdout",
       "text": [
        "\tvalid_recon_error: 81.4781858944\n"
       ]
      },
      {
       "ename": "KeyboardInterrupt",
       "evalue": "",
       "output_type": "pyerr",
       "traceback": [
        "\u001b[0;31m---------------------------------------------------------------------------\u001b[0m\n\u001b[0;31mKeyboardInterrupt\u001b[0m                         Traceback (most recent call last)",
        "\u001b[0;32m<ipython-input-14-8248848f8fb9>\u001b[0m in \u001b[0;36m<module>\u001b[0;34m()\u001b[0m\n\u001b[1;32m    393\u001b[0m             save_freq=10)\n\u001b[1;32m    394\u001b[0m \u001b[0;34m\u001b[0m\u001b[0m\n\u001b[0;32m--> 395\u001b[0;31m     \u001b[0mtrain\u001b[0m\u001b[0;34m.\u001b[0m\u001b[0mmain_loop\u001b[0m\u001b[0;34m(\u001b[0m\u001b[0;34m)\u001b[0m\u001b[0;34m\u001b[0m\u001b[0m\n\u001b[0m\u001b[1;32m    396\u001b[0m \u001b[0;34m\u001b[0m\u001b[0m\n",
        "\u001b[0;32m/usr/local/lib/python2.7/dist-packages/pylearn2/train.py\u001b[0m in \u001b[0;36mmain_loop\u001b[0;34m(self)\u001b[0m\n\u001b[1;32m    135\u001b[0m                 with log_timing(log, None, final_msg='Time this epoch:',\n\u001b[1;32m    136\u001b[0m                                 callbacks=[self.monitor_time.set_value]):\n\u001b[0;32m--> 137\u001b[0;31m                     \u001b[0mrval\u001b[0m \u001b[0;34m=\u001b[0m \u001b[0mself\u001b[0m\u001b[0;34m.\u001b[0m\u001b[0malgorithm\u001b[0m\u001b[0;34m.\u001b[0m\u001b[0mtrain\u001b[0m\u001b[0;34m(\u001b[0m\u001b[0mdataset\u001b[0m\u001b[0;34m=\u001b[0m\u001b[0mself\u001b[0m\u001b[0;34m.\u001b[0m\u001b[0mdataset\u001b[0m\u001b[0;34m)\u001b[0m\u001b[0;34m\u001b[0m\u001b[0m\n\u001b[0m\u001b[1;32m    138\u001b[0m                 \u001b[0;32mif\u001b[0m \u001b[0mrval\u001b[0m \u001b[0;32mis\u001b[0m \u001b[0;32mnot\u001b[0m \u001b[0mNone\u001b[0m\u001b[0;34m:\u001b[0m\u001b[0;34m\u001b[0m\u001b[0m\n\u001b[1;32m    139\u001b[0m                     \u001b[0;32mraise\u001b[0m \u001b[0mValueError\u001b[0m\u001b[0;34m(\u001b[0m\u001b[0;34m\"TrainingAlgorithm.train should not return anything. Use TrainingAlgorithm.continue_learning to control whether learning continues.\"\u001b[0m\u001b[0;34m)\u001b[0m\u001b[0;34m\u001b[0m\u001b[0m\n",
        "\u001b[0;32m/usr/local/lib/python2.7/dist-packages/pylearn2/training_algorithms/sgd.py\u001b[0m in \u001b[0;36mtrain\u001b[0;34m(self, dataset)\u001b[0m\n\u001b[1;32m    324\u001b[0m             \u001b[0;32mfor\u001b[0m \u001b[0mcallback\u001b[0m \u001b[0;32min\u001b[0m \u001b[0mon_load_batch\u001b[0m\u001b[0;34m:\u001b[0m\u001b[0;34m\u001b[0m\u001b[0m\n\u001b[1;32m    325\u001b[0m                 \u001b[0mcallback\u001b[0m\u001b[0;34m(\u001b[0m\u001b[0mmapping\u001b[0m\u001b[0;34m.\u001b[0m\u001b[0mnest\u001b[0m\u001b[0;34m(\u001b[0m\u001b[0mbatch\u001b[0m\u001b[0;34m)\u001b[0m\u001b[0;34m)\u001b[0m\u001b[0;34m\u001b[0m\u001b[0m\n\u001b[0;32m--> 326\u001b[0;31m             \u001b[0mself\u001b[0m\u001b[0;34m.\u001b[0m\u001b[0msgd_update\u001b[0m\u001b[0;34m(\u001b[0m\u001b[0;34m*\u001b[0m\u001b[0mbatch\u001b[0m\u001b[0;34m)\u001b[0m\u001b[0;34m\u001b[0m\u001b[0m\n\u001b[0m\u001b[1;32m    327\u001b[0m             \u001b[0;31m# iterator might return a smaller batch if dataset size\u001b[0m\u001b[0;34m\u001b[0m\u001b[0;34m\u001b[0m\u001b[0m\n\u001b[1;32m    328\u001b[0m             \u001b[0;31m# isn't divisible by batch_size\u001b[0m\u001b[0;34m\u001b[0m\u001b[0;34m\u001b[0m\u001b[0m\n",
        "\u001b[0;32m/usr/local/lib/python2.7/dist-packages/theano/compile/function_module.pyc\u001b[0m in \u001b[0;36m__call__\u001b[0;34m(self, *args, **kwargs)\u001b[0m\n\u001b[1;32m    578\u001b[0m         \u001b[0mt0_fn\u001b[0m \u001b[0;34m=\u001b[0m \u001b[0mtime\u001b[0m\u001b[0;34m.\u001b[0m\u001b[0mtime\u001b[0m\u001b[0;34m(\u001b[0m\u001b[0;34m)\u001b[0m\u001b[0;34m\u001b[0m\u001b[0m\n\u001b[1;32m    579\u001b[0m         \u001b[0;32mtry\u001b[0m\u001b[0;34m:\u001b[0m\u001b[0;34m\u001b[0m\u001b[0m\n\u001b[0;32m--> 580\u001b[0;31m             \u001b[0moutputs\u001b[0m \u001b[0;34m=\u001b[0m \u001b[0mself\u001b[0m\u001b[0;34m.\u001b[0m\u001b[0mfn\u001b[0m\u001b[0;34m(\u001b[0m\u001b[0;34m)\u001b[0m\u001b[0;34m\u001b[0m\u001b[0m\n\u001b[0m\u001b[1;32m    581\u001b[0m         \u001b[0;32mexcept\u001b[0m \u001b[0mException\u001b[0m\u001b[0;34m:\u001b[0m\u001b[0;34m\u001b[0m\u001b[0m\n\u001b[1;32m    582\u001b[0m             \u001b[0;32mif\u001b[0m \u001b[0mhasattr\u001b[0m\u001b[0;34m(\u001b[0m\u001b[0mself\u001b[0m\u001b[0;34m.\u001b[0m\u001b[0mfn\u001b[0m\u001b[0;34m,\u001b[0m \u001b[0;34m'position_of_error'\u001b[0m\u001b[0;34m)\u001b[0m\u001b[0;34m:\u001b[0m\u001b[0;34m\u001b[0m\u001b[0m\n",
        "\u001b[0;32m/usr/local/lib/python2.7/dist-packages/theano/gof/op.pyc\u001b[0m in \u001b[0;36mrval\u001b[0;34m(p, i, o, n)\u001b[0m\n\u001b[1;32m    604\u001b[0m \u001b[0;34m\u001b[0m\u001b[0m\n\u001b[1;32m    605\u001b[0m         \u001b[0;32mdef\u001b[0m \u001b[0mrval\u001b[0m\u001b[0;34m(\u001b[0m\u001b[0mp\u001b[0m\u001b[0;34m=\u001b[0m\u001b[0mp\u001b[0m\u001b[0;34m,\u001b[0m \u001b[0mi\u001b[0m\u001b[0;34m=\u001b[0m\u001b[0mnode_input_storage\u001b[0m\u001b[0;34m,\u001b[0m \u001b[0mo\u001b[0m\u001b[0;34m=\u001b[0m\u001b[0mnode_output_storage\u001b[0m\u001b[0;34m,\u001b[0m \u001b[0mn\u001b[0m\u001b[0;34m=\u001b[0m\u001b[0mnode\u001b[0m\u001b[0;34m)\u001b[0m\u001b[0;34m:\u001b[0m\u001b[0;34m\u001b[0m\u001b[0m\n\u001b[0;32m--> 606\u001b[0;31m             \u001b[0mr\u001b[0m \u001b[0;34m=\u001b[0m \u001b[0mp\u001b[0m\u001b[0;34m(\u001b[0m\u001b[0mn\u001b[0m\u001b[0;34m,\u001b[0m \u001b[0;34m[\u001b[0m\u001b[0mx\u001b[0m\u001b[0;34m[\u001b[0m\u001b[0;36m0\u001b[0m\u001b[0;34m]\u001b[0m \u001b[0;32mfor\u001b[0m \u001b[0mx\u001b[0m \u001b[0;32min\u001b[0m \u001b[0mi\u001b[0m\u001b[0;34m]\u001b[0m\u001b[0;34m,\u001b[0m \u001b[0mo\u001b[0m\u001b[0;34m)\u001b[0m\u001b[0;34m\u001b[0m\u001b[0m\n\u001b[0m\u001b[1;32m    607\u001b[0m             \u001b[0;32mfor\u001b[0m \u001b[0mo\u001b[0m \u001b[0;32min\u001b[0m \u001b[0mnode\u001b[0m\u001b[0;34m.\u001b[0m\u001b[0moutputs\u001b[0m\u001b[0;34m:\u001b[0m\u001b[0;34m\u001b[0m\u001b[0m\n\u001b[1;32m    608\u001b[0m                 \u001b[0mcompute_map\u001b[0m\u001b[0;34m[\u001b[0m\u001b[0mo\u001b[0m\u001b[0;34m]\u001b[0m\u001b[0;34m[\u001b[0m\u001b[0;36m0\u001b[0m\u001b[0;34m]\u001b[0m \u001b[0;34m=\u001b[0m \u001b[0mTrue\u001b[0m\u001b[0;34m\u001b[0m\u001b[0m\n",
        "\u001b[0;32m/usr/local/lib/python2.7/dist-packages/theano/tensor/raw_random.pyc\u001b[0m in \u001b[0;36mperform\u001b[0;34m(self, node, inputs, out_)\u001b[0m\n\u001b[1;32m    222\u001b[0m             \u001b[0mr\u001b[0m \u001b[0;34m=\u001b[0m \u001b[0mcopy\u001b[0m\u001b[0;34m(\u001b[0m\u001b[0mr\u001b[0m\u001b[0;34m)\u001b[0m\u001b[0;34m\u001b[0m\u001b[0m\n\u001b[1;32m    223\u001b[0m         \u001b[0mrout\u001b[0m\u001b[0;34m[\u001b[0m\u001b[0;36m0\u001b[0m\u001b[0;34m]\u001b[0m \u001b[0;34m=\u001b[0m \u001b[0mr\u001b[0m\u001b[0;34m\u001b[0m\u001b[0m\n\u001b[0;32m--> 224\u001b[0;31m         \u001b[0mrval\u001b[0m \u001b[0;34m=\u001b[0m \u001b[0mself\u001b[0m\u001b[0;34m.\u001b[0m\u001b[0mfn\u001b[0m\u001b[0;34m(\u001b[0m\u001b[0mr\u001b[0m\u001b[0;34m,\u001b[0m \u001b[0;34m*\u001b[0m\u001b[0;34m(\u001b[0m\u001b[0margs\u001b[0m \u001b[0;34m+\u001b[0m \u001b[0;34m[\u001b[0m\u001b[0mshape\u001b[0m\u001b[0;34m]\u001b[0m\u001b[0;34m)\u001b[0m\u001b[0;34m)\u001b[0m\u001b[0;34m\u001b[0m\u001b[0m\n\u001b[0m\u001b[1;32m    225\u001b[0m         \u001b[0;32mif\u001b[0m \u001b[0;32mnot\u001b[0m \u001b[0misinstance\u001b[0m\u001b[0;34m(\u001b[0m\u001b[0mrval\u001b[0m\u001b[0;34m,\u001b[0m \u001b[0mnumpy\u001b[0m\u001b[0;34m.\u001b[0m\u001b[0mndarray\u001b[0m\u001b[0;34m)\u001b[0m\u001b[0;31m \u001b[0m\u001b[0;31m\\\u001b[0m\u001b[0;34m\u001b[0m\u001b[0m\n\u001b[1;32m    226\u001b[0m                \u001b[0;32mor\u001b[0m \u001b[0mstr\u001b[0m\u001b[0;34m(\u001b[0m\u001b[0mrval\u001b[0m\u001b[0;34m.\u001b[0m\u001b[0mdtype\u001b[0m\u001b[0;34m)\u001b[0m \u001b[0;34m!=\u001b[0m \u001b[0mnode\u001b[0m\u001b[0;34m.\u001b[0m\u001b[0moutputs\u001b[0m\u001b[0;34m[\u001b[0m\u001b[0;36m1\u001b[0m\u001b[0;34m]\u001b[0m\u001b[0;34m.\u001b[0m\u001b[0mtype\u001b[0m\u001b[0;34m.\u001b[0m\u001b[0mdtype\u001b[0m\u001b[0;34m:\u001b[0m\u001b[0;34m\u001b[0m\u001b[0m\n",
        "\u001b[0;32m/usr/local/lib/python2.7/dist-packages/theano/tensor/raw_random.pyc\u001b[0m in \u001b[0;36mmultinomial_helper\u001b[0;34m(random_state, n, pvals, size)\u001b[0m\n\u001b[1;32m    691\u001b[0m         \u001b[0;32massert\u001b[0m \u001b[0mpisum\u001b[0m \u001b[0;34m<=\u001b[0m \u001b[0;36m1.0\u001b[0m\u001b[0;34m,\u001b[0m \u001b[0mpisum\u001b[0m\u001b[0;34m\u001b[0m\u001b[0m\n\u001b[1;32m    692\u001b[0m         out[mi] = random_state.multinomial(n=n[ni],\n\u001b[0;32m--> 693\u001b[0;31m                                            pvals=pvi.astype('float64'))\n\u001b[0m\u001b[1;32m    694\u001b[0m     \u001b[0;32mreturn\u001b[0m \u001b[0mout\u001b[0m\u001b[0;34m\u001b[0m\u001b[0m\n\u001b[1;32m    695\u001b[0m \u001b[0;34m\u001b[0m\u001b[0m\n",
        "\u001b[0;31mKeyboardInterrupt\u001b[0m: "
       ]
      }
     ],
     "prompt_number": 14
    },
    {
     "cell_type": "code",
     "collapsed": false,
     "input": [],
     "language": "python",
     "metadata": {},
     "outputs": []
    }
   ],
   "metadata": {}
  }
 ]
}