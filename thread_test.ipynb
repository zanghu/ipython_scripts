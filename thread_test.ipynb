{
 "metadata": {
  "name": "thread_test"
 },
 "nbformat": 3,
 "nbformat_minor": 0,
 "worksheets": [
  {
   "cells": [
    {
     "cell_type": "code",
     "collapsed": false,
     "input": [
      "import time\n",
      "import sys\n",
      "import thread\n",
      "\n",
      "def loop0():\n",
      "    \"\"\"\"\"\"\n",
      "    print 'start loop 0 at:%s' % time.ctime()\n",
      "    sys.stdout.flush()\n",
      "    time.sleep(4)\n",
      "    print 'loop 0 done at:%s' % time.ctime()\n",
      "    sys.stdout.flush()\n",
      "\n",
      "def loop1():\n",
      "    \"\"\"\"\"\"\n",
      "    print 'start loop 1 at:%s' % time.ctime()\n",
      "    sys.stdout.flush()\n",
      "    time.sleep(2)\n",
      "    print 'loop 1 done at:%s' % time.ctime()\n",
      "    sys.stdout.flush()\n",
      "    \n",
      "def main():\n",
      "    \"\"\"\"\"\"\n",
      "    print 'starting at:%s' % time.ctime()\n",
      "    sys.stdout.flush()\n",
      "    thread.start_new_thread(loop0, ())\n",
      "    thread.start_new_thread(loop1, ())\n",
      "    time.sleep(6)\n",
      "    print 'all DONE at:%s' % time.ctime()\n",
      "    sys.stdout.flush()\n",
      "    \n",
      "if __name__ == '__main__':\n",
      "    main()"
     ],
     "language": "python",
     "metadata": {},
     "outputs": [
      {
       "output_type": "stream",
       "stream": "stdout",
       "text": [
        "starting at:Mon Feb 17 21:19:22 2014\n"
       ]
      },
      {
       "output_type": "stream",
       "stream": "stdout",
       "text": [
        "start loop 1 at:Mon Feb 17 21:19:22 2014\n"
       ]
      },
      {
       "output_type": "stream",
       "stream": "stdout",
       "text": [
        "start loop 0 at:Mon Feb 17 21:19:22 2014\n"
       ]
      },
      {
       "output_type": "stream",
       "stream": "stdout",
       "text": [
        "loop 1 done at:Mon Feb 17 21:19:24 2014\n"
       ]
      },
      {
       "output_type": "stream",
       "stream": "stdout",
       "text": [
        "loop 0 done at:Mon Feb 17 21:19:26 2014\n"
       ]
      },
      {
       "output_type": "stream",
       "stream": "stdout",
       "text": [
        "all DONE at:Mon Feb 17 21:19:28 2014\n"
       ]
      }
     ],
     "prompt_number": 26
    },
    {
     "cell_type": "code",
     "collapsed": false,
     "input": [
      "def say(a, b):\n",
      "    print a, b\n",
      "apply(say, (\"hello\", \"123\"))"
     ],
     "language": "python",
     "metadata": {},
     "outputs": [
      {
       "output_type": "stream",
       "stream": "stdout",
       "text": [
        "hello 123\n"
       ]
      }
     ],
     "prompt_number": 17
    },
    {
     "cell_type": "code",
     "collapsed": false,
     "input": [
      "import thread\n",
      "import time\n",
      "import sys\n",
      "\n",
      "loops = [4, 2]\n",
      "\n",
      "def loop(nloop, nsec, lock):\n",
      "    \"\"\"\"\"\"\n",
      "    print 'start loop %d at:%s' % (nloop, time.ctime())\n",
      "    time.sleep(nsec)\n",
      "    print 'loop %s donw at:%s' % (nloop, time.ctime())\n",
      "    lock.release()\n",
      "    \n",
      "def main():\n",
      "    \"\"\"\"\"\"\n",
      "    print 'starting at:%s' % time.ctime()\n",
      "    locks = []\n",
      "    nloops = range(len(loops))\n",
      "    \n",
      "    for i in nloops:\n",
      "        lock = thread.allocate_lock()\n",
      "        lock.acquire()\n",
      "        locks.append(lock)\n",
      "        \n",
      "    for i in nloops:\n",
      "        thread.start_new_thread(loop, (i, loops[i], locks[i]))\n",
      "        \n",
      "    for i in nloops:\n",
      "        while locks[i].locked():\n",
      "            pass\n",
      "    print 'all DONE at:%s' % time.ctime()\n",
      "    \n",
      "if __name__ == '__main__':\n",
      "    main()"
     ],
     "language": "python",
     "metadata": {},
     "outputs": [
      {
       "output_type": "stream",
       "stream": "stdout",
       "text": [
        "starting at:Mon Feb 17 21:32:08 2014\n",
        "start loop 1 at:Mon Feb 17 21:32:08 2014\n",
        "start loop 0 at:Mon Feb 17 21:32:08 2014\n",
        "loop 1 donw at:Mon Feb 17 21:32:10 2014"
       ]
      },
      {
       "output_type": "stream",
       "stream": "stdout",
       "text": [
        "\n",
        "loop 0 donw at:Mon Feb 17 21:32:12 2014"
       ]
      },
      {
       "output_type": "stream",
       "stream": "stdout",
       "text": [
        "\n",
        "all DONE at:Mon Feb 17 21:32:12 2014\n"
       ]
      }
     ],
     "prompt_number": 27
    },
    {
     "cell_type": "raw",
     "metadata": {},
     "source": [
      "1.\u521b\u5efa\u4e00\u4e2aThread\u7684\u5b9e\u4f8b\uff0c\u4f20\u7ed9\u5b83\u4e00\u4e2a\u51fd\u6570"
     ]
    },
    {
     "cell_type": "code",
     "collapsed": false,
     "input": [
      "import threading\n",
      "import time\n",
      "import sys\n",
      "\n",
      "loops = [4, 3, 2]\n",
      "\n",
      "def loop(nloop, nsec):\n",
      "    \"\"\"\"\"\"\n",
      "    print 'start loop %s at:%s' % (nloop, time.ctime())\n",
      "    sys.stdout.flush()\n",
      "    time.sleep(nsec)\n",
      "    print 'loop %d done at:%s' % (nloop, time.ctime())\n",
      "    sys.stdout.flush()\n",
      "    \n",
      "def main():\n",
      "    \"\"\"\"\"\"\n",
      "    print 'starting at:%s' % time.ctime()\n",
      "    sys.stdout.flush()\n",
      "    threads = []\n",
      "    nloops = range(len(loops))\n",
      "    \n",
      "    for i in  nloops:\n",
      "        t = threading.Thread(target=loop, args=(i, loops[i]))\n",
      "        threads.append(t)\n",
      "        \n",
      "    for i in nloops:\n",
      "        threads[i].start()\n",
      "        \n",
      "    for i in nloops:\n",
      "        threads[i].join()\n",
      "    \n",
      "    print 'all DONE at:%s' % time.ctime()\n",
      "    sys.stdout.flush()\n",
      "    \n",
      "if __name__ == '__main__':\n",
      "    main()"
     ],
     "language": "python",
     "metadata": {},
     "outputs": [
      {
       "output_type": "stream",
       "stream": "stdout",
       "text": [
        "starting at:Mon Feb 17 22:18:46 2014\n"
       ]
      },
      {
       "output_type": "stream",
       "stream": "stdout",
       "text": [
        "start loop 0 at:Mon Feb 17 22:18:46 2014\n"
       ]
      },
      {
       "output_type": "stream",
       "stream": "stdout",
       "text": [
        "start loop 1 at:Mon Feb 17 22:18:46 2014\n"
       ]
      },
      {
       "output_type": "stream",
       "stream": "stdout",
       "text": [
        "start loop 2 at:Mon Feb 17 22:18:46 2014\n"
       ]
      },
      {
       "output_type": "stream",
       "stream": "stdout",
       "text": [
        "loop 2 done at:Mon Feb 17 22:18:48 2014\n"
       ]
      },
      {
       "output_type": "stream",
       "stream": "stdout",
       "text": [
        "loop 1 done at:Mon Feb 17 22:18:49 2014\n"
       ]
      },
      {
       "output_type": "stream",
       "stream": "stdout",
       "text": [
        "loop 0 done at:Mon Feb 17 22:18:50 2014\n"
       ]
      },
      {
       "output_type": "stream",
       "stream": "stdout",
       "text": [
        "all DONE at:Mon Feb 17 22:18:50 2014\n"
       ]
      }
     ],
     "prompt_number": 4
    },
    {
     "cell_type": "raw",
     "metadata": {},
     "source": [
      "2.\u521b\u5efa\u4e00\u4e2aThread\u7684\u5b9e\u4f8b\uff0c\u4f20\u7ed9\u5b83\u4e00\u4e2a\u53ef\u8c03\u7528\u7684\u7c7b\u5bf9\u8c61"
     ]
    },
    {
     "cell_type": "code",
     "collapsed": false,
     "input": [
      "import threading\n",
      "import time\n",
      "import sys\n",
      "\n",
      "loops = [4, 2]\n",
      "\n",
      "class ThreadFunc(object):\n",
      "    \n",
      "    def __init__(self, func, args, name=''):\n",
      "        \"\"\"\"\"\"\n",
      "        #self.name = name\n",
      "        #self.func = func\n",
      "        #self.args = args\n",
      "        self.__dict__.update(locals())\n",
      "        del self.self\n",
      "        \n",
      "    def __call__(self):\n",
      "        \"\"\"\"\"\"\n",
      "        apply(self.func, self.args)\n",
      "        \n",
      "def loop(nloop, nsec):\n",
      "    \"\"\"\"\"\"\n",
      "    print 'start loop %d at:%s' % (nloop, time.ctime())\n",
      "    sys.stdout.flush()\n",
      "    time.sleep(nsec)\n",
      "    print 'loop %d DONE at:%s' % (nloop, time.ctime())\n",
      "    sys.stdout.flush()\n",
      "    \n",
      "def main():\n",
      "    \"\"\"\"\"\"\n",
      "    print 'start at:%s' % time.ctime()\n",
      "    sys.stdout.flush()\n",
      "    threads = []\n",
      "    nloops = range(len(loops))\n",
      "    \n",
      "    for i in nloops:\n",
      "        t = threading.Thread(target=ThreadFunc(loop, (i, loops[i]), loop.__name__)) #\u4f20\u9012\u5bf9\u8c61\n",
      "        threads.append(t)\n",
      "        \n",
      "    for i in nloops:\n",
      "        threads[i].start() #\u8fd9\u4e00\u6b65\u5927\u6982\u8981\u6c42\u5bf9\u8c61\u5fc5\u987b\u5b9e\u73b0__call__()\u65b9\u6cd5\n",
      "        \n",
      "    for i in nloops:\n",
      "        threads[i].join()\n",
      "        \n",
      "    print 'all DONE at:%s' % time.ctime()\n",
      "    sys.stdout.flush()\n",
      "    \n",
      "if __name__ == '__main__':\n",
      "    main()"
     ],
     "language": "python",
     "metadata": {},
     "outputs": [
      {
       "output_type": "stream",
       "stream": "stdout",
       "text": [
        "start at:Mon Feb 17 22:43:53 2014\n"
       ]
      },
      {
       "output_type": "stream",
       "stream": "stdout",
       "text": [
        "start loop 0 at:Mon Feb 17 22:43:53 2014\n"
       ]
      },
      {
       "output_type": "stream",
       "stream": "stdout",
       "text": [
        "start loop 1 at:Mon Feb 17 22:43:53 2014\n"
       ]
      },
      {
       "output_type": "stream",
       "stream": "stdout",
       "text": [
        "loop 1 DONE at:Mon Feb 17 22:43:55 2014\n"
       ]
      },
      {
       "output_type": "stream",
       "stream": "stdout",
       "text": [
        "loop 0 DONE at:Mon Feb 17 22:43:57 2014\n"
       ]
      },
      {
       "output_type": "stream",
       "stream": "stdout",
       "text": [
        "all DONE at:Mon Feb 17 22:43:57 2014\n"
       ]
      }
     ],
     "prompt_number": 6
    },
    {
     "cell_type": "raw",
     "metadata": {},
     "source": [
      "3.1.\u4eceThread\u6d3e\u751f\u51fa\u4e00\u4e2a\u5b50\u7c7b\uff0c\u521b\u5efa\u4e00\u4e2a\u8fd9\u4e2a\u5b50\u7c7b\u7684\u5b9e\u4f8b"
     ]
    },
    {
     "cell_type": "code",
     "collapsed": false,
     "input": [
      "import threading\n",
      "import time\n",
      "import sys\n",
      "\n",
      "loops = (4, 2)\n",
      "\n",
      "class MyThread(threading.Thread): #\u7ee7\u627f\u4e86threading.Tread\u7c7b\n",
      "    \n",
      "    def __init__(self, func, args, name=''):\n",
      "        \"\"\"\"\"\"\n",
      "        threading.Thread.__init__(self) #\u8c03\u7528\u7236\u7c7b\u7684\u6784\u9020\u65b9\u6cd5\n",
      "        self.name = name\n",
      "        self.func = func\n",
      "        self.args = args\n",
      "        \n",
      "    def run(self): #\u8986\u76d6\u4e86threading.Thread\u7c7b\u7684run()\u65b9\u6cd5\uff0c\u800cthreading.Tread.start()\u65b9\u6cd5\u5c31\u662f\u8c03\u7528run()\u65b9\u6cd5\n",
      "        \"\"\"\"\"\"\n",
      "        apply(self.func, self.args)\n",
      "        \n",
      "def loop(nloop, nsec):\n",
      "    \"\"\"\"\"\"\n",
      "    print 'start loop %d at:%s' % (nloop, time.ctime())\n",
      "    sys.stdout.flush()\n",
      "    time.sleep(nsec)\n",
      "    print 'loop %d done at:%s' % (nloop, time.ctime())\n",
      "    sys.stdout.flush()\n",
      "    \n",
      "def main():\n",
      "    \"\"\"\"\"\"\n",
      "    print 'starting at:%s' % time.ctime()\n",
      "    sys.stdout.flush()\n",
      "    threads = []\n",
      "    nloops = range(len(loops))\n",
      "    \n",
      "    for i in nloops:\n",
      "        t = MyThread(loop, (i, loops[i]), loop.__name__)\n",
      "        threads.append(t)\n",
      "        \n",
      "    for i in nloops:\n",
      "        threads[i].start()\n",
      "        \n",
      "    for i in nloops:\n",
      "        threads[i].join()\n",
      "        \n",
      "    print 'all DONE at:%s' % time.ctime()\n",
      "    sys.stdout.flush()\n",
      "    \n",
      "if __name__ == '__main__':\n",
      "    main()"
     ],
     "language": "python",
     "metadata": {},
     "outputs": [
      {
       "output_type": "stream",
       "stream": "stdout",
       "text": [
        "starting at:Tue Feb 18 10:24:09 2014\n",
        "start loop 0 at:Tue Feb 18 10:24:09 2014\n"
       ]
      },
      {
       "output_type": "stream",
       "stream": "stdout",
       "text": [
        "start loop 1 at:Tue Feb 18 10:24:09 2014\n"
       ]
      },
      {
       "output_type": "stream",
       "stream": "stdout",
       "text": [
        "loop 1 done at:Tue Feb 18 10:24:11 2014\n"
       ]
      },
      {
       "output_type": "stream",
       "stream": "stdout",
       "text": [
        "loop 0 done at:Tue Feb 18 10:24:13 2014\n"
       ]
      },
      {
       "output_type": "stream",
       "stream": "stdout",
       "text": [
        "all DONE at:Tue Feb 18 10:24:13 2014\n"
       ]
      }
     ],
     "prompt_number": 7
    },
    {
     "cell_type": "raw",
     "metadata": {},
     "source": [
      "3.2.MyThread\u5b50\u7c7b\u5316Thread"
     ]
    },
    {
     "cell_type": "code",
     "collapsed": false,
     "input": [
      "import threading\n",
      "import time\n",
      "import sys\n",
      "\n",
      "#\u5b9e\u73b0\u81ea\u5df1\u7684\"\u7ebf\u7a0b\u7c7b\"\uff0c\u7ee7\u627fthreading.Thread\u7c7b\n",
      "class MyThread(threading.Thread):\n",
      "    \n",
      "    #\u6784\u9020\u65b9\u6cd5\u7684\u5178\u578b\u7279\u5f81\uff0c\"\u83b7\u53d6\"\u4e00\u4e2a\u51fd\u6570(\u4ee3\u8868\u7ebf\u7a0b\u7684\u5de5\u4f5c\u5185\u5bb9\uff09\u548c\u4e00\u7ec4\u51fd\u6570\u53c2\u6570\n",
      "    def __init__(self, func, args, name=''):\n",
      "        \"\"\"\"\"\"\n",
      "        threading.Thread.__init__(self)\n",
      "        self.name = name\n",
      "        self.func = func\n",
      "        self.args = args\n",
      "        \n",
      "    def getResult(self):\n",
      "        \"\"\"\"\"\"\n",
      "        return self.res \n",
      "        \n",
      "    def run(self): #\u5b9e\u73b0\u81ea\u5df1\u7684run()\u65b9\u6cd5\uff0c\u4f9bstart()\u65b9\u6cd5\u542f\u52a8\u7ebf\u7a0b\u65f6\u8c03\u7528\n",
      "        \"\"\"\"\"\"\n",
      "        print 'starting %s at:%s' % (self.name, time.ctime())\n",
      "        sys.stdout.flush()\n",
      "        self.res = apply(self.func, self.args) #\u4fdd\u5b58\u8fd0\u884c\u7ed3\u679c\u5230self.res\n",
      "        print '%s finish at:%s' % (self.name, time.ctime())\n",
      "        sys.stdout.flush()\n",
      "        \n",
      "def fib(x):\n",
      "    \"\"\"\"\"\"\n",
      "    time.sleep(0.05)\n",
      "    if x < 2: return 1\n",
      "    else: return (fib(x-2) + fib(x-1))\n",
      "    \n",
      "def fac(x):\n",
      "    \"\"\"\"\"\"\n",
      "    time.sleep(0.1)\n",
      "    if x < 2: return 1\n",
      "    else: return (x * fac(x-1))\n",
      "\n",
      "def fsum(x):\n",
      "    \"\"\"\"\"\"\n",
      "    time.sleep(0.1)\n",
      "    if x < 2: return 1\n",
      "    else: return (x + fsum(x-1))\n",
      "    \n",
      "def main():\n",
      "    \"\"\"\"\"\"\n",
      "    threads = [] #\u7ebf\u7a0b\u6c60\n",
      "    funcs = [fib, fac, fsum]\n",
      "    num = len(funcs)\n",
      "    target = (12,)\n",
      "    \n",
      "    #\u521b\u5efa\u7ebf\u7a0b\n",
      "    for func in funcs:\n",
      "        t = MyThread(func=func, args=target, name=func.__name__) #\u5236\u9020\u7ebf\u7a0b\u5bf9\u8c61\n",
      "        threads.append(t) #\u5c06\u65b0\u7ebf\u7a0b\u52a0\u5165\u7ebf\u7a0b\u6c60\n",
      "        \n",
      "    #\u542f\u52a8\u7ebf\u7a0b\n",
      "    for thread in threads:\n",
      "        thread.start() #\u5b9e\u73b0\u4e86run()\u65b9\u6cd5\uff0c\u6240\u4ee5\u53ef\u4ee5\u7528start()\u65b9\u6cd5\u542f\u52a8\n",
      "    \n",
      "    #\u76d1\u89c6\u7b49\u5f85. \u5f53\u6240\u6709\u7ebf\u7a0b\u542f\u52a8\u5b8c\u6210\u540e\uff0c\u968f\u5373\u8fdb\u5165\u7b49\u5f85\u6240\u6709\u7ebf\u7a0b\u7ec8\u6b62\u7684\u72b6\u6001\n",
      "    for thread in threads:\n",
      "        thread.join()\n",
      "        print thread.getResult()\n",
      "        sys.stdout.flush()\n",
      "        \n",
      "        \n",
      "    print 'all DONE'\n",
      "    sys.stdout.flush()\n",
      "    \n",
      "if __name__ == '__main__':\n",
      "    main()"
     ],
     "language": "python",
     "metadata": {},
     "outputs": [
      {
       "output_type": "stream",
       "stream": "stdout",
       "text": [
        "starting fib at:Tue Feb 18 11:37:02 2014\n"
       ]
      },
      {
       "output_type": "stream",
       "stream": "stdout",
       "text": [
        "starting fac at:Tue Feb 18 11:37:02 2014\n"
       ]
      },
      {
       "output_type": "stream",
       "stream": "stdout",
       "text": [
        "starting fsum at:Tue Feb 18 11:37:02 2014\n"
       ]
      },
      {
       "output_type": "stream",
       "stream": "stdout",
       "text": [
        "fac finish at:Tue Feb 18 11:37:03 2014\n"
       ]
      },
      {
       "output_type": "stream",
       "stream": "stdout",
       "text": [
        "fsum finish at:Tue Feb 18 11:37:03 2014\n"
       ]
      },
      {
       "output_type": "stream",
       "stream": "stdout",
       "text": [
        "fib finish at:Tue Feb 18 11:37:25 2014\n"
       ]
      },
      {
       "output_type": "stream",
       "stream": "stdout",
       "text": [
        "233\n"
       ]
      },
      {
       "output_type": "stream",
       "stream": "stdout",
       "text": [
        "479001600\n"
       ]
      },
      {
       "output_type": "stream",
       "stream": "stdout",
       "text": [
        "78\n"
       ]
      },
      {
       "output_type": "stream",
       "stream": "stdout",
       "text": [
        "all DONE\n"
       ]
      }
     ],
     "prompt_number": 1
    },
    {
     "cell_type": "raw",
     "metadata": {},
     "source": [
      "\u8bfb\u8005\u5199\u8005\u95ee\u9898"
     ]
    },
    {
     "cell_type": "code",
     "collapsed": false,
     "input": [
      "import random\n",
      "import time\n",
      "import sys\n",
      "import Queue\n",
      "import numpy\n",
      "from myThread import MyThread #\u8c03\u7528\u4e0a\u9762\u7684\u81ea\u5b9a\u4e49\u7c7b\n",
      "\n",
      "def writeQ(queue):\n",
      "    \"\"\"\"\"\"\n",
      "    print 'producing object for Q...'; sys.stdout.flush()\n",
      "    queue.put(item='xxx', block=True, timeout=None) #\u5c06'xxx'\u52a0\u5165\u961f\u5217\uff0c\u5982\u679c\u961f\u5217\u6ee1\u5219\u7b49\u5f85\n",
      "    print 'size now', queue.qsize(); sys.stdout.flush()\n",
      "    \n",
      "def readQ(queue):\n",
      "    \"\"\"\"\"\"\n",
      "    val = queue.get(block=True, timeout=None)\n",
      "    print 'consumed object from Q.. size now', queue.qsize(); sys.stdout.flush()\n",
      "    \n",
      "def writer(queue, loops):\n",
      "    \"\"\"\u5bf9queue\u8fdb\u884cloops\u8f6e\u5199\u5165\u64cd\u4f5c\"\"\"\n",
      "    for i in range(loops): \n",
      "        writeQ(queue)\n",
      "        time.sleep(random.randint(1, 3))\n",
      "        \n",
      "def reader(queue, loops):\n",
      "    \"\"\"\u5bf9queue\u8fdb\u884cloops\u8f6e\u8bfb\u53d6\u64cd\u4f5c\"\"\"\n",
      "    for i in range(loops):\n",
      "        readQ(queue)\n",
      "        time.sleep(random.randint(2, 5))\n",
      "\n",
      "#funcs = [writer, reader]\n",
      "#num = 2\n",
      "\n",
      "#\u4fee\u6539main()\uff0c\u4f7f\u7528\u4e00\u4e2a\u751f\u4ea7\u8005\uff0c\u591a\u4e2a\u6d88\u8d39\u8005\n",
      "def main():\n",
      "    \"\"\"\"\"\"\n",
      "    #n_readers = 2\n",
      "    #n_writer = 2\n",
      "    total_loops = 10\n",
      "    r_loops_list = [2,5,3] #\u4e09\u4e2a\u6d88\u8d39\u8005\n",
      "    w_loops_list = [6,2,2] #\u4e09\u4e2a\u751f\u4ea7\u8005\n",
      "    q = Queue.Queue(1) #\u521b\u5efa\u961f\u5217\n",
      "    \n",
      "    threads = [] #\u7ebf\u7a0b\u6c60\n",
      "    #\u5982\u4e0b\u4e24\u4e2a\u7ebf\u7a0b\u5bf9\u5e94\u4e24\u79cd\u64cd\u4f5c\u65b9\u5f0f(\u51fd\u6570)\uff0c\u5206\u522b\u662f\u201d\u5199\u201c\u548c\u201c\u8bfb\u201d\uff0c\u4e24\u4e2a\u7ebf\u7a0b\u5171\u4eab\u540c\u4e00\u4e2a\u8d44\u6e90q(\u961f\u5217)\n",
      "    #\u7b2c\u4e00\u4e2a\u7ebf\u7a0b\u5c06\u8fdb\u884cnloops\u6b21\u5199\uff0c\u7b2c\u4e8c\u4e2a\u7ebf\u7a0b\u8fdb\u884cnloops\u6b21\u8bfb\uff0c\u4e00\u65e6\u7b2c\u4e8c\u4e2a\u7ebf\u7a0b\u6bd4\u7b2c\u4e00\u4e2a\u7ebf\u7a0b\u8dd1\u5f97\u5feb\uff0c\u5c31\u5230\u503c\u961f\u5217\u4e3a\u7a7a\u65e0\u6cd5\u8bfb\u53d6\uff0c\u5fc5\u987b\u7b49\u5f85\uff1b\u4e00\u65e6\u7b2c\u4e00\u7ebf\u7a0b\u6bd4\u7b2c\u4e8c\u7ebf\u7a0b\u5feb\u592a\u591a\uff0c\u5219\u961f\u5217\u5df2\u6ee1\u65e0\u6cd5\u5199\u5165\uff0c\u7b2c\u4e00\u7ebf\u7a0b\u7b49\u5f85\n",
      "    \n",
      "    #\u521b\u5efa\u751f\u4ea7\u8005\u7ebf\u7a0b\n",
      "    for i in xrange(len(w_loops_list)):\n",
      "        threads.append(MyThread(writer, (q, w_loops_list[i]), writer.__name__))\n",
      "    #\u521b\u5efa\u6d88\u8d39\u8005\u7ebf\u7a0b\n",
      "    for i in xrange(len(r_loops_list)):\n",
      "        t = MyThread(reader, (q, r_loops_list[i]), reader.__name__) #\u5c06\u540c\u4e00\u4e2a\u961f\u5217\u548c\u76f8\u540c\u7684\u6570nloops\u4f5c\u4e3a\u53c2\u6570\uff0c\u4f20\u7ed9Queue\n",
      "        threads.append(t) #\u5c06\u65b0\u7ebf\u7a0b\u52a0\u5165\u7ebf\u7a0b\u6c60\n",
      "        \n",
      "    random.shuffle(threads) #\u5c06\u7ebf\u7a0b\u987a\u5e8f\u968f\u673a\u6253\u4e71\n",
      "    print [i.name for i in threads]; sys.stdout.flush()\n",
      "        \n",
      "    for t in threads:\n",
      "        t.start()\n",
      "        \n",
      "    for t in threads:\n",
      "        t.join()\n",
      "        \n",
      "    print 'all DONE'\n",
      "    \n",
      "if __name__ == '__main__':\n",
      "    main()"
     ],
     "language": "python",
     "metadata": {},
     "outputs": [
      {
       "output_type": "stream",
       "stream": "stdout",
       "text": [
        "['reader', 'writer', 'writer', 'reader', 'reader', 'writer']\n"
       ]
      },
      {
       "output_type": "stream",
       "stream": "stdout",
       "text": [
        "starting reader at:Tue Feb 18 20:40:08 2014\n"
       ]
      },
      {
       "output_type": "stream",
       "stream": "stdout",
       "text": [
        "starting writer at:Tue Feb 18 20:40:08 2014\n"
       ]
      },
      {
       "output_type": "stream",
       "stream": "stdout",
       "text": [
        "producing object for Q...\n"
       ]
      },
      {
       "output_type": "stream",
       "stream": "stdout",
       "text": [
        "size now 1\n"
       ]
      },
      {
       "output_type": "stream",
       "stream": "stdout",
       "text": [
        "size now 1\n",
        "consumed object from Q.. size now 0\n"
       ]
      },
      {
       "output_type": "stream",
       "stream": "stdout",
       "text": [
        "starting writer at:Tue Feb 18 20:40:08 2014\n"
       ]
      },
      {
       "output_type": "stream",
       "stream": "stdout",
       "text": [
        "producing object for Q...\n"
       ]
      },
      {
       "output_type": "stream",
       "stream": "stdout",
       "text": [
        "size now 1\n"
       ]
      },
      {
       "output_type": "stream",
       "stream": "stdout",
       "text": [
        "starting reader at:Tue Feb 18 20:40:08 2014\n"
       ]
      },
      {
       "output_type": "stream",
       "stream": "stdout",
       "text": [
        "consumed object from Q.. size now 0\n"
       ]
      },
      {
       "output_type": "stream",
       "stream": "stdout",
       "text": [
        "starting reader at:Tue Feb 18 20:40:08 2014\n"
       ]
      },
      {
       "output_type": "stream",
       "stream": "stdout",
       "text": [
        "starting reader at:Tue Feb 18 20:40:08 2014\n",
        "starting writer at:Tue Feb 18 20:40:08 2014\n"
       ]
      },
      {
       "output_type": "stream",
       "stream": "stdout",
       "text": [
        "producing object for Q...\n"
       ]
      },
      {
       "output_type": "stream",
       "stream": "stdout",
       "text": [
        "size now 1\n"
       ]
      },
      {
       "output_type": "stream",
       "stream": "stdout",
       "text": [
        "consumed object from Q.. size now 0\n"
       ]
      },
      {
       "output_type": "stream",
       "stream": "stdout",
       "text": [
        "producing object for Q...\n"
       ]
      },
      {
       "output_type": "stream",
       "stream": "stdout",
       "text": [
        "size now 1\n"
       ]
      },
      {
       "output_type": "stream",
       "stream": "stdout",
       "text": [
        "consumed object from Q.. size now 0\n"
       ]
      },
      {
       "output_type": "stream",
       "stream": "stdout",
       "text": [
        "producing object for Q...\n"
       ]
      },
      {
       "output_type": "stream",
       "stream": "stdout",
       "text": [
        "size now 1\n"
       ]
      },
      {
       "output_type": "stream",
       "stream": "stdout",
       "text": [
        "producing object for Q...\n",
        "consumed object from Q.. size now 0\n"
       ]
      },
      {
       "output_type": "stream",
       "stream": "stdout",
       "text": [
        "producing object for Q...\n"
       ]
      },
      {
       "output_type": "stream",
       "stream": "stdout",
       "text": [
        "size now 1\n"
       ]
      },
      {
       "output_type": "stream",
       "stream": "stdout",
       "text": [
        "consumed object from Q.. size now 0\n"
       ]
      },
      {
       "output_type": "stream",
       "stream": "stdout",
       "text": [
        "producing object for Q...\n"
       ]
      },
      {
       "output_type": "stream",
       "stream": "stdout",
       "text": [
        "size now 1\n"
       ]
      },
      {
       "output_type": "stream",
       "stream": "stdout",
       "text": [
        "writer finish at:Tue Feb 18 20:40:12 2014\n"
       ]
      },
      {
       "output_type": "stream",
       "stream": "stdout",
       "text": [
        "writer finish at:Tue Feb 18 20:40:12 2014\n"
       ]
      },
      {
       "output_type": "stream",
       "stream": "stdout",
       "text": [
        "producing object for Q...\n"
       ]
      },
      {
       "output_type": "stream",
       "stream": "stdout",
       "text": [
        "consumed object from Q.. size now 0\n"
       ]
      },
      {
       "output_type": "stream",
       "stream": "stdout",
       "text": [
        "reader finish at:Tue Feb 18 20:40:15 2014\n"
       ]
      },
      {
       "output_type": "stream",
       "stream": "stdout",
       "text": [
        "\n"
       ]
      },
      {
       "output_type": "stream",
       "stream": "stdout",
       "text": [
        "size now 1\n"
       ]
      },
      {
       "output_type": "stream",
       "stream": "stdout",
       "text": [
        "producing object for Q...\n"
       ]
      },
      {
       "output_type": "stream",
       "stream": "stdout",
       "text": [
        "reader finish at:Tue Feb 18 20:40:18 2014\n"
       ]
      },
      {
       "output_type": "stream",
       "stream": "stdout",
       "text": [
        "consumed object from Q.. size now 0\n"
       ]
      },
      {
       "output_type": "stream",
       "stream": "stdout",
       "text": [
        "size now 1\n"
       ]
      },
      {
       "output_type": "stream",
       "stream": "stdout",
       "text": [
        "writer finish at:Tue Feb 18 20:40:22 2014\n"
       ]
      },
      {
       "output_type": "stream",
       "stream": "stdout",
       "text": [
        "consumed object from Q.. size now 0\n"
       ]
      },
      {
       "output_type": "stream",
       "stream": "stdout",
       "text": [
        "reader finish at:Tue Feb 18 20:40:28 2014\n"
       ]
      },
      {
       "output_type": "stream",
       "stream": "stdout",
       "text": [
        "all DONE\n"
       ]
      }
     ],
     "prompt_number": 5
    },
    {
     "cell_type": "raw",
     "metadata": {},
     "source": [
      "2.19-1\u6d4b\u8bd5\u591a\u4e2a\u7ebf\u7a0b\u5171\u4eab\u8d44\u6e90\u5f15\u53d1\u7684\u9519\u8bef"
     ]
    },
    {
     "cell_type": "code",
     "collapsed": false,
     "input": [
      "import threading\n",
      "import time\n",
      "import sys\n",
      "\n",
      "num = 0\n",
      "\n",
      "class MyThread(threading.Thread): #\u7ee7\u627f\n",
      "    \n",
      "    def __init__(self, fn, args, name=''): #fn\u662f\u65e0\u53c2\u6570\u51fd\u6570\n",
      "        \"\"\"\"\"\"\n",
      "        threading.Thread.__init__(self)\n",
      "        self.fn = fn\n",
      "        self.args = args\n",
      "        self.name = name\n",
      "        \n",
      "    def run(self):\n",
      "        \"\"\"\u91cd\u5199run()\u65b9\u6cd5\"\"\"\n",
      "        apply(self.fn, self.args)\n",
      "        \n",
      "def add(sec):\n",
      "    \"\"\"\"\"\"\n",
      "    global num\n",
      "    temp = num\n",
      "    time.sleep(sec)\n",
      "    temp += 1\n",
      "    num = temp\n",
      "    print 'num=%d' % num\n",
      "    #sys.stdout.flush()\n",
      "    \n",
      "def main():\n",
      "    \"\"\"\"\"\"\n",
      "    thread_pool = []\n",
      "    for i in xrange(5):\n",
      "        t = MyThread(add, (0.2,))\n",
      "        thread_pool.append(t)\n",
      "        \n",
      "    for t in thread_pool[::-1]:\n",
      "        t.start()\n",
      "        time.sleep(0.1)\n",
      "        \n",
      "    for t in thread_pool:\n",
      "        t.join()\n",
      "        \n",
      "    print 'all Done, num=%d' % num\n",
      "    \n",
      "if __name__ == '__main__':\n",
      "    main()"
     ],
     "language": "python",
     "metadata": {},
     "outputs": [
      {
       "output_type": "stream",
       "stream": "stdout",
       "text": [
        "num=1\n",
        "num=1"
       ]
      },
      {
       "output_type": "stream",
       "stream": "stdout",
       "text": [
        "\n",
        "num=2"
       ]
      },
      {
       "output_type": "stream",
       "stream": "stdout",
       "text": [
        "\n",
        "num=2"
       ]
      },
      {
       "output_type": "stream",
       "stream": "stdout",
       "text": [
        "\n",
        "num=3"
       ]
      },
      {
       "output_type": "stream",
       "stream": "stdout",
       "text": [
        "\n",
        "all Done, num=3\n"
       ]
      }
     ],
     "prompt_number": 5
    },
    {
     "cell_type": "raw",
     "metadata": {},
     "source": [
      "2.19-1.1\u52a0\u5165\u8fdb\u7a0b\u9501"
     ]
    },
    {
     "cell_type": "code",
     "collapsed": false,
     "input": [
      "import threading\n",
      "import time\n",
      "import sys\n",
      "\n",
      "num = 0\n",
      "mutex = threading.Lock() #\u521b\u5efa\u9501\n",
      "\n",
      "class MyThread(threading.Thread): #\u7ee7\u627f\n",
      "    \n",
      "    def __init__(self, fn, args, name=''): #fn\u662f\u65e0\u53c2\u6570\u51fd\u6570\n",
      "        \"\"\"\"\"\"\n",
      "        threading.Thread.__init__(self)\n",
      "        self.fn = fn\n",
      "        self.args = args\n",
      "        self.name = name\n",
      "        \n",
      "    def run(self):\n",
      "        \"\"\"\u91cd\u5199run()\u65b9\u6cd5\"\"\"\n",
      "        if mutex.acquire(5): #\u7533\u8bf7\u83b7\u53d6\u9501\n",
      "            apply(self.fn, self.args)\n",
      "            mutex.release() #\u91ca\u653e\u9501\n",
      "        \n",
      "def add(sec):\n",
      "    \"\"\"\"\"\"\n",
      "    global num\n",
      "    temp = num\n",
      "    time.sleep(sec)\n",
      "    temp += 1\n",
      "    num = temp\n",
      "    print 'num=%d' % num\n",
      "    #sys.stdout.flush()\n",
      "    \n",
      "def main():\n",
      "    \"\"\"\"\"\"\n",
      "    thread_pool = []\n",
      "    for i in xrange(5):\n",
      "        t = MyThread(add, (0.2,))\n",
      "        thread_pool.append(t)\n",
      "        \n",
      "    for t in thread_pool[::-1]:\n",
      "        t.start()\n",
      "        time.sleep(0.1)\n",
      "        \n",
      "    for t in thread_pool:\n",
      "        t.join()\n",
      "        \n",
      "    print 'all Done, num=%d' % num\n",
      "    \n",
      "if __name__ == '__main__':\n",
      "    main()\n",
      "    #print 'all Done, num=%d' % num"
     ],
     "language": "python",
     "metadata": {},
     "outputs": [
      {
       "output_type": "stream",
       "stream": "stdout",
       "text": [
        "num=1\n",
        "num=2"
       ]
      },
      {
       "output_type": "stream",
       "stream": "stdout",
       "text": [
        "\n",
        "num=3"
       ]
      },
      {
       "output_type": "stream",
       "stream": "stdout",
       "text": [
        "\n",
        "num=4"
       ]
      },
      {
       "output_type": "stream",
       "stream": "stdout",
       "text": [
        "\n",
        "num=5"
       ]
      },
      {
       "output_type": "stream",
       "stream": "stdout",
       "text": [
        "\n",
        "all Done, num=5\n"
       ]
      }
     ],
     "prompt_number": 6
    },
    {
     "cell_type": "raw",
     "metadata": {},
     "source": [
      "2.19-3.\u53ef\u91cd\u5165\u9501\uff0c\u89e3\u51b3\u5355\u4e00\u7ebf\u7a0b\u591a\u6b21\u7533\u8bf7\u9501\u7684\u95ee\u9898"
     ]
    },
    {
     "cell_type": "code",
     "collapsed": false,
     "input": [
      "import threading\n",
      "import time\n",
      "import random\n",
      "import sys\n",
      "\n",
      "\n",
      "num1 = 0\n",
      "num2 = 0\n",
      "mutex1 = threading.RLock() #\u521b\u5efa\u53ef\u91cd\u5165\u9501\n",
      "#mutex2 = threading.Lock()\n",
      "\n",
      "class MyThread(threading.Thread):\n",
      "    \n",
      "    def __init__(self, fn1, fn2, name=''):\n",
      "        \"\"\"\"\"\"\n",
      "        threading.Thread.__init__(self)\n",
      "        self.fn1 = fn1\n",
      "        self.fn2 = fn2\n",
      "        #self.args = args\n",
      "        self.name = name\n",
      "        \n",
      "    def run(self):\n",
      "        \"\"\"\"\"\"\n",
      "        print 'start thread:%s' % self.name\n",
      "        sys.stdout.flush()\n",
      "        if mutex1.acquire(): #\u7b2c\u4e00\u6b21\u83b7\u53d6\u9501 \n",
      "            print 'thread %s has got mutex1' % self.name\n",
      "            apply(self.fn1)\n",
      "            if mutex1.acquire(): #\u7b2c\u4e8c\u6b21\u83b7\u53d6\u9501\n",
      "                print 'thread %s has got mutex2' % self.name\n",
      "                apply(self.fn2)\n",
      "                mutex1.release() #\u7b2c\u4e00\u6b21\u91ca\u653e\u9501\n",
      "                print 'thread %s has released mutex2' % self.name\n",
      "            mutex1.release() #\u7b2c\u4e8c\u6b21\u91ca\u653e\u9501\n",
      "            print 'thread %s has releassed mutex1' % self.name\n",
      "        print 'end thread:%s' % self.name\n",
      "        sys.stdout.flush()\n",
      "            \n",
      "def add1():\n",
      "    \"\"\"\"\"\"\n",
      "    global num1\n",
      "    temp = num1\n",
      "    time.sleep(0.1)\n",
      "    num1 = temp + 1\n",
      "    print 'add1 finish, num1=%d' % num1\n",
      "    sys.stdout.flush()\n",
      "    \n",
      "def add2():\n",
      "    \"\"\"\"\"\"\n",
      "    global num2\n",
      "    temp = num2\n",
      "    time.sleep(0.2)\n",
      "    num2 = temp + 2\n",
      "    print 'add2 finish, num2=%d' % num2\n",
      "    \n",
      "def main():\n",
      "    \"\"\"\"\"\"\n",
      "    thread_pool = []\n",
      "    for i in xrange(5):\n",
      "        t = MyThread(fn1=add1,fn2=add2, name=str(i))\n",
      "        thread_pool.append(t)\n",
      "        \n",
      "    random.shuffle(thread_pool)\n",
      "    for t in thread_pool:\n",
      "        t.start()\n",
      "        \n",
      "    for t in thread_pool:\n",
      "        t.join()\n",
      "        \n",
      "    print 'all DONE. num1=%d, num2=%d' % (num1, num2)\n",
      "    \n",
      "if __name__ == '__main__':\n",
      "    main()\n",
      "    "
     ],
     "language": "python",
     "metadata": {},
     "outputs": [
      {
       "output_type": "stream",
       "stream": "stdout",
       "text": [
        "start thread:4\n"
       ]
      },
      {
       "output_type": "stream",
       "stream": "stdout",
       "text": [
        "thread 4 has got mutex1\n",
        "start thread:3\n"
       ]
      },
      {
       "output_type": "stream",
       "stream": "stdout",
       "text": [
        "start thread:1\n"
       ]
      },
      {
       "output_type": "stream",
       "stream": "stdout",
       "text": [
        "start thread:2\n"
       ]
      },
      {
       "output_type": "stream",
       "stream": "stdout",
       "text": [
        "start thread:0\n"
       ]
      },
      {
       "output_type": "stream",
       "stream": "stdout",
       "text": [
        "add1 finish, num1=1\n"
       ]
      },
      {
       "output_type": "stream",
       "stream": "stdout",
       "text": [
        "thread 4 has got mutex2\n",
        "add2 finish, num2=2"
       ]
      },
      {
       "output_type": "stream",
       "stream": "stdout",
       "text": [
        "\n",
        "thread 4 has released mutex2\n",
        "thread 4 has releassed mutex1\n",
        "end thread:4\n"
       ]
      },
      {
       "output_type": "stream",
       "stream": "stdout",
       "text": [
        "add1 finish, num1=2\n"
       ]
      },
      {
       "output_type": "stream",
       "stream": "stdout",
       "text": [
        "thread 3 has got mutex2\n",
        "add2 finish, num2=4"
       ]
      },
      {
       "output_type": "stream",
       "stream": "stdout",
       "text": [
        "\n",
        "thread 3 has released mutex2\n",
        "thread 3 has releassed mutex1\n",
        "end thread:3\n"
       ]
      },
      {
       "output_type": "stream",
       "stream": "stdout",
       "text": [
        "add1 finish, num1=3\n"
       ]
      },
      {
       "output_type": "stream",
       "stream": "stdout",
       "text": [
        "thread 1 has got mutex2\n",
        "add2 finish, num2=6"
       ]
      },
      {
       "output_type": "stream",
       "stream": "stdout",
       "text": [
        "\n",
        "thread 1 has released mutex2\n",
        "thread 1 has releassed mutex1\n",
        "end thread:1\n",
        " thread 2 has got mutex1\n"
       ]
      },
      {
       "output_type": "stream",
       "stream": "stdout",
       "text": [
        "add1 finish, num1=4\n"
       ]
      },
      {
       "output_type": "stream",
       "stream": "stdout",
       "text": [
        "thread 2 has got mutex2\n",
        "add2 finish, num2=8"
       ]
      },
      {
       "output_type": "stream",
       "stream": "stdout",
       "text": [
        "\n",
        "thread 2 has released mutex2\n",
        "thread 2 has releassed mutex1\n",
        "end thread:2\n",
        " thread 0 has got mutex1\n"
       ]
      },
      {
       "output_type": "stream",
       "stream": "stdout",
       "text": [
        "add1 finish, num1=5\n"
       ]
      },
      {
       "output_type": "stream",
       "stream": "stdout",
       "text": [
        "thread 0 has got mutex2\n",
        "add2 finish, num2=10"
       ]
      },
      {
       "output_type": "stream",
       "stream": "stdout",
       "text": [
        "\n",
        "thread 0 has released mutex2\n",
        "thread 0 has releassed mutex1\n",
        "end thread:0\n"
       ]
      },
      {
       "output_type": "stream",
       "stream": "stdout",
       "text": [
        "all DONE. num1=5, num2=10\n"
       ]
      }
     ],
     "prompt_number": 6
    },
    {
     "cell_type": "raw",
     "metadata": {},
     "source": [
      "2.19.\u8bfb\u8005\u5199\u7740\u95ee\u9898"
     ]
    },
    {
     "cell_type": "code",
     "collapsed": false,
     "input": [
      "import threading\n",
      "import time\n",
      "import sys\n",
      "import random\n",
      "\n",
      "r_num = 0\n",
      "w_num = 0\n",
      "cnt = 0\n",
      "\n",
      "#w_mutex = threading.Lock()\n",
      "#r_mutex = threading.Lock()\n",
      "rn_mutex = threading.Lock() #\u4eba\u6570\u9501\n",
      "wn_mutex = threading.Lock() #\u4eba\u6570\u9501\n",
      "\n",
      "class MyThread(threading.Thread):\n",
      "    \n",
      "    def __init__(self, fn, name=''):\n",
      "        \"\"\"\"\"\"\n",
      "        threading.Thread.__init__(self)\n",
      "        self.fn = fn\n",
      "        self.name = name\n",
      "\n",
      "class RThread(MyThread):\n",
      "        \n",
      "    def run(self):\n",
      "        \"\"\"\"\"\"\n",
      "        global r_num\n",
      "        print 'thread %s is begin' % self.name\n",
      "        sys.stdout.flush()\n",
      "        if w_mutex.acquire():\n",
      "            #print 'thread %s has got w_mutex' % self.name \n",
      "            if rn_mutex.acquire():\n",
      "                r_num += 1\n",
      "                rn_mutex.release()\n",
      "            apply(self.fn)\n",
      "            if rn_mutex.acquire():\n",
      "                r_num -= 1\n",
      "                rn_mutex.release()\n",
      "            w_mutex.release()\n",
      "            #print 'thread %s has released r_mutex' % self.name\n",
      "        print 'thread %s is done' % self.name\n",
      "        sys.stdout.flush()\n",
      "        \n",
      "class WThread(MyThread):\n",
      "        \n",
      "    def run(self):\n",
      "        \"\"\"\"\"\"\n",
      "        global w_num\n",
      "        print 'thread %s is begin' % self.name\n",
      "        if w_mutex.acquire():\n",
      "            #print 'thread %s has got w_mutex' % self.name\n",
      "            sys.stdout.flush()\n",
      "            if r_mutex.acquire():\n",
      "                #print 'thread %s has got w_mutex' % self.name\n",
      "                sys.stdout.flush()\n",
      "                if wn_mutex.acquire():\n",
      "                    w_num +=1\n",
      "                    wn_mutex.release()\n",
      "                apply(self.fn)\n",
      "                if wn_mutex.acquire():\n",
      "                    w_num -=1\n",
      "                    wn_mutex.release()\n",
      "                r_mutex.release()\n",
      "                #print 'thread %s has released w_mutex' % self.name\n",
      "                sys.stdout.flush()\n",
      "            w_mutex.release()\n",
      "            #print 'thread %s has released r_mutex' % self.name\n",
      "        print 'thread %s is done' % self.name\n",
      "        sys.stdout.flush()\n",
      "        \n",
      "class OThread(MyThread):\n",
      "        \n",
      "    def run(self):\n",
      "        \"\"\"\"\"\"\n",
      "        global r_num\n",
      "        global w_num\n",
      "        global cnt\n",
      "        #print 'thread %s is begin' % self.name\n",
      "        #sys.stdout.flush()\n",
      "        while cnt < 50:\n",
      "            if wn_mutex.acquire():\n",
      "                if rn_mutex.acquire():\n",
      "                    apply(self.fn)\n",
      "                    wn_mutex.release()\n",
      "                rn_mutex.release()\n",
      "            cnt += 1\n",
      "            time.sleep(0.1)\n",
      "        \n",
      "        \n",
      "def reader():\n",
      "    \"\"\"\"\"\"\n",
      "    print 'reading...'\n",
      "    sys.stdout.flush()\n",
      "    time.sleep(0.5)\n",
      "    sys.stdout.flush()\n",
      "    \n",
      "def writer():\n",
      "    \"\"\"\"\"\"\n",
      "    print 'writing...'\n",
      "    time.sleep(0.5)\n",
      "    sys.stdout.flush()\n",
      "    \n",
      "def ob():\n",
      "    \"\"\"\"\"\"\n",
      "    print 'there is(are) %d writer(s) now' % w_num\n",
      "    print 'there is(are) %d reader(s) now' % r_num\n",
      "    sys.stdout.flush()\n",
      "    \n",
      "def main():\n",
      "    \"\"\"\"\"\"\n",
      "    threads_pool = []\n",
      "    #for i in xrange(10):\n",
      "    #    t = WThread(fn=writer, name=str(i+1))\n",
      "    #    threads_pool.append(t)\n",
      "    for i in xrange(12):\n",
      "        t = RThread(fn=reader, name=str(i+1))\n",
      "        threads_pool.append(t)\n",
      "    \n",
      "\n",
      "    random.shuffle(threads_pool)\n",
      "    for t in threads_pool:\n",
      "        t.start()\n",
      "    OThread(fn=ob, name='12').start()\n",
      "        \n",
      "    for t in threads_pool:\n",
      "        t.join()\n",
      "        \n",
      "    print 'all DONE'\n",
      "    \n",
      "if __name__ == '__main__':\n",
      "    main()"
     ],
     "language": "python",
     "metadata": {},
     "outputs": [
      {
       "output_type": "stream",
       "stream": "stdout",
       "text": [
        "thread 6 is begin\n"
       ]
      },
      {
       "output_type": "stream",
       "stream": "stdout",
       "text": [
        "reading...\n"
       ]
      },
      {
       "output_type": "stream",
       "stream": "stdout",
       "text": [
        "\n"
       ]
      },
      {
       "output_type": "stream",
       "stream": "stdout",
       "text": [
        "thread 11 is begin\n"
       ]
      },
      {
       "output_type": "stream",
       "stream": "stdout",
       "text": [
        "thread 2 is begin\n"
       ]
      },
      {
       "output_type": "stream",
       "stream": "stdout",
       "text": [
        "thread 1 is begin\n"
       ]
      },
      {
       "output_type": "stream",
       "stream": "stdout",
       "text": [
        "thread 5 is begin\n"
       ]
      },
      {
       "output_type": "stream",
       "stream": "stdout",
       "text": [
        "thread 3 is begin\n"
       ]
      },
      {
       "output_type": "stream",
       "stream": "stdout",
       "text": [
        "thread 4 is begin\n"
       ]
      },
      {
       "output_type": "stream",
       "stream": "stdout",
       "text": [
        "thread 7 is begin\n"
       ]
      },
      {
       "output_type": "stream",
       "stream": "stdout",
       "text": [
        "thread 12 is begin\n"
       ]
      },
      {
       "output_type": "stream",
       "stream": "stdout",
       "text": [
        "thread 10 is begin\n"
       ]
      },
      {
       "output_type": "stream",
       "stream": "stdout",
       "text": [
        "thread 8 is begin\n"
       ]
      },
      {
       "output_type": "stream",
       "stream": "stdout",
       "text": [
        "there is(are) 0 writer(s) now\n",
        "there is(are) 1 reader(s) now\n"
       ]
      },
      {
       "output_type": "stream",
       "stream": "stdout",
       "text": [
        "there is(are) 0 writer(s) now\n",
        "there is(are) 1 reader(s) now\n"
       ]
      },
      {
       "output_type": "stream",
       "stream": "stdout",
       "text": [
        "there is(are) 0 writer(s) now\n",
        "there is(are) 1 reader(s) now\n"
       ]
      },
      {
       "output_type": "stream",
       "stream": "stdout",
       "text": [
        "there is(are) 0 writer(s) now\n",
        "there is(are) 1 reader(s) now\n"
       ]
      },
      {
       "output_type": "stream",
       "stream": "stdout",
       "text": [
        "there is(are) 0 writer(s) now\n",
        "there is(are) 1 reader(s) now\n"
       ]
      },
      {
       "output_type": "stream",
       "stream": "stdout",
       "text": [
        "there is(are) 0 writer(s) now\n",
        "there is(are) 1 reader(s) now\n"
       ]
      },
      {
       "output_type": "stream",
       "stream": "stdout",
       "text": [
        "there is(are) 0 writer(s) now\n",
        "there is(are) 1 reader(s) now\n"
       ]
      },
      {
       "output_type": "stream",
       "stream": "stdout",
       "text": [
        "there is(are) 0 writer(s) now\n",
        "there is(are) 1 reader(s) now\n"
       ]
      },
      {
       "output_type": "stream",
       "stream": "stdout",
       "text": [
        "there is(are) 0 writer(s) now\n",
        "there is(are) 1 reader(s) now\n"
       ]
      },
      {
       "output_type": "stream",
       "stream": "stdout",
       "text": [
        "there is(are) 0 writer(s) now\n",
        "there is(are) 1 reader(s) now\n"
       ]
      },
      {
       "output_type": "stream",
       "stream": "stdout",
       "text": [
        "thread 9 is done\n"
       ]
      },
      {
       "output_type": "stream",
       "stream": "stdout",
       "text": [
        "thread 9 is done\n",
        "reading...\n"
       ]
      },
      {
       "output_type": "stream",
       "stream": "stdout",
       "text": [
        "there is(are) 0 writer(s) now\n",
        "there is(are) 1 reader(s) now\n"
       ]
      },
      {
       "output_type": "stream",
       "stream": "stdout",
       "text": [
        "there is(are) 0 writer(s) now\n",
        "there is(are) 1 reader(s) now\n"
       ]
      },
      {
       "output_type": "stream",
       "stream": "stdout",
       "text": [
        "there is(are) 0 writer(s) now\n",
        "there is(are) 1 reader(s) now\n"
       ]
      },
      {
       "output_type": "stream",
       "stream": "stdout",
       "text": [
        "there is(are) 0 writer(s) now\n",
        "there is(are) 1 reader(s) now\n"
       ]
      },
      {
       "output_type": "stream",
       "stream": "stdout",
       "text": [
        "there is(are) 0 writer(s) now\n",
        "there is(are) 1 reader(s) now\n"
       ]
      },
      {
       "output_type": "stream",
       "stream": "stdout",
       "text": [
        "there is(are) 0 writer(s) now\n",
        "there is(are) 1 reader(s) now\n"
       ]
      },
      {
       "output_type": "stream",
       "stream": "stdout",
       "text": [
        "there is(are) 0 writer(s) now\n",
        "there is(are) 1 reader(s) now\n"
       ]
      },
      {
       "output_type": "stream",
       "stream": "stdout",
       "text": [
        "there is(are) 0 writer(s) now\n",
        "there is(are) 1 reader(s) now\n"
       ]
      },
      {
       "output_type": "stream",
       "stream": "stdout",
       "text": [
        "there is(are) 0 writer(s) now\n",
        "there is(are) 1 reader(s) now\n"
       ]
      },
      {
       "output_type": "stream",
       "stream": "stdout",
       "text": [
        "there is(are) 0 writer(s) now\n",
        "there is(are) 1 reader(s) now\n"
       ]
      },
      {
       "output_type": "stream",
       "stream": "stdout",
       "text": [
        "thread 2 is done\n"
       ]
      },
      {
       "output_type": "stream",
       "stream": "stdout",
       "text": [
        "reading...\n"
       ]
      },
      {
       "output_type": "stream",
       "stream": "stdout",
       "text": [
        "there is(are) 0 writer(s) now\n",
        "there is(are) 1 reader(s) now\n"
       ]
      },
      {
       "output_type": "stream",
       "stream": "stdout",
       "text": [
        "there is(are) 0 writer(s) now\n",
        "there is(are) 1 reader(s) now\n"
       ]
      },
      {
       "output_type": "stream",
       "stream": "stdout",
       "text": [
        "there is(are) 0 writer(s) now\n",
        "there is(are) 1 reader(s) now\n"
       ]
      },
      {
       "output_type": "stream",
       "stream": "stdout",
       "text": [
        "there is(are) 0 writer(s) now\n",
        "there is(are) 1 reader(s) now\n"
       ]
      },
      {
       "output_type": "stream",
       "stream": "stdout",
       "text": [
        "there is(are) 0 writer(s) now\n",
        "there is(are) 1 reader(s) now\n"
       ]
      },
      {
       "output_type": "stream",
       "stream": "stdout",
       "text": [
        "thread 1 is done\n"
       ]
      },
      {
       "output_type": "stream",
       "stream": "stdout",
       "text": [
        "thread 1 is done\n",
        "reading...\n"
       ]
      },
      {
       "output_type": "stream",
       "stream": "stdout",
       "text": [
        "there is(are) 0 writer(s) now\n",
        "there is(are) 1 reader(s) now\n"
       ]
      },
      {
       "output_type": "stream",
       "stream": "stdout",
       "text": [
        "there is(are) 0 writer(s) now\n",
        "there is(are) 1 reader(s) now\n"
       ]
      },
      {
       "output_type": "stream",
       "stream": "stdout",
       "text": [
        "there is(are) 0 writer(s) now\n",
        "there is(are) 1 reader(s) now\n"
       ]
      },
      {
       "output_type": "stream",
       "stream": "stdout",
       "text": [
        "there is(are) 0 writer(s) now\n",
        "there is(are) 1 reader(s) now\n"
       ]
      },
      {
       "output_type": "stream",
       "stream": "stdout",
       "text": [
        "there is(are) 0 writer(s) now\n",
        "there is(are) 1 reader(s) now\n"
       ]
      },
      {
       "output_type": "stream",
       "stream": "stdout",
       "text": [
        "there is(are) 0 writer(s) now\n",
        "there is(are) 1 reader(s) now\n"
       ]
      },
      {
       "output_type": "stream",
       "stream": "stdout",
       "text": [
        "there is(are) 0 writer(s) now\n",
        "there is(are) 1 reader(s) now\n"
       ]
      },
      {
       "output_type": "stream",
       "stream": "stdout",
       "text": [
        "there is(are) 0 writer(s) now\n",
        "there is(are) 1 reader(s) now\n"
       ]
      },
      {
       "output_type": "stream",
       "stream": "stdout",
       "text": [
        "there is(are) 0 writer(s) now\n",
        "there is(are) 1 reader(s) now\n"
       ]
      },
      {
       "output_type": "stream",
       "stream": "stdout",
       "text": [
        "there is(are) 0 writer(s) now\n",
        "there is(are) 1 reader(s) now\n"
       ]
      },
      {
       "output_type": "stream",
       "stream": "stdout",
       "text": [
        "thread 3 is done\n"
       ]
      },
      {
       "output_type": "stream",
       "stream": "stdout",
       "text": [
        "reading...\n"
       ]
      },
      {
       "output_type": "stream",
       "stream": "stdout",
       "text": [
        "there is(are) 0 writer(s) now\n",
        "there is(are) 1 reader(s) now\n"
       ]
      },
      {
       "output_type": "stream",
       "stream": "stdout",
       "text": [
        "there is(are) 0 writer(s) now\n",
        "there is(are) 1 reader(s) now\n"
       ]
      },
      {
       "output_type": "stream",
       "stream": "stdout",
       "text": [
        "there is(are) 0 writer(s) now\n",
        "there is(are) 1 reader(s) now\n"
       ]
      },
      {
       "output_type": "stream",
       "stream": "stdout",
       "text": [
        "there is(are) 0 writer(s) now\n",
        "there is(are) 1 reader(s) now\n"
       ]
      },
      {
       "output_type": "stream",
       "stream": "stdout",
       "text": [
        "there is(are) 0 writer(s) now\n",
        "there is(are) 1 reader(s) now\n"
       ]
      },
      {
       "output_type": "stream",
       "stream": "stdout",
       "text": [
        "thread 4 is done\n"
       ]
      },
      {
       "output_type": "stream",
       "stream": "stdout",
       "text": [
        "thread 4 is done\n",
        "reading...\n"
       ]
      },
      {
       "output_type": "stream",
       "stream": "stdout",
       "text": [
        "there is(are) 0 writer(s) now\n",
        "there is(are) 1 reader(s) now\n"
       ]
      },
      {
       "output_type": "stream",
       "stream": "stdout",
       "text": [
        "there is(are) 0 writer(s) now\n",
        "there is(are) 1 reader(s) now\n"
       ]
      },
      {
       "output_type": "stream",
       "stream": "stdout",
       "text": [
        "there is(are) 0 writer(s) now\n",
        "there is(are) 1 reader(s) now\n"
       ]
      },
      {
       "output_type": "stream",
       "stream": "stdout",
       "text": [
        "there is(are) 0 writer(s) now\n",
        "there is(are) 1 reader(s) now\n"
       ]
      },
      {
       "output_type": "stream",
       "stream": "stdout",
       "text": [
        "there is(are) 0 writer(s) now\n",
        "there is(are) 1 reader(s) now\n"
       ]
      },
      {
       "output_type": "stream",
       "stream": "stdout",
       "text": [
        "thread 7 is done\n"
       ]
      },
      {
       "output_type": "stream",
       "stream": "stdout",
       "text": [
        "reading...\n"
       ]
      },
      {
       "output_type": "stream",
       "stream": "stdout",
       "text": [
        "there is(are) 0 writer(s) now\n",
        "there is(are) 1 reader(s) now\n"
       ]
      },
      {
       "output_type": "stream",
       "stream": "stdout",
       "text": [
        "there is(are) 0 writer(s) now\n",
        "there is(are) 1 reader(s) now\n"
       ]
      },
      {
       "output_type": "stream",
       "stream": "stdout",
       "text": [
        "there is(are) 0 writer(s) now\n",
        "there is(are) 1 reader(s) now\n"
       ]
      },
      {
       "output_type": "stream",
       "stream": "stdout",
       "text": [
        "there is(are) 0 writer(s) now\n",
        "there is(are) 1 reader(s) now\n"
       ]
      },
      {
       "output_type": "stream",
       "stream": "stdout",
       "text": [
        "there is(are) 0 writer(s) now\n",
        "there is(are) 1 reader(s) now\n"
       ]
      },
      {
       "output_type": "stream",
       "stream": "stdout",
       "text": [
        "thread 12 is done\n"
       ]
      },
      {
       "output_type": "stream",
       "stream": "stdout",
       "text": [
        "reading...\n"
       ]
      },
      {
       "output_type": "stream",
       "stream": "stdout",
       "text": [
        "thread 10 is done\n"
       ]
      },
      {
       "output_type": "stream",
       "stream": "stdout",
       "text": [
        "reading...\n"
       ]
      },
      {
       "output_type": "stream",
       "stream": "stdout",
       "text": [
        "thread 8 is done\n"
       ]
      },
      {
       "output_type": "stream",
       "stream": "stdout",
       "text": [
        "all DONE\n"
       ]
      }
     ],
     "prompt_number": 26
    },
    {
     "cell_type": "code",
     "collapsed": false,
     "input": [
      "import threading\n",
      "import time\n",
      "import sys\n",
      "import random\n",
      "\n",
      "cnt = 0\n",
      "num = 0\n",
      "\n",
      "w_mutex = 0 #\u5199\u8005\u9501\uff0c\u6bcf\u4e2a\u8bfb\u8005\u90fd\u4f1a\u83b7\u53d6\u5199\u8005\u9501\n",
      "n_mutex = threading.Lock() #\u4eba\u6570\u9501\uff0c\u540c\u4e00\u65f6\u95f4\u53ea\u5141\u8bb8\u4e00\u4e2a\u4eba\u4fee\u6539\u4eba\u6570\n",
      "\n",
      "class Reader(threading.Thread):\n",
      "        \n",
      "    def run(self):\n",
      "        \"\"\"\"\"\"\n",
      "        global cnt\n",
      "        print 'thread %s is begin' % self.name\n",
      "        sys.stdout.flush()\n",
      "        if n_mutex.acquire(): #\u9996\u5148\u83b7\u53d6\u4eba\u6570\u9501\n",
      "            if w_mutex <= 0: #\u518d\u83b7\u53d6\u5199\u8005\u9501\n",
      "                w_mutex -= 1\n",
      "                cnt += 1\n",
      "                n_mutex.release() #\u91ca\u653e\u4eba\u6570\u9501\n",
      "                print 'reading...'\n",
      "                sys.stdout.flush()\n",
      "                time.sleep(0.3)\n",
      "                if n_mutex.acquire(): #\u518d\u6b21\u83b7\u53d6\u4eba\u6570\u9501\n",
      "                    cnt -= 1\n",
      "                    n_mutex.release() #\u518d\u6b21\u91ca\u653e\u4eba\u6570\u9501\n",
      "                w_mutex += 1 #\u91ca\u653e\u5199\u8005\u9501\n",
      "        print 'thread %s is done' % self.name\n",
      "        sys.stdout.flush()\n",
      "        \n",
      "class Writer(threading.Thread):\n",
      "        \n",
      "    def run(self):\n",
      "        \"\"\"\"\"\"\n",
      "        global w_mutex\n",
      "        print 'thread %s is begin' % self.name\n",
      "        sys.stdout.flush()\n",
      "        if w_mutex == 0: #\u83b7\u5f97\u5199\u8005\u9501\n",
      "            w_mutex += 1\n",
      "            print 'writing...'\n",
      "            sys.stdout.flush()\n",
      "            time.sleep(0.5)\n",
      "            w_mutex -= 1 #\u91ca\u653e\u5199\u8005\u9501\n",
      "        print 'thread %s is done' % self.name\n",
      "        sys.stdout.flush()\n",
      "        \n",
      "class OThread(threading.Thread):\n",
      "        \n",
      "    def run(self):\n",
      "        \"\"\"\"\"\"\n",
      "        global num\n",
      "        while num < 20:\n",
      "            print 'there is(are) %d person now' % cnt\n",
      "            sys.stdout.flush()\n",
      "            num += 1\n",
      "            time.sleep(0.1)\n",
      "    \n",
      "def main():\n",
      "    \"\"\"\"\"\"\n",
      "    threads_pool = []\n",
      "    for i in xrange(2):\n",
      "        t = Writer()\n",
      "        threads_pool.append(t)\n",
      "    for i in xrange(10):\n",
      "        t = Reader()\n",
      "        threads_pool.append(t)\n",
      "    \n",
      "    random.shuffle(threads_pool)\n",
      "    \n",
      "    for t in threads_pool:\n",
      "        t.start()\n",
      "    OThread().start()\n",
      "        \n",
      "    for t in threads_pool:\n",
      "        t.join()\n",
      "        \n",
      "    print 'all DONE'\n",
      "    \n",
      "if __name__ == '__main__':\n",
      "    main()"
     ],
     "language": "python",
     "metadata": {},
     "outputs": [
      {
       "output_type": "stream",
       "stream": "stdout",
       "text": [
        "thread Thread-10 is begin\n"
       ]
      },
      {
       "output_type": "stream",
       "stream": "stdout",
       "text": [
        "thread Thread-4 is begin\n"
       ]
      },
      {
       "output_type": "stream",
       "stream": "stdout",
       "text": [
        "writing...\n"
       ]
      },
      {
       "output_type": "stream",
       "stream": "stdout",
       "text": [
        "thread Thread-12 is begin\n"
       ]
      },
      {
       "output_type": "stream",
       "stream": "stdout",
       "text": [
        "thread Thread-11 is begin\n"
       ]
      },
      {
       "output_type": "stream",
       "stream": "stdout",
       "text": [
        "thread Thread-5 is begin\n"
       ]
      },
      {
       "output_type": "stream",
       "stream": "stdout",
       "text": [
        "thread Thread-5 is done\n"
       ]
      },
      {
       "output_type": "stream",
       "stream": "stdout",
       "text": [
        "thread Thread-8 is begin\n"
       ]
      },
      {
       "output_type": "stream",
       "stream": "stdout",
       "text": [
        "thread Thread-13 is begin\n"
       ]
      },
      {
       "output_type": "stream",
       "stream": "stdout",
       "text": [
        "thread Thread-14 is begin\n"
       ]
      },
      {
       "output_type": "stream",
       "stream": "stdout",
       "text": [
        "thread Thread-9 is begin\n"
       ]
      },
      {
       "output_type": "stream",
       "stream": "stdout",
       "text": [
        "thread Thread-6 is begin\n"
       ]
      },
      {
       "output_type": "stream",
       "stream": "stdout",
       "text": [
        "thread Thread-7 is begin\n"
       ]
      },
      {
       "output_type": "stream",
       "stream": "stdout",
       "text": [
        "thread Thread-15 is begin\n"
       ]
      },
      {
       "output_type": "stream",
       "stream": "stdout",
       "text": [
        "there is(are) 0 person now\n"
       ]
      },
      {
       "output_type": "stream",
       "stream": "stdout",
       "text": [
        "there is(are) 0 person now\n"
       ]
      },
      {
       "output_type": "stream",
       "stream": "stdout",
       "text": [
        "there is(are) 0 person now\n"
       ]
      },
      {
       "output_type": "stream",
       "stream": "stdout",
       "text": [
        "there is(are) 0 person now\n"
       ]
      },
      {
       "output_type": "stream",
       "stream": "stdout",
       "text": [
        "there is(are) 0 person now\n"
       ]
      },
      {
       "output_type": "stream",
       "stream": "stdout",
       "text": [
        "thread Thread-4 is done\n"
       ]
      },
      {
       "output_type": "stream",
       "stream": "stdout",
       "text": [
        "there is(are) 0 person now\n"
       ]
      },
      {
       "output_type": "stream",
       "stream": "stdout",
       "text": [
        "there is(are) 0 person now\n"
       ]
      },
      {
       "output_type": "stream",
       "stream": "stdout",
       "text": [
        "there is(are) 0 person now\n"
       ]
      },
      {
       "output_type": "stream",
       "stream": "stdout",
       "text": [
        "there is(are) 0 person now\n"
       ]
      },
      {
       "output_type": "stream",
       "stream": "stdout",
       "text": [
        "there is(are) 0 person now\n"
       ]
      },
      {
       "output_type": "stream",
       "stream": "stdout",
       "text": [
        "there is(are) 0 person now\n"
       ]
      },
      {
       "output_type": "stream",
       "stream": "stdout",
       "text": [
        "there is(are) 0 person now\n"
       ]
      },
      {
       "output_type": "stream",
       "stream": "stdout",
       "text": [
        "there is(are) 0 person now\n"
       ]
      },
      {
       "output_type": "stream",
       "stream": "stdout",
       "text": [
        "there is(are) 0 person now\n"
       ]
      },
      {
       "output_type": "stream",
       "stream": "stdout",
       "text": [
        "there is(are) 0 person now\n"
       ]
      },
      {
       "output_type": "stream",
       "stream": "stdout",
       "text": [
        "there is(are) 0 person now\n"
       ]
      },
      {
       "output_type": "stream",
       "stream": "stdout",
       "text": [
        "there is(are) 0 person now\n"
       ]
      },
      {
       "output_type": "stream",
       "stream": "stdout",
       "text": [
        "there is(are) 0 person now\n"
       ]
      },
      {
       "output_type": "stream",
       "stream": "stdout",
       "text": [
        "there is(are) 0 person now\n"
       ]
      },
      {
       "output_type": "stream",
       "stream": "stdout",
       "text": [
        "there is(are) 0 person now\n"
       ]
      }
     ],
     "prompt_number": "*"
    },
    {
     "cell_type": "raw",
     "metadata": {},
     "source": [
      "\u751f\u4ea7\u8005\u548c\u6d88\u8d39\u8005: \u5f97\u76ca\u4e8eQueue\u6a21\u5757\u7684\u961f\u5217\u81ea\u5e26\u7684\u6302\u8d77\u529f\u80fd\uff08\u961f\u5217\u6ee1\u63d2\u5165\u6302\u8d77\uff0c\u961f\u5217\u7a7a\u51fa\u961f\u6302\u8d77\uff09\uff0c\u4e0d\u9700\u8981\u4f7f\u7528\u9501"
     ]
    },
    {
     "cell_type": "code",
     "collapsed": false,
     "input": [
      "import threading\n",
      "import Queue\n",
      "import time\n",
      "import sys\n",
      "import random\n",
      "\n",
      "queue = Queue.Queue(3)\n",
      "\n",
      "class Producer(threading.Thread):\n",
      "    \n",
      "    def run(self):\n",
      "        \"\"\"\"\"\"\n",
      "        print 'producing...'\n",
      "        sys.stdout.flush()\n",
      "        queue.put('xxx')\n",
      "        print 'size is:%d' % queue.qsize()\n",
      "        sys.stdout.flush()\n",
      "        time.sleep(2)\n",
      "        \n",
      "class Consumer(threading.Thread):\n",
      "    \n",
      "    def run(self):\n",
      "        \"\"\"\"\"\"\n",
      "        print 'consuming...'\n",
      "        sys.stdout.flush()\n",
      "        queue.get('xxx')\n",
      "        print 'size is:%d' % queue.qsize()\n",
      "        sys.stdout.flush()\n",
      "        time.sleep(3)\n",
      "        \n",
      "def main():\n",
      "    \"\"\"\"\"\"\n",
      "    threads_pool = []\n",
      "    for i in xrange(5):\n",
      "        t = Producer()\n",
      "        threads_pool.append(t)\n",
      "        \n",
      "    for i in xrange(5):\n",
      "        t = Consumer()\n",
      "        threads_pool.append(t)\n",
      "        \n",
      "    #random.shuffle(threads_pool)\n",
      "    \n",
      "    for t in threads_pool:\n",
      "        t.start()\n",
      "        \n",
      "    for t in threads_pool:\n",
      "        t.join()\n",
      "        \n",
      "    print 'all DONE'\n",
      "    sys.stdout.flush()\n",
      "    \n",
      "if __name__ == '__main__':\n",
      "    main()\n",
      "        "
     ],
     "language": "python",
     "metadata": {},
     "outputs": [
      {
       "output_type": "stream",
       "stream": "stdout",
       "text": [
        "producing...\n"
       ]
      },
      {
       "output_type": "stream",
       "stream": "stdout",
       "text": [
        "size is:1\n"
       ]
      },
      {
       "output_type": "stream",
       "stream": "stdout",
       "text": [
        "producing...\n"
       ]
      },
      {
       "output_type": "stream",
       "stream": "stdout",
       "text": [
        "size is:2\n"
       ]
      },
      {
       "output_type": "stream",
       "stream": "stdout",
       "text": [
        "producing...\n"
       ]
      },
      {
       "output_type": "stream",
       "stream": "stdout",
       "text": [
        "size is:3\n"
       ]
      },
      {
       "output_type": "stream",
       "stream": "stdout",
       "text": [
        "producing...\n"
       ]
      },
      {
       "output_type": "stream",
       "stream": "stdout",
       "text": [
        "producing...\n"
       ]
      },
      {
       "output_type": "stream",
       "stream": "stdout",
       "text": [
        "consuming...\n"
       ]
      },
      {
       "output_type": "stream",
       "stream": "stdout",
       "text": [
        "size is:3\n"
       ]
      },
      {
       "output_type": "stream",
       "stream": "stdout",
       "text": [
        "size is:3\n"
       ]
      },
      {
       "output_type": "stream",
       "stream": "stdout",
       "text": [
        "consuming...\n"
       ]
      },
      {
       "output_type": "stream",
       "stream": "stdout",
       "text": [
        "size is:3\n"
       ]
      },
      {
       "output_type": "stream",
       "stream": "stdout",
       "text": [
        "size is:3\n"
       ]
      },
      {
       "output_type": "stream",
       "stream": "stdout",
       "text": [
        "consuming...\n"
       ]
      },
      {
       "output_type": "stream",
       "stream": "stdout",
       "text": [
        "size is:2\n"
       ]
      },
      {
       "output_type": "stream",
       "stream": "stdout",
       "text": [
        "consuming...\n"
       ]
      },
      {
       "output_type": "stream",
       "stream": "stdout",
       "text": [
        "size is:1\n"
       ]
      },
      {
       "output_type": "stream",
       "stream": "stdout",
       "text": [
        "consuming...\n"
       ]
      },
      {
       "output_type": "stream",
       "stream": "stdout",
       "text": [
        "size is:0\n"
       ]
      },
      {
       "output_type": "stream",
       "stream": "stdout",
       "text": [
        "all DONE\n"
       ]
      }
     ],
     "prompt_number": 1
    },
    {
     "cell_type": "code",
     "collapsed": false,
     "input": [
      "import theano\n",
      "import theano.tensor as T\n",
      "import numpy\n",
      "import pylab\n",
      "import sys\n",
      "from pylearn2.datasets.mnist import MNIST\n",
      "from pylearn2.datasets.cifar10 import CIFAR10\n",
      "\n",
      "#dsm_train = MNIST(which_set='train', start=0, stop=100, one_hot=False)\n",
      "#dsm_train = MNIST(which_set='test', start=0, stop=100, one_hot=False)\n",
      "\n",
      "dsc_train = CIFAR10(which_set='train', start=0, stop=100, one_hot=True)\n",
      "dsc_test = CIFAR10(which_set='test', start=0, stop=10000)\n",
      "\n",
      "#for i in xrange(10):\n",
      "#    for j in xrange(10):\n",
      "#        pylab.subplot(10, 10, i*10+j+1); pylab.axis('off'); pylab.imshow(dsm_train.X[i*10+j].reshape(28, 28), cmap=pylab.cm.gray)\n",
      "\n",
      "for i in xrange(5):\n",
      "    for j in xrange(5):\n",
      "        pylab.subplot(5, 5, i*5+j+1); pylab.axis('off'); pylab.imshow(dsc_train.X[i*5+j].reshape(3, 32, 32).transpose(1,2,0))\n",
      "        \n",
      "pylab.show()"
     ],
     "language": "python",
     "metadata": {},
     "outputs": [
      {
       "output_type": "stream",
       "stream": "stdout",
       "text": [
        "loading file /home/zanghu/pylearn2_data/cifar10/cifar-10-batches-py/data_batch_1\n"
       ]
      },
      {
       "output_type": "stream",
       "stream": "stdout",
       "text": [
        "loading file /home/zanghu/pylearn2_data/cifar10/cifar-10-batches-py/data_batch_2\n"
       ]
      },
      {
       "output_type": "stream",
       "stream": "stdout",
       "text": [
        "loading file /home/zanghu/pylearn2_data/cifar10/cifar-10-batches-py/data_batch_3\n"
       ]
      },
      {
       "output_type": "stream",
       "stream": "stdout",
       "text": [
        "loading file /home/zanghu/pylearn2_data/cifar10/cifar-10-batches-py/data_batch_4\n"
       ]
      },
      {
       "output_type": "stream",
       "stream": "stdout",
       "text": [
        "loading file /home/zanghu/pylearn2_data/cifar10/cifar-10-batches-py/data_batch_5\n"
       ]
      },
      {
       "output_type": "stream",
       "stream": "stdout",
       "text": [
        "loading file /home/zanghu/pylearn2_data/cifar10/cifar-10-batches-py/test_batch\n"
       ]
      },
      {
       "output_type": "stream",
       "stream": "stdout",
       "text": [
        "loading file /home/zanghu/pylearn2_data/cifar10/cifar-10-batches-py/data_batch_1\n"
       ]
      },
      {
       "output_type": "stream",
       "stream": "stdout",
       "text": [
        "loading file /home/zanghu/pylearn2_data/cifar10/cifar-10-batches-py/data_batch_2\n"
       ]
      },
      {
       "output_type": "stream",
       "stream": "stdout",
       "text": [
        "loading file /home/zanghu/pylearn2_data/cifar10/cifar-10-batches-py/data_batch_3\n"
       ]
      },
      {
       "output_type": "stream",
       "stream": "stdout",
       "text": [
        "loading file /home/zanghu/pylearn2_data/cifar10/cifar-10-batches-py/data_batch_4\n"
       ]
      },
      {
       "output_type": "stream",
       "stream": "stdout",
       "text": [
        "loading file /home/zanghu/pylearn2_data/cifar10/cifar-10-batches-py/data_batch_5\n"
       ]
      },
      {
       "output_type": "stream",
       "stream": "stdout",
       "text": [
        "loading file /home/zanghu/pylearn2_data/cifar10/cifar-10-batches-py/test_batch\n"
       ]
      },
      {
       "output_type": "display_data",
       "png": "[encoded data removed]"
      }
     ],
     "prompt_number": 63
    },
    {
     "cell_type": "code",
     "collapsed": false,
     "input": [
      "from pylearn2.datasets.cifar10 import CIFAR10\n",
      "\n",
      "dsm_train = CIFAR10(which_set='train', start=0, stop=100)\n",
      "X = dsm_train.X\n",
      "print X.dtype\n",
      "x = X[1].reshape(3, 32, 32)\n",
      "#\u4f9d\u6b21\u53d6\u51fa\u4e09\u5f20\u56fe\n",
      "x0 = x[0]\n",
      "x1 = x[1]\n",
      "x2 = x[2]\n",
      "#\u589e\u52a0\u4e00\u7ef4\u8f74\u5411\n",
      "x0 = x0.reshape(32, 32, 1)\n",
      "x1 = x1.reshape(32, 32, 1)\n",
      "x2 = x2.reshape(32, 32, 1)\n",
      "#\u6cbf\u7740\u65b0\u589e\u52a0\u7684\u8f74\u5411\u8fdb\u884c\u62fc\u63a5\n",
      "y = numpy.concatenate([x0, x1, x2], axis=2)\n",
      "y = numpy.array(y, dtype='uint8') #\u975e\u5e38\u91cd\u8981\uff0c\u5426\u5219\u4e0d\u80fd\u6b63\u5e38\u663e\u793a\n",
      "pylab.imshow(y)\n",
      "pylab.show()"
     ],
     "language": "python",
     "metadata": {},
     "outputs": [
      {
       "output_type": "stream",
       "stream": "stdout",
       "text": [
        "loading file /home/zanghu/pylearn2_data/cifar10/cifar-10-batches-py/data_batch_1\n"
       ]
      },
      {
       "output_type": "stream",
       "stream": "stdout",
       "text": [
        "loading file /home/zanghu/pylearn2_data/cifar10/cifar-10-batches-py/data_batch_2\n"
       ]
      },
      {
       "output_type": "stream",
       "stream": "stdout",
       "text": [
        "loading file /home/zanghu/pylearn2_data/cifar10/cifar-10-batches-py/data_batch_3\n"
       ]
      },
      {
       "output_type": "stream",
       "stream": "stdout",
       "text": [
        "loading file /home/zanghu/pylearn2_data/cifar10/cifar-10-batches-py/data_batch_4\n"
       ]
      },
      {
       "output_type": "stream",
       "stream": "stdout",
       "text": [
        "loading file /home/zanghu/pylearn2_data/cifar10/cifar-10-batches-py/data_batch_5\n"
       ]
      },
      {
       "output_type": "stream",
       "stream": "stdout",
       "text": [
        "loading file /home/zanghu/pylearn2_data/cifar10/cifar-10-batches-py/test_batch\n"
       ]
      },
      {
       "output_type": "stream",
       "stream": "stdout",
       "text": [
        "float32\n"
       ]
      },
      {
       "output_type": "display_data",
       "png": "[encoded data removed]"
      }
     ],
     "prompt_number": 70
    },
    {
     "cell_type": "code",
     "collapsed": false,
     "input": [
      "img = pylab.imread('/home/zanghu/kn.jpg')\n",
      "print type(img)\n",
      "print img.shape\n",
      "print img.dtype"
     ],
     "language": "python",
     "metadata": {},
     "outputs": [
      {
       "output_type": "stream",
       "stream": "stdout",
       "text": [
        "<type 'numpy.ndarray'>\n",
        "(500, 354, 3)\n",
        "uint8\n"
       ]
      }
     ],
     "prompt_number": 69
    },
    {
     "cell_type": "code",
     "collapsed": false,
     "input": [
      "from pylearn2.datasets.cifar10 import CIFAR10\n",
      "\n",
      "dsm_train = CIFAR10(which_set='train', start=0, stop=100)\n",
      "X = dsm_train.X\n",
      "x = numpy.array(X[1], dtype='uint8')\n",
      "print x.shape\n",
      "pylab.imshow(x.reshape(3, 32, 32).transpose(1,2,0))\n",
      "pylab.show()                                "
     ],
     "language": "python",
     "metadata": {},
     "outputs": [
      {
       "output_type": "stream",
       "stream": "stdout",
       "text": [
        "loading file /home/zanghu/pylearn2_data/cifar10/cifar-10-batches-py/data_batch_1\n"
       ]
      },
      {
       "output_type": "stream",
       "stream": "stdout",
       "text": [
        "loading file /home/zanghu/pylearn2_data/cifar10/cifar-10-batches-py/data_batch_2\n"
       ]
      },
      {
       "output_type": "stream",
       "stream": "stdout",
       "text": [
        "loading file /home/zanghu/pylearn2_data/cifar10/cifar-10-batches-py/data_batch_3\n"
       ]
      },
      {
       "output_type": "stream",
       "stream": "stdout",
       "text": [
        "loading file /home/zanghu/pylearn2_data/cifar10/cifar-10-batches-py/data_batch_4\n"
       ]
      },
      {
       "output_type": "stream",
       "stream": "stdout",
       "text": [
        "loading file /home/zanghu/pylearn2_data/cifar10/cifar-10-batches-py/data_batch_5\n"
       ]
      },
      {
       "output_type": "stream",
       "stream": "stdout",
       "text": [
        "loading file /home/zanghu/pylearn2_data/cifar10/cifar-10-batches-py/test_batch\n"
       ]
      },
      {
       "output_type": "stream",
       "stream": "stdout",
       "text": [
        "(3072,)\n"
       ]
      },
      {
       "output_type": "display_data",
       "png": "[encoded data removed]"
      }
     ],
     "prompt_number": 52
    },
    {
     "cell_type": "code",
     "collapsed": false,
     "input": [
      "f = open('/home/zanghu/Pro_Datasets/HWDB1.1/train', 'rb')\n",
      "for line in f:\n",
      "    print type(line)\n",
      "    print len(line)\n",
      "f.close()"
     ],
     "language": "python",
     "metadata": {},
     "outputs": [
      {
       "output_type": "stream",
       "stream": "stdout",
       "text": [
        "<type 'str'>\n",
        "81\n",
        "<type 'str'>\n",
        "18753280\n"
       ]
      }
     ],
     "prompt_number": 75
    },
    {
     "cell_type": "code",
     "collapsed": false,
     "input": [
      "import scipy.io\n",
      "import numpy\n",
      "\n",
      "f = open('/home/zanghu/Pro_Datasets/feret/FERET_80_80_col.mat')\n",
      "d = scipy.io.loadmat(f)\n",
      "f.close()\n",
      "\n",
      "#print type(d)\n",
      "#print len(d)\n",
      "#for item in dsf.iteritems():\n",
      "#    print item\n",
      "\n",
      "dsf = d.values()[0] #\u53d6\u51fa\u5b57\u5178\u4e2d\u7b2c\u4e00\u4e2a\u952e\u5bf9\u5e94\u7684\u503c\uff0c\u5c31\u662f\u8bbe\u8ba1\u77e9\u9635\uff0c\u4f46\u6b64\u65f6\u6bcf\u4e00\u5217\u662f\u4e00\u4e2a\u6837\u672c\n",
      "print type(dsf)\n",
      "print dsf.shape\n",
      "dsf = dsf.transpose() #\u8f6c\u7f6e\uff0c\u8fd9\u6837\u8bbe\u8ba1\u77e9\u9635\u7684\u6bcf\u4e00\u884c\u662f\u4e00\u4e2a\u6837\u672c\n",
      "#\u4ee5\u4e0a\u4e3a\u6570\u636e\u8bfb\u53d6\u548c\u8bbe\u8ba1\u77e9\u9635\u751f\u6210=========================================================\n",
      "\n",
      "print dsf.shape\n",
      "#for i in xrange(7):\n",
      "#    for j in xrange(5):\n",
      "#        pylab.subplot(5, 7, i*5+j+1); pylab.axis('off'); pylab.imshow(dsf[i*5+j].reshape(80, 80).transpose(), cmap=pylab.cm.gray)\n",
      "#pylab.show()\n",
      "\n",
      "X = dsf\n",
      "X_train_31 = X[:150*7, :] #\u8bad\u7ec3\u96c61050\u5f20\n",
      "X_test_31 = X[150*7:, :] #\u6d4b\u8bd5\u96c6350\u5f20\n",
      "\n",
      "#\u5236\u9020\u7c7b\u6807\u5411\u91cf\n",
      "y_base = numpy.ones(shape=1400, dtype='int64').reshape(200, 7)\n",
      "y = numpy.arange(200).reshape(-1, 1) * y_base\n",
      "y = y.reshape(1400)\n",
      "\n",
      "y_train_31 = y[:150*7]\n",
      "y_test_31 = y[150*7:]\n",
      "\n",
      "numpy.save('/home/zanghu/feret_train31_X.npy', X_train_31)\n",
      "numpy.save('/home/zanghu/feret_test31_X.npy', X_test_31)\n",
      "numpy.save('/home/zanghu/feret_train31_label.npy', y_train_31)\n",
      "numpy.save('/home/zanghu/feret_test31_label.npy', y_test_31)"
     ],
     "language": "python",
     "metadata": {},
     "outputs": [
      {
       "output_type": "stream",
       "stream": "stdout",
       "text": [
        "<type 'numpy.ndarray'>\n",
        "(6400, 1400)\n",
        "(1400, 6400)\n"
       ]
      }
     ],
     "prompt_number": 14
    },
    {
     "cell_type": "code",
     "collapsed": false,
     "input": [
      "print type(d)\n",
      "print len(d)\n",
      "for item in dsf.iteritems():\n",
      "    print item"
     ],
     "language": "python",
     "metadata": {},
     "outputs": [
      {
       "output_type": "stream",
       "stream": "stdout",
       "text": [
        "<type 'dict'>\n",
        "4\n",
        "('FERET_80_80_col', array([[ 30,  42,  31, ..., 128, 103,  86],\n",
        "       [ 27,  40,  24, ..., 126, 113,  80],\n",
        "       [ 37,  54,  24, ..., 127, 105,  87],\n",
        "       ..., \n",
        "       [ 29,  25,  19, ...,  97, 128,  91],\n",
        "       [ 26,  24,  21, ...,  96, 126,  94],\n",
        "       [ 24,  26,  23, ...,  99, 136,  97]], dtype=uint8))\n",
        "('__version__', '1.0')\n",
        "('__header__', 'MATLAB 5.0 MAT-file, Platform: PCWIN, Created on: Sat Jan 23 19:44:34 2010')\n",
        "('__globals__', [])\n"
       ]
      }
     ],
     "prompt_number": 83
    },
    {
     "cell_type": "code",
     "collapsed": false,
     "input": [
      "dsf = d.values()[0]\n",
      "print type(dsf)\n",
      "print dsf.shape"
     ],
     "language": "python",
     "metadata": {},
     "outputs": [
      {
       "output_type": "stream",
       "stream": "stdout",
       "text": [
        "<type 'numpy.ndarray'>\n",
        "(6400, 1400)\n"
       ]
      }
     ],
     "prompt_number": 85
    },
    {
     "cell_type": "code",
     "collapsed": false,
     "input": [
      "dsf = dsf.transpose()\n",
      "print dsf.shape"
     ],
     "language": "python",
     "metadata": {},
     "outputs": [
      {
       "output_type": "stream",
       "stream": "stdout",
       "text": [
        "(1400, 6400)\n"
       ]
      }
     ],
     "prompt_number": 88
    },
    {
     "cell_type": "code",
     "collapsed": false,
     "input": [
      "print dsf.shape"
     ],
     "language": "python",
     "metadata": {},
     "outputs": [
      {
       "output_type": "stream",
       "stream": "stdout",
       "text": [
        "(1400, 6400)\n"
       ]
      }
     ],
     "prompt_number": 89
    },
    {
     "cell_type": "code",
     "collapsed": false,
     "input": [
      "for i in xrange(7):\n",
      "    for j in xrange(5):\n",
      "        pylab.subplot(5, 7, i*5+j+1); pylab.axis('off'); pylab.imshow(dsf[i*5+j].reshape(80, 80).transpose(), cmap=pylab.cm.gray)\n",
      "pylab.show()"
     ],
     "language": "python",
     "metadata": {},
     "outputs": [
      {
       "output_type": "display_data",
       "png": "[encoded data removed]"
      }
     ],
     "prompt_number": 96
    },
    {
     "cell_type": "code",
     "collapsed": false,
     "input": [
      "from sklearn.linear_model import LogisticRegression\n",
      "from pylearn2.datasets.mnist import MNIST\n",
      "\n",
      "dsm_train = MNIST(which_set='train', start=0, stop=50000, one_hot=False)\n",
      "dsm_test = MNIST(which_set='test', start=0, stop=10000, one_hot=False)\n",
      "\n",
      "X_train = dsm_train.X\n",
      "y_train = dsm_train.y\n",
      "X_test = dsm_test.X\n",
      "y_test = dsm_test.y\n",
      "\n",
      "clf  = LogisticRegression()\n",
      "clf.fit(X_train, y_train)\n",
      "print 'use img + txt on train-dataset: ', clf.score(X_train, y_train)\n",
      "print 'use img + txt on test-dataset: ', clf.score(X_test, y_test)\n"
     ],
     "language": "python",
     "metadata": {},
     "outputs": [
      {
       "output_type": "stream",
       "stream": "stdout",
       "text": [
        "use img + txt on train-dataset:  "
       ]
      },
      {
       "output_type": "stream",
       "stream": "stdout",
       "text": [
        "0.92736\n",
        "use img + txt on test-dataset:  "
       ]
      },
      {
       "output_type": "stream",
       "stream": "stdout",
       "text": [
        "0.92\n"
       ]
      }
     ],
     "prompt_number": 97
    },
    {
     "cell_type": "raw",
     "metadata": {},
     "source": [
      "Viterbi\u7b97\u6cd5"
     ]
    },
    {
     "cell_type": "code",
     "collapsed": false,
     "input": [
      "#viterbi\u7b97\u6cd5\n",
      "import numpy\n",
      "import time\n",
      "\n",
      "def main():\n",
      "    \"\"\"\u5b9e\u4f8b\u51fd\u6570\uff0c\u6765\u81ea\u674e\u822a\u7684\u6559\u6750\u4f8b10.3\"\"\"\n",
      "    print '\u4f8b10.3\u9898'\n",
      "    A = numpy.array([[0.5, 0.2, 0.3], [0.3, 0.5, 0.2], [0.2, 0.3, 0.5]], dtype=float) #\u72b6\u6001\u8f6c\u79fb\u77e9\u9635\n",
      "    B = numpy.array([[0.5, 0.5], [0.4, 0.6], [0.7, 0.3]], dtype=float) #\u89c2\u6d4b\u6982\u7387\u77e9\u9635\n",
      "    pi = numpy.array([0.2, 0.4, 0.4], dtype=float)\n",
      "\n",
      "    ob = numpy.array([0, 1, 0], dtype=int) #\u89c2\u6d4b\u503c\n",
      "    t0 = time.clock()\n",
      "    Viterbi_algorithm(A=A, B=B, pi=pi, observation=ob)\n",
      "    print '\u65f6\u95f4\u6d88\u8017\uff1a', time.clock() - t0\n",
      "    print\n",
      "    print '\u4f8b10.1\u9898'\n",
      "    A = numpy.array([[0., 1., 0., 0.], [0.4, 0., 0.6, 0.], [0., 0.4, 0., 0.6], [0., 0., 0.5, 0.5]], dtype=float) #\u72b6\u6001\u8f6c\u79fb\u77e9\u9635\n",
      "    B = numpy.array([[0.5, 0.5], [0.3, 0.7], [0.6, 0.4], [0.8, 0.2]], dtype=float) #\u89c2\u6d4b\u6982\u7387\u77e9\u9635\n",
      "    pi = numpy.array([0.25, 0.25, 0.25, 0.25], dtype=float)\n",
      "\n",
      "    ob = numpy.array([0, 0, 1, 1, 0], dtype=int) #\u89c2\u6d4b\u503c\n",
      "    t0 = time.clock()\n",
      "    Viterbi_algorithm(A=A, B=B, pi=pi, observation=ob)\n",
      "    print '\u65f6\u95f4\u6d88\u8017\uff1a', time.clock() - t0\n",
      "\n",
      "def Viterbi_algorithm(A, B, pi, observation):\n",
      "    \"\"\"\n",
      "    \u5b9e\u73b0\u9690\u9a6c\u6a21\u578b\u7684\u7ef4\u7279\u6bd4\u7b97\u6cd5\n",
      "    A: 2-d ndarray, \u72b6\u6001\u8f6c\u79fb\u77e9\u9635\uff0c\u884c\u53f7\u4ee3\u8868\u8f6c\u79fb\u524d\u72b6\u6001\uff0c\u5217\u53f7\u7b49\u4e8e\u8f6c\u79fb\u540e\u72b6\u6001\n",
      "    B: 2-d ndarray\uff0c\u89c2\u6d4b\u6982\u7387\u77e9\u9635\uff0c\u884c\u4ee3\u8868\u9690\u5355\u5143\u72b6\u6001\uff0c\u5217\u4ee3\u8868\u53ef\u89c1\u5355\u5143\u72b6\u6001\n",
      "    pi: 1-d ndarray, \u521d\u59cb\u6982\u7387\u5206\u5e03\n",
      "    observation: 1-d ndarray, \u89c2\u6d4b\u503c\u5e8f\u5217\n",
      "    \"\"\"\n",
      "    v_states = B.shape[1] #\u53ef\u89c1\u5355\u5143\u72b6\u6001\n",
      "    h_states = A.shape[0] #\u9690\u5355\u5143\u72b6\u6001\u6570\n",
      "    l = observation.shape[0]\n",
      "    viterbi_matrix = numpy.zeros(shape=(h_states, l), dtype=float) #\u521d\u59cb\u5316\u8bb0\u5f55\u77e9\u9635\n",
      "    path_matrix = numpy.zeros(shape=(h_states, l), dtype=int) #\u8def\u5f84\u8bb0\u5f55\u77e9\u9635\n",
      "\n",
      "    viterbi_matrix[:, 0] = pi * B[:, observation[0]] #voterbi\u77e9\u9635\u7684\u7b2c\u4e00\u884c\u76f4\u63a5\u8ba1\u7b97\u5f97\u5230\n",
      "\n",
      "    for j in xrange(1, l): #\u5bf9\u94fe\u7684\u6bcf\u4e00\u4e2a\u65f6\u95f4\u8282\u70b9\n",
      "        for i in xrange(h_states): #\u5bf9\u9690\u5355\u5143\u7684\u6bcf\u4e00\u4e2a\u72b6\u6001\n",
      "            for k in xrange(h_states): #\u5bf9\u524d\u4e00\u4e2a\u65f6\u95f4\u8282\u70b9\u7684\u9690\u5355\u5143\u7684\u6240\u6709\u72b6\u6001\n",
      "                cost = viterbi_matrix[k, j-1] * A[k, i]\n",
      "                if viterbi_matrix[i, j] < cost: #\u5728j\u65f6\u523b\u9690\u5355\u5143\u5904\u4e8ei\u72b6\u6001\u4e14\u6ee1\u8db3\u53ef\u89c1\u5355\u5143\u72b6\u6001\u7684\u6700\u5927\u6982\u7387\n",
      "                    pre_h_states = k\n",
      "                    viterbi_matrix[i, j] = cost\n",
      "            viterbi_matrix[i, j] *=  B[i][observation[j]]\n",
      "            path_matrix[i][j] = pre_h_states #\u4fdd\u5b58\u8def\u5f84\u7684\u524d\u4e00\u4e2a\u8282\u70b9\u7684\u72b6\u6001\n",
      " \n",
      "    print 'Viterbi\u77e9\u9635\uff1a'\n",
      "    print viterbi_matrix\n",
      "    h_chain = numpy.zeros(shape=l, dtype=int)\n",
      "    h_chain[-1] = numpy.argmax(viterbi_matrix[:, -1])\n",
      "    for i in xrange(l-1, 0, -1):\n",
      "        h_chain[i-1] = path_matrix[h_chain[i], i]\n",
      "    print '\u6982\u7387\u6700\u5927\u7684\u9690\u72b6\u6001\u94fe:'\n",
      "    print h_chain\n",
      "    #print path_matrix       \n",
      "\n",
      "if __name__ == '__main__':\n",
      "    main()"
     ],
     "language": "python",
     "metadata": {},
     "outputs": [
      {
       "output_type": "stream",
       "stream": "stdout",
       "text": [
        "\u4f8b10.3\u9898\n",
        "Viterbi\u77e9\u9635\uff1a\n",
        "[[ 0.1      0.028    0.00756]\n",
        " [ 0.16     0.0504   0.01008]\n",
        " [ 0.28     0.042    0.0147 ]]\n",
        "\u6982\u7387\u6700\u5927\u7684\u9690\u72b6\u6001\u94fe:\n",
        "[2 2 2]\n",
        "\u65f6\u95f4\u6d88\u8017\uff1a 0.0\n",
        "\n",
        "\u4f8b10.1\u9898\n",
        "Viterbi\u77e9\u9635\uff1a\n",
        "[[ 0.125       0.015       0.0075      0.00336     0.00105   ]\n",
        " [ 0.075       0.0375      0.0168      0.00525     0.001008  ]\n",
        " [ 0.15        0.06        0.016       0.004032    0.00189   ]\n",
        " [ 0.2         0.08        0.008       0.00192     0.00193536]]\n",
        "\u6982\u7387\u6700\u5927\u7684\u9690\u72b6\u6001\u94fe:\n",
        "[3 2 1 2 3]\n",
        "\u65f6\u95f4\u6d88\u8017\uff1a 0.01\n"
       ]
      }
     ],
     "prompt_number": 9
    },
    {
     "cell_type": "code",
     "collapsed": false,
     "input": [
      "label_train = numpy.load('/home/zanghu/Pro_Datasets/wpa_mnist/wpa_mnist_label_train.npy')"
     ],
     "language": "python",
     "metadata": {},
     "outputs": [],
     "prompt_number": 11
    },
    {
     "cell_type": "code",
     "collapsed": false,
     "input": [
      "from pylearn2.models.mlp import ConvRectifiedLinear\n",
      "\n",
      "from pylearn2.train import Train\n",
      "from pylearn2.space import Conv2DSpace\n",
      "from pylearn2.datasets.mnist import MNIST\n",
      "from pylearn2.models.mlp import MLP, Softmax\n",
      "from pylearn2.training_algorithms.sgd import SGD\n",
      "from pylearn2.costs.cost import SumOfCosts\n",
      "from pylearn2.termination_criteria import MonitorBased\n",
      "from pylearn2.train_extensions.best_params import MonitorBasedSaveBest\n",
      "from pylearn2.training_algorithms.sgd import MomentumAdjustor\n",
      "\n",
      "dsm_train = MNIST(which_set='train', start=0, stop=50000, one_hot=True)\n",
      "dsm_valid\n",
      "dsm_test\n",
      "\n",
      "crl_layer_h2 = ConvRectifiedLinear(layer_name='h2', output_channels=64, irange=0.05, \n",
      "                                kernel_shape=[5, 5], pool_shape=[4, 4], pool_stride=[2, 2], max_kernel_norm=1.9365)\n",
      "crl_layer_h3 = ConvRectifiedLinear(layer_name='h3', output_channels=64, irange=0.05, \n",
      "                                kernel_shape=[5, 5], pool_shape=[4, 4], pool_stride=[2, 2], max_kernel_norm=1.9365)\n",
      "softmax_layer = Softmax(max_col_norm=1.9365, layer_name='y', n_classes=10, istdev=0.05)\n",
      "\n",
      "layers = [crl_layer_h2, crl_layer_h3, softmax_layer]\n",
      "\n",
      "mlp_model = MLP(batch_size=100, input_space=Conv2DSpace(shape=[28, 28], num_channels=1), layers=layers)\n",
      "\n",
      "cost = \n",
      "\n",
      "monitoring_dataset = {'valid': dsm_valid, 'test': dsm_test}\n",
      "\n",
      "alg = SGD(batch_size=100, learning_rate=0.01, init_momentum=0.05, monitoring_dataset=monitoring_dataset,"
     ],
     "language": "python",
     "metadata": {},
     "outputs": []
    },
    {
     "cell_type": "code",
     "collapsed": false,
     "input": [
      "#\u6784\u9020\u4e00\u4e2aConvRectifiedLinear\u5bf9\u8c61\uff0c\u653e\u5165\u4e00\u4e2aMLP\u5bf9\u8c61\u4e2d\uff0c\u8fd9\u6837\u5f97\u5230\u4e00\u4e2a\u53ea\u6709\u4e00\u5c42\u7684MLP\u5bf9\u8c61\n",
      "#\u8c03\u7528MLP\u7684\u65b9\u6cd5\uff0c\u83b7\u5f97MLP\u7684\u8f93\u51fa\u7b26\u53f7\u8868\u8fbe\u5f0f\n",
      "#\u5c06\u8fd9\u4e2a\u7b26\u53f7\u8868\u8fbe\u5f0f\u4f5c\u4e3acorre-AE\u4e00\u4fa7\u7684\u8f93\u5165\u653e\u5165\u6a21\u578b\uff0c\u5f97\u5230\u4ee3\u4ef7\n",
      "#\u4e4b\u540e\u7528\u8fd9\u4e2a\u4ee3\u4ef7\u8bad\u7ec3corre-AE\uff0c\u5f53\u7136\u662f\u65e0\u76d1\u7763\u7b97\u6cd5\n",
      "#\u8fd9\u91cc\u9700\u8981\u91cd\u5199\u65b0\u6a21\u578b\u7684get_params(self)\u65b9\u6cd5\uff0c\u8fd4\u56deAE\u7684\u53c2\u6570\u548cMLP\u7684\u53c2\u6570\n",
      "def get_params(self):\n",
      "    \"\"\"\"\"\"\n",
      "    #return self.mlp.get_params() + self.multi_AE.get_params() #\u4e24\u4e2a\u5217\u8868\u76f8\u52a0\uff0c\u5f97\u5230\u4e24\u4e2a\u5217\u8868\u4e4b\u5e76\n",
      "    return list(set.union(self.mlp.get_params(), self.multi_AE.get_params())) #\u4f7f\u7528union\u64cd\u4f5c\u53ef\u4ee5\u907f\u514d\u53c2\u6570\u91cd\u590d\uff0c\u66f4\u52a0\u4e25\u8c28\n",
      "\n",
      "#\u8003\u8651\u5230\u6700\u4e0a\u65b9\u7684AE\u6709\u4e24\u4e2a\u8f93\u5165\u7aef\uff0c\u56e0\u6b64\u5e94\u8be5\u6709\u4e24\u4e2a\u7ed3\u6784\u76f8\u540c\u7684\u5377\u79ef\u7f51\u7edc\n",
      "#\u56e0\u6b64\u5982\u679c\u628a\u8fd9\u4e2a\u7ed3\u6784\u770b\u4f5c\u4e00\u4e2a\u65b0\u6a21\u578b\uff0c\u90a3\u4e48\u8fd9\u4e2a\u65b0\u6a21\u578b\u5305\u542b\u4e24\u4e2aMLP\u5b9e\u4f8b\u548c\u4e00\u4e2acorre-AE\u5b9e\u4f8b"
     ],
     "language": "python",
     "metadata": {},
     "outputs": [
      {
       "output_type": "stream",
       "stream": "stdout",
       "text": [
        "int64\n"
       ]
      }
     ],
     "prompt_number": 12
    },
    {
     "cell_type": "code",
     "collapsed": false,
     "input": [
      "from pylearn2.costs.cost import Cost, SumOfCosts\n",
      "from pylearn2.space import VectorSpace, Conv2DSpace\n",
      "from collections import OrderedDict\n",
      "from multi_AE_0226 import AdjustableCombineCrossEntropyCost, CorreCost\n",
      "from itertools import izip\n",
      "\n",
      "class SpecialCost(Cost):\n",
      "    \n",
      "    def get_gradients(self, model, data, **kwargs):\n",
      "        \"\"\"\"\"\"\n",
      "        #\u4e24\u90e8\u5206\u4ee3\u4ef7\n",
      "        AE_cost = AdjustableCombineCrossEntropyCost(img_dim=model.multi_AE.n_vis_img, txt_dim=model.multi_AE.n_vis_txt)\n",
      "        corre_cost = CorreCost(img_dim=model.multi_AE.n_vis_img, txt_dim=model.multi_AE.n_vis_txt)\n",
      "        #AE_cost\u53ea\u5173\u4e8eAE\u7684\u53c2\u6570\u6c42\u5bfc\uff0ccorre_cost\u65e2\u5173\u4e8eAE\u7684\u53c2\u6570\u6709\u5173\u4e0emlp\u7684\u53c2\u6570\u6c42\u5bfc\n",
      "        mlp_left_output = model.mlp_left.fprop(state_below=data[:, :model.mlp_left.nvis])\n",
      "        mlp_right_output = model.mlp_right.fprop(state_below=data[:, model.mlp_left.nvis: model.mlp_right.nvis+model.mlp_left.nvis])\n",
      "        data_AE_left_in = model.mlp_left.format_as(mlp_left_output, model.multi_AE.img_AE.get_input_space())\n",
      "        data_AE_right_in = model.mlp_right.format_as(mlp_right_output, model.multi_AE.txt_AE.get_input_space())\n",
      "        data_AE_in = T.concatenate([data_AE_left_in, data_AE_right_in], axis=1)\n",
      "        \n",
      "        multi_AE_gradients = SumOfCosts([AE_cost, corre_cost]).get_gradients(model=model.multi_AE, data=data_AE_in)\n",
      "        \n",
      "        corre_cost_expr = corre_cost.expr(model=model.multi_AE, data=data_AE_in) #\u6ce8\u610f\u8be5\u7b26\u53f7\u8868\u8fbe\u5f0f\u4e2d\u542b\u6709mlp\u7684\u53c2\u6570\n",
      "        mlp_params_left = list(model.mlp_left.get_params())\n",
      "        mlp_params_right = list(model.mlp_right.get_params())\n",
      "        mlp_params = mlp_params_left + mlp_params_right #\u5de6\u53f3\u4e24\u4e2amlp\u53c2\u6570\u5217\u8868\n",
      "        mlp_grads = T.grad(corre_cost_expr, mlp_params, disconnected_inputs='ignore') #\u68af\u5ea6\u5217\u8868\n",
      "        mlp_gradients = OrderedDict(izip(mlp_params, mlp_grads)) #\u53c2\u6570\u5217\u8868\u4e0e\u68af\u5ea6\u5217\u8868\u5bf9\u5e94\u8d77\u6765\u7ec4\u6210\u5b57\u5178\n",
      "        \n",
      "        gradients = OrderedDict().update(multi_AE_gradients).update(mlp_gradients)\n",
      "        updates = OrderedDict()\n",
      "        \n",
      "        return gradients, updates\n",
      "        \n",
      "    def get_data_specs(self, model):\n",
      "        \"\"\"\"\"\"\n",
      "        return model.get_monitoring_data_specs()"
     ],
     "language": "python",
     "metadata": {},
     "outputs": [],
     "prompt_number": 23
    },
    {
     "cell_type": "code",
     "collapsed": false,
     "input": [
      "from collections import OrderedDict\n",
      "\n",
      "import numpy\n",
      "import theano\n",
      "import theano.tensor as T\n",
      "\n",
      "from pylearn2.models.model import Model\n",
      "from pylearn2.base import Block\n",
      "from pylearn2.models.mlp import ConvRectifiedLinear, MLP\n",
      "from multi_AE_0226 import AdjustableMultimodalAutoEncoder, MyMultimodalAutoEncoder\n",
      "from multi_AE_0226 import CorreCost, CombineCrossEntropyCost, AdjustableCombineCrossEntropyCost, CrossModalCrossEntropyCost\n",
      "\n",
      "class ConvMultimodalAutoEncoder(Model, Block):\n",
      "    \"\"\"\u62e5\u6709\u4e24\u4e2aMLP\u5bf9\u8c61\u4f55\u4e00\u4e2aAdjustableMultimodalAutoEncoder\u5bf9\u8c61\"\"\"\n",
      "    def __init__(self, mlp_left, mlp_right, multi_AE, numpy_rng=None, theano_rng=None):\n",
      "        \"\"\"\u8bbe\u8ba1\u5047\u8bbe\u4e09\u4e2a\u81ea\u6478\u578b\u5df2\u7ecf\u5206\u522b\u521d\u59cb\u5316\u5b8c\u6210\uff0c\u76f4\u63a5\u4f5c\u4e3a\u53c2\u6570\u8f93\u5165\uff0c\u4f5c\u4e3a\u5c5e\u6027\"\"\"\n",
      "        Model.__init__(self) # self.names_to_del = set(); self._test_batch_size = 2\n",
      "        Block.__init__(self) # self.fn = None; self.cpu_only = False\n",
      "        \n",
      "        for m in [mlp_left, mlp_right]:\n",
      "            assert isinstance(m, MLP)\n",
      "            for layer in m.layers:\n",
      "                assert isinstance(layer, ConvRectifiedLinear) #\u8981\u6c42MLP\u5bf9\u8c61\u7684\u6bcf\u4e00\u5c42\u90fd\u662f\u5377\u79ef\u7f51\u7edc\n",
      "        \n",
      "        assert isinstance(multi_AE, AdjustableMultimodalAutoEncoder)\n",
      "        #\u68c0\u67e5\u4e0b\u5c42\u7684\u8f93\u51fa\u7ef4\u6570\u662f\u5426\u7b49\u4e8e\u4e0a\u5c42\u7684\u8f93\u5165\u7ef4\u6570\n",
      "        assert mlp_left.get_output_space().get_total_dimension() == multi_AE.n_vis_img #\u5de6\u4fa7mlp\u5bf9img\n",
      "        assert mlp_right.get_output_space().get_total_dimension() == multi.AE.n_vis_txt #\u53f3\u4fa7mlp\u5bf9txt\n",
      "        \n",
      "        self.mlp_left = mlp_left\n",
      "        self.mlp_right = mlp_right\n",
      "        self.mlti_AE = multi_AE\n",
      "\n",
      "        self.input_space = VectorSpace( dim=(self.mlp_left.nvis + self.mlp_right.nvis) ) # add input_space\n",
      "        self.output_space = VectorSpace(dim=self.multi_AE.n_hid) # add output_space\n",
      "        \n",
      "        #\u53c2\u6570\u987a\u5e8f\uff1a\u56fe\u50cf\u6743\u503c\u77e9\u9635\uff0c \u56fe\u50cf\u7f16\u7801\u504f\u7f6e\uff0c\u56fe\u50cf\u89e3\u7801\u504f\u7f6e\uff0c\u6587\u672c\u6743\u503c\u77e9\u9635\uff0c\u6587\u672c\u7f16\u7801\u504f\u7f6e\uff0c\u6587\u672c\u89e3\u7801\u504f\u7f6e\n",
      "        #self._params = [self.img_AE.W, self.img_AE.b_enc, self.img_AE.b_dec, self.txt_AE.W, self.txt_AE.b_enc, self.txt_AE.b_dec] \n",
      "        self._params = list(set.union(self.mlp_left.get_params(), self.mlp_right.get_params(), self.multi_AE.get_params()))\n",
      "        \n",
      "    def get_monitoring_data_specs(self):\n",
      "        \"\"\"\"\"\"\n",
      "        return (self.get_input_space(), self.get_input_source())\n",
      "    \n",
      "    def get_monitoring_channels(self, data):\n",
      "        \"\"\"\"\"\"\n",
      "        channels = OrderedDict()\n",
      "        return channels\n",
      "    \n",
      "    def get_default_cost(self):\n",
      "        \"\"\"\"\"\"\n",
      "        return SpecialCost()"
     ],
     "language": "python",
     "metadata": {},
     "outputs": [],
     "prompt_number": 24
    },
    {
     "cell_type": "code",
     "collapsed": false,
     "input": [
      "if __name__ == '__main__':\n",
      "    \n",
      "    from pylearn2.datasets.mnist import MNIST\n",
      "    from pylearn2.space import Conv2DSpace\n",
      "    from pylearn2.training_algorithms.sgd import SGD\n",
      "    from pylearn2.costs.cost import SumOfCosts\n",
      "    from pylearn2.train import Train\n",
      "    #from pylearn2.training_algorithms.sgd import MonitorBasedLRAdjuster\n",
      "    #from pylearn2.training_algorithms.sgd import MomentumAdjustor\n",
      "    from pylearn2.termination_criteria import EpochCounter\n",
      "    \n",
      "    dsm_train = MNIST(which_set='train', start=0, stop=500, one_hot=True)\n",
      "    dsm_valid = MNIST(which_set='train', start=500, stop=600, one_hot=True)\n",
      "    dsm_test = MNIST(which_set='test', start=0, stop=100, one_hot=True)\n",
      "    \n",
      "    #monitoring_dataset = {'train': dsm_train, 'valid': dsm_valid, 'test': dsm_test}\n",
      "    monitoring_dataset = {'train': dsm_train}\n",
      "\t\n",
      "    ae_model = AdjustableMultimodalAutoEncoder(model_type='Combine', alpha=0.5, beta=0.5, n_vis_img=392, n_vis_txt=392, n_hid_img=100, n_hid_txt=100)\n",
      "    \n",
      "    crl_layer_left = ConvRectifiedLinear(layer_name='mlp_left', output_channels=64, irange=0.05, \n",
      "                                kernel_shape=[5, 5], pool_shape=[4, 4], pool_stride=[2, 2], max_kernel_norm=1.9365)\n",
      "    crl_layer_right = ConvRectifiedLinear(layer_name='mlp_right', output_channels=64, irange=0.05, \n",
      "                                kernel_shape=[5, 5], pool_shape=[4, 4], pool_stride=[2, 2], max_kernel_norm=1.9365)\n",
      "    \n",
      "    mlp_left = MLP(input_space=Conv2DSpace(shape=[28, 14], num_channels=1), layers=[crl_layer_left])\n",
      "    mlp_right = MLP(input_space=Conv2DSpace(shape=[28, 14], num_channels=1), layers=[crl_layer_right])\n",
      "    \n",
      "    conv_ae_model = ConvMultimodalAutoEncoder(mlp_left=mlp_left, mlp_right=mlp_right, multi_AE=ae_model)\n",
      "    \n",
      "    alg = SGD(learning_rate=0.01, cost=None, batch_size=20, init_momentum=None, monitoring_dataset=monitoring_dataset,\n",
      "              termination_criterion=EpochCounter(max_epochs=15))\n",
      "    \n",
      "    train = Train(dataset=dsm_train, model=ae_model, algorithm=alg, save_path='ae_save.pkl', save_freq=5)\n",
      "    \n",
      "    train.main_loop()"
     ],
     "language": "python",
     "metadata": {},
     "outputs": [
      {
       "ename": "KeyboardInterrupt",
       "evalue": "",
       "output_type": "pyerr",
       "traceback": [
        "\u001b[0;31m---------------------------------------------------------------------------\u001b[0m\n\u001b[0;31mKeyboardInterrupt\u001b[0m                         Traceback (most recent call last)",
        "\u001b[0;32m<ipython-input-26-a115ddec0050>\u001b[0m in \u001b[0;36m<module>\u001b[0;34m()\u001b[0m\n\u001b[1;32m     24\u001b[0m                                 kernel_shape=[5, 5], pool_shape=[4, 4], pool_stride=[2, 2], max_kernel_norm=1.9365)\n\u001b[1;32m     25\u001b[0m \u001b[0;34m\u001b[0m\u001b[0m\n\u001b[0;32m---> 26\u001b[0;31m     \u001b[0mmlp_left\u001b[0m \u001b[0;34m=\u001b[0m \u001b[0mMLP\u001b[0m\u001b[0;34m(\u001b[0m\u001b[0minput_space\u001b[0m\u001b[0;34m=\u001b[0m\u001b[0mConv2DSpace\u001b[0m\u001b[0;34m(\u001b[0m\u001b[0mshape\u001b[0m\u001b[0;34m=\u001b[0m\u001b[0;34m[\u001b[0m\u001b[0;36m28\u001b[0m\u001b[0;34m,\u001b[0m \u001b[0;36m14\u001b[0m\u001b[0;34m]\u001b[0m\u001b[0;34m,\u001b[0m \u001b[0mnum_channels\u001b[0m\u001b[0;34m=\u001b[0m\u001b[0;36m1\u001b[0m\u001b[0;34m)\u001b[0m\u001b[0;34m,\u001b[0m \u001b[0mlayers\u001b[0m\u001b[0;34m=\u001b[0m\u001b[0;34m[\u001b[0m\u001b[0mcrl_layer_left\u001b[0m\u001b[0;34m]\u001b[0m\u001b[0;34m)\u001b[0m\u001b[0;34m\u001b[0m\u001b[0m\n\u001b[0m\u001b[1;32m     27\u001b[0m     \u001b[0mmlp_right\u001b[0m \u001b[0;34m=\u001b[0m \u001b[0mMLP\u001b[0m\u001b[0;34m(\u001b[0m\u001b[0minput_space\u001b[0m\u001b[0;34m=\u001b[0m\u001b[0mConv2DSpace\u001b[0m\u001b[0;34m(\u001b[0m\u001b[0mshape\u001b[0m\u001b[0;34m=\u001b[0m\u001b[0;34m[\u001b[0m\u001b[0;36m28\u001b[0m\u001b[0;34m,\u001b[0m \u001b[0;36m14\u001b[0m\u001b[0;34m]\u001b[0m\u001b[0;34m,\u001b[0m \u001b[0mnum_channels\u001b[0m\u001b[0;34m=\u001b[0m\u001b[0;36m1\u001b[0m\u001b[0;34m)\u001b[0m\u001b[0;34m,\u001b[0m \u001b[0mlayers\u001b[0m\u001b[0;34m=\u001b[0m\u001b[0;34m[\u001b[0m\u001b[0mcrl_layer_right\u001b[0m\u001b[0;34m]\u001b[0m\u001b[0;34m)\u001b[0m\u001b[0;34m\u001b[0m\u001b[0m\n\u001b[1;32m     28\u001b[0m \u001b[0;34m\u001b[0m\u001b[0m\n",
        "\u001b[0;32m/usr/local/lib/python2.7/dist-packages/pylearn2/models/mlp.pyc\u001b[0m in \u001b[0;36m__init__\u001b[0;34m(self, layers, batch_size, input_space, nvis, seed, dropout_include_probs, dropout_scales, dropout_input_include_prob, dropout_input_scale)\u001b[0m\n\u001b[1;32m    218\u001b[0m         \u001b[0mself\u001b[0m\u001b[0;34m.\u001b[0m\u001b[0minput_space\u001b[0m \u001b[0;34m=\u001b[0m \u001b[0minput_space\u001b[0m\u001b[0;34m\u001b[0m\u001b[0m\n\u001b[1;32m    219\u001b[0m \u001b[0;34m\u001b[0m\u001b[0m\n\u001b[0;32m--> 220\u001b[0;31m         \u001b[0mself\u001b[0m\u001b[0;34m.\u001b[0m\u001b[0m_update_layer_input_spaces\u001b[0m\u001b[0;34m(\u001b[0m\u001b[0;34m)\u001b[0m\u001b[0;34m\u001b[0m\u001b[0m\n\u001b[0m\u001b[1;32m    221\u001b[0m \u001b[0;34m\u001b[0m\u001b[0m\n\u001b[1;32m    222\u001b[0m         \u001b[0mself\u001b[0m\u001b[0;34m.\u001b[0m\u001b[0mfreeze_set\u001b[0m \u001b[0;34m=\u001b[0m \u001b[0mset\u001b[0m\u001b[0;34m(\u001b[0m\u001b[0;34m[\u001b[0m\u001b[0;34m]\u001b[0m\u001b[0;34m)\u001b[0m\u001b[0;34m\u001b[0m\u001b[0m\n",
        "\u001b[0;32m/usr/local/lib/python2.7/dist-packages/pylearn2/models/mlp.pyc\u001b[0m in \u001b[0;36m_update_layer_input_spaces\u001b[0;34m(self)\u001b[0m\n\u001b[1;32m    242\u001b[0m         \"\"\"\n\u001b[1;32m    243\u001b[0m         \u001b[0mlayers\u001b[0m \u001b[0;34m=\u001b[0m \u001b[0mself\u001b[0m\u001b[0;34m.\u001b[0m\u001b[0mlayers\u001b[0m\u001b[0;34m\u001b[0m\u001b[0m\n\u001b[0;32m--> 244\u001b[0;31m         \u001b[0mlayers\u001b[0m\u001b[0;34m[\u001b[0m\u001b[0;36m0\u001b[0m\u001b[0;34m]\u001b[0m\u001b[0;34m.\u001b[0m\u001b[0mset_input_space\u001b[0m\u001b[0;34m(\u001b[0m\u001b[0mself\u001b[0m\u001b[0;34m.\u001b[0m\u001b[0minput_space\u001b[0m\u001b[0;34m)\u001b[0m\u001b[0;34m\u001b[0m\u001b[0m\n\u001b[0m\u001b[1;32m    245\u001b[0m         \u001b[0;32mfor\u001b[0m \u001b[0mi\u001b[0m \u001b[0;32min\u001b[0m \u001b[0mxrange\u001b[0m\u001b[0;34m(\u001b[0m\u001b[0;36m1\u001b[0m\u001b[0;34m,\u001b[0m\u001b[0mlen\u001b[0m\u001b[0;34m(\u001b[0m\u001b[0mlayers\u001b[0m\u001b[0;34m)\u001b[0m\u001b[0;34m)\u001b[0m\u001b[0;34m:\u001b[0m\u001b[0;34m\u001b[0m\u001b[0m\n\u001b[1;32m    246\u001b[0m             \u001b[0mlayers\u001b[0m\u001b[0;34m[\u001b[0m\u001b[0mi\u001b[0m\u001b[0;34m]\u001b[0m\u001b[0;34m.\u001b[0m\u001b[0mset_input_space\u001b[0m\u001b[0;34m(\u001b[0m\u001b[0mlayers\u001b[0m\u001b[0;34m[\u001b[0m\u001b[0mi\u001b[0m\u001b[0;34m-\u001b[0m\u001b[0;36m1\u001b[0m\u001b[0;34m]\u001b[0m\u001b[0;34m.\u001b[0m\u001b[0mget_output_space\u001b[0m\u001b[0;34m(\u001b[0m\u001b[0;34m)\u001b[0m\u001b[0;34m)\u001b[0m\u001b[0;34m\u001b[0m\u001b[0m\n",
        "\u001b[0;32m/usr/local/lib/python2.7/dist-packages/pylearn2/models/mlp.pyc\u001b[0m in \u001b[0;36mset_input_space\u001b[0;34m(self, space)\u001b[0m\n\u001b[1;32m   1835\u001b[0m                     \u001b[0mpool_stride\u001b[0m\u001b[0;34m=\u001b[0m\u001b[0mself\u001b[0m\u001b[0;34m.\u001b[0m\u001b[0mpool_stride\u001b[0m\u001b[0;34m,\u001b[0m\u001b[0;34m\u001b[0m\u001b[0m\n\u001b[1;32m   1836\u001b[0m                     image_shape=self.detector_space.shape)\n\u001b[0;32m-> 1837\u001b[0;31m         \u001b[0mdummy_p\u001b[0m \u001b[0;34m=\u001b[0m \u001b[0mdummy_p\u001b[0m\u001b[0;34m.\u001b[0m\u001b[0meval\u001b[0m\u001b[0;34m(\u001b[0m\u001b[0;34m)\u001b[0m\u001b[0;34m\u001b[0m\u001b[0m\n\u001b[0m\u001b[1;32m   1838\u001b[0m         self.output_space = Conv2DSpace(shape=[dummy_p.shape[2], dummy_p.shape[3]],\n\u001b[1;32m   1839\u001b[0m                 num_channels = self.output_channels, axes = ('b', 'c', 0, 1) )\n",
        "\u001b[0;32m/usr/local/lib/python2.7/dist-packages/theano/gof/graph.pyc\u001b[0m in \u001b[0;36meval\u001b[0;34m(self, inputs_to_values)\u001b[0m\n\u001b[1;32m    418\u001b[0m         \u001b[0;32mif\u001b[0m \u001b[0;32mnot\u001b[0m \u001b[0mhasattr\u001b[0m\u001b[0;34m(\u001b[0m\u001b[0mself\u001b[0m\u001b[0;34m,\u001b[0m \u001b[0;34m'_fn'\u001b[0m\u001b[0;34m)\u001b[0m\u001b[0;34m:\u001b[0m\u001b[0;34m\u001b[0m\u001b[0m\n\u001b[1;32m    419\u001b[0m             \u001b[0mself\u001b[0m\u001b[0;34m.\u001b[0m\u001b[0m_fn_inputs\u001b[0m \u001b[0;34m=\u001b[0m \u001b[0minputs_to_values\u001b[0m\u001b[0;34m.\u001b[0m\u001b[0mkeys\u001b[0m\u001b[0;34m(\u001b[0m\u001b[0;34m)\u001b[0m\u001b[0;34m\u001b[0m\u001b[0m\n\u001b[0;32m--> 420\u001b[0;31m             \u001b[0mself\u001b[0m\u001b[0;34m.\u001b[0m\u001b[0m_fn\u001b[0m \u001b[0;34m=\u001b[0m \u001b[0mtheano\u001b[0m\u001b[0;34m.\u001b[0m\u001b[0mfunction\u001b[0m\u001b[0;34m(\u001b[0m\u001b[0mself\u001b[0m\u001b[0;34m.\u001b[0m\u001b[0m_fn_inputs\u001b[0m\u001b[0;34m,\u001b[0m \u001b[0mself\u001b[0m\u001b[0;34m)\u001b[0m\u001b[0;34m\u001b[0m\u001b[0m\n\u001b[0m\u001b[1;32m    421\u001b[0m         \u001b[0margs\u001b[0m \u001b[0;34m=\u001b[0m \u001b[0;34m[\u001b[0m\u001b[0minputs_to_values\u001b[0m\u001b[0;34m[\u001b[0m\u001b[0mparam\u001b[0m\u001b[0;34m]\u001b[0m \u001b[0;32mfor\u001b[0m \u001b[0mparam\u001b[0m \u001b[0;32min\u001b[0m \u001b[0mself\u001b[0m\u001b[0;34m.\u001b[0m\u001b[0m_fn_inputs\u001b[0m\u001b[0;34m]\u001b[0m\u001b[0;34m\u001b[0m\u001b[0m\n\u001b[1;32m    422\u001b[0m \u001b[0;34m\u001b[0m\u001b[0m\n",
        "\u001b[0;32m/usr/local/lib/python2.7/dist-packages/theano/compile/function.pyc\u001b[0m in \u001b[0;36mfunction\u001b[0;34m(inputs, outputs, mode, updates, givens, no_default_updates, accept_inplace, name, rebuild_strict, allow_input_downcast, profile, on_unused_input)\u001b[0m\n\u001b[1;32m    219\u001b[0m                 \u001b[0mallow_input_downcast\u001b[0m\u001b[0;34m=\u001b[0m\u001b[0mallow_input_downcast\u001b[0m\u001b[0;34m,\u001b[0m\u001b[0;34m\u001b[0m\u001b[0m\n\u001b[1;32m    220\u001b[0m                 \u001b[0mon_unused_input\u001b[0m\u001b[0;34m=\u001b[0m\u001b[0mon_unused_input\u001b[0m\u001b[0;34m,\u001b[0m\u001b[0;34m\u001b[0m\u001b[0m\n\u001b[0;32m--> 221\u001b[0;31m                 profile=profile)\n\u001b[0m\u001b[1;32m    222\u001b[0m     \u001b[0;31m# We need to add the flag check_aliased inputs if we have any mutable or\u001b[0m\u001b[0;34m\u001b[0m\u001b[0;34m\u001b[0m\u001b[0m\n\u001b[1;32m    223\u001b[0m     \u001b[0;31m# borrowed used defined inputs\u001b[0m\u001b[0;34m\u001b[0m\u001b[0;34m\u001b[0m\u001b[0m\n",
        "\u001b[0;32m/usr/local/lib/python2.7/dist-packages/theano/compile/pfunc.pyc\u001b[0m in \u001b[0;36mpfunc\u001b[0;34m(params, outputs, mode, updates, givens, no_default_updates, accept_inplace, name, rebuild_strict, allow_input_downcast, profile, on_unused_input)\u001b[0m\n\u001b[1;32m    504\u001b[0m     return orig_function(inputs, cloned_outputs, mode,\n\u001b[1;32m    505\u001b[0m             \u001b[0maccept_inplace\u001b[0m\u001b[0;34m=\u001b[0m\u001b[0maccept_inplace\u001b[0m\u001b[0;34m,\u001b[0m \u001b[0mname\u001b[0m\u001b[0;34m=\u001b[0m\u001b[0mname\u001b[0m\u001b[0;34m,\u001b[0m \u001b[0mprofile\u001b[0m\u001b[0;34m=\u001b[0m\u001b[0mprofile\u001b[0m\u001b[0;34m,\u001b[0m\u001b[0;34m\u001b[0m\u001b[0m\n\u001b[0;32m--> 506\u001b[0;31m             on_unused_input=on_unused_input)\n\u001b[0m\u001b[1;32m    507\u001b[0m \u001b[0;34m\u001b[0m\u001b[0m\n\u001b[1;32m    508\u001b[0m \u001b[0;34m\u001b[0m\u001b[0m\n",
        "\u001b[0;32m/usr/local/lib/python2.7/dist-packages/theano/compile/function_module.pyc\u001b[0m in \u001b[0;36morig_function\u001b[0;34m(inputs, outputs, mode, accept_inplace, name, profile, on_unused_input)\u001b[0m\n\u001b[1;32m   1337\u001b[0m                 \u001b[0mprofile\u001b[0m\u001b[0;34m=\u001b[0m\u001b[0mprofile\u001b[0m\u001b[0;34m,\u001b[0m\u001b[0;34m\u001b[0m\u001b[0m\n\u001b[1;32m   1338\u001b[0m                 \u001b[0mon_unused_input\u001b[0m\u001b[0;34m=\u001b[0m\u001b[0mon_unused_input\u001b[0m\u001b[0;34m)\u001b[0m\u001b[0;34m.\u001b[0m\u001b[0mcreate\u001b[0m\u001b[0;34m(\u001b[0m\u001b[0;34m\u001b[0m\u001b[0m\n\u001b[0;32m-> 1339\u001b[0;31m                         defaults)\n\u001b[0m\u001b[1;32m   1340\u001b[0m \u001b[0;34m\u001b[0m\u001b[0m\n\u001b[1;32m   1341\u001b[0m     \u001b[0mt2\u001b[0m \u001b[0;34m=\u001b[0m \u001b[0mtime\u001b[0m\u001b[0;34m.\u001b[0m\u001b[0mtime\u001b[0m\u001b[0;34m(\u001b[0m\u001b[0;34m)\u001b[0m\u001b[0;34m\u001b[0m\u001b[0m\n",
        "\u001b[0;32m/usr/local/lib/python2.7/dist-packages/theano/compile/function_module.pyc\u001b[0m in \u001b[0;36mcreate\u001b[0;34m(self, input_storage, trustme)\u001b[0m\n\u001b[1;32m   1165\u001b[0m         \u001b[0;31m# Get a function instance\u001b[0m\u001b[0;34m\u001b[0m\u001b[0;34m\u001b[0m\u001b[0m\n\u001b[1;32m   1166\u001b[0m         \u001b[0mstart_linker\u001b[0m \u001b[0;34m=\u001b[0m \u001b[0mtime\u001b[0m\u001b[0;34m.\u001b[0m\u001b[0mtime\u001b[0m\u001b[0;34m(\u001b[0m\u001b[0;34m)\u001b[0m\u001b[0;34m\u001b[0m\u001b[0m\n\u001b[0;32m-> 1167\u001b[0;31m         \u001b[0m_fn\u001b[0m\u001b[0;34m,\u001b[0m \u001b[0m_i\u001b[0m\u001b[0;34m,\u001b[0m \u001b[0m_o\u001b[0m \u001b[0;34m=\u001b[0m \u001b[0mself\u001b[0m\u001b[0;34m.\u001b[0m\u001b[0mlinker\u001b[0m\u001b[0;34m.\u001b[0m\u001b[0mmake_thunk\u001b[0m\u001b[0;34m(\u001b[0m\u001b[0minput_storage\u001b[0m\u001b[0;34m=\u001b[0m\u001b[0minput_storage_lists\u001b[0m\u001b[0;34m)\u001b[0m\u001b[0;34m\u001b[0m\u001b[0m\n\u001b[0m\u001b[1;32m   1168\u001b[0m         \u001b[0mend_linker\u001b[0m \u001b[0;34m=\u001b[0m \u001b[0mtime\u001b[0m\u001b[0;34m.\u001b[0m\u001b[0mtime\u001b[0m\u001b[0;34m(\u001b[0m\u001b[0;34m)\u001b[0m\u001b[0;34m\u001b[0m\u001b[0m\n\u001b[1;32m   1169\u001b[0m \u001b[0;34m\u001b[0m\u001b[0m\n",
        "\u001b[0;32m/usr/local/lib/python2.7/dist-packages/theano/gof/link.pyc\u001b[0m in \u001b[0;36mmake_thunk\u001b[0;34m(self, profiler, input_storage, output_storage)\u001b[0m\n\u001b[1;32m    381\u001b[0m         return self.make_all(profiler = profiler,\n\u001b[1;32m    382\u001b[0m                              \u001b[0minput_storage\u001b[0m \u001b[0;34m=\u001b[0m \u001b[0minput_storage\u001b[0m\u001b[0;34m,\u001b[0m\u001b[0;34m\u001b[0m\u001b[0m\n\u001b[0;32m--> 383\u001b[0;31m                              output_storage = output_storage)[:3]\n\u001b[0m\u001b[1;32m    384\u001b[0m \u001b[0;34m\u001b[0m\u001b[0m\n\u001b[1;32m    385\u001b[0m     \u001b[0;32mdef\u001b[0m \u001b[0mmake_all\u001b[0m\u001b[0;34m(\u001b[0m\u001b[0mself\u001b[0m\u001b[0;34m,\u001b[0m \u001b[0mprofiler\u001b[0m\u001b[0;34m,\u001b[0m \u001b[0minput_storage\u001b[0m\u001b[0;34m,\u001b[0m \u001b[0moutput_storage\u001b[0m\u001b[0;34m)\u001b[0m\u001b[0;34m:\u001b[0m\u001b[0;34m\u001b[0m\u001b[0m\n",
        "\u001b[0;32m/usr/local/lib/python2.7/dist-packages/theano/gof/vm.pyc\u001b[0m in \u001b[0;36mmake_all\u001b[0;34m(self, profiler, input_storage, output_storage)\u001b[0m\n\u001b[1;32m    797\u001b[0m                     \u001b[0mcompute_map\u001b[0m\u001b[0;34m,\u001b[0m\u001b[0;34m\u001b[0m\u001b[0m\n\u001b[1;32m    798\u001b[0m                     no_recycling)\n\u001b[0;32m--> 799\u001b[0;31m                         for node in order]\n\u001b[0m\u001b[1;32m    800\u001b[0m \u001b[0;34m\u001b[0m\u001b[0m\n\u001b[1;32m    801\u001b[0m         \u001b[0mcomputed\u001b[0m\u001b[0;34m,\u001b[0m \u001b[0mlast_user\u001b[0m \u001b[0;34m=\u001b[0m \u001b[0mlink\u001b[0m\u001b[0;34m.\u001b[0m\u001b[0mgc_helper\u001b[0m\u001b[0;34m(\u001b[0m\u001b[0morder\u001b[0m\u001b[0;34m)\u001b[0m\u001b[0;34m\u001b[0m\u001b[0m\n",
        "\u001b[0;32m/usr/local/lib/python2.7/dist-packages/theano/gof/op.pyc\u001b[0m in \u001b[0;36mmake_thunk\u001b[0;34m(self, node, storage_map, compute_map, no_recycling)\u001b[0m\n\u001b[1;32m    578\u001b[0m                 \u001b[0mlogger\u001b[0m\u001b[0;34m.\u001b[0m\u001b[0mdebug\u001b[0m\u001b[0;34m(\u001b[0m\u001b[0;34m'Trying CLinker.make_thunk'\u001b[0m\u001b[0;34m)\u001b[0m\u001b[0;34m\u001b[0m\u001b[0m\n\u001b[1;32m    579\u001b[0m                 outputs = cl.make_thunk(input_storage=node_input_storage,\n\u001b[0;32m--> 580\u001b[0;31m                                         output_storage=node_output_storage)\n\u001b[0m\u001b[1;32m    581\u001b[0m                 \u001b[0mfill_storage\u001b[0m\u001b[0;34m,\u001b[0m \u001b[0mnode_input_filters\u001b[0m\u001b[0;34m,\u001b[0m \u001b[0mnode_output_filters\u001b[0m \u001b[0;34m=\u001b[0m \u001b[0moutputs\u001b[0m\u001b[0;34m\u001b[0m\u001b[0m\n\u001b[1;32m    582\u001b[0m \u001b[0;34m\u001b[0m\u001b[0m\n",
        "\u001b[0;32m/usr/local/lib/python2.7/dist-packages/theano/gof/cc.pyc\u001b[0m in \u001b[0;36mmake_thunk\u001b[0;34m(self, input_storage, output_storage, keep_lock)\u001b[0m\n\u001b[1;32m    911\u001b[0m         cthunk, in_storage, out_storage, error_storage = self.__compile__(\n\u001b[1;32m    912\u001b[0m             \u001b[0minput_storage\u001b[0m\u001b[0;34m,\u001b[0m \u001b[0moutput_storage\u001b[0m\u001b[0;34m,\u001b[0m\u001b[0;34m\u001b[0m\u001b[0m\n\u001b[0;32m--> 913\u001b[0;31m             keep_lock=keep_lock)\n\u001b[0m\u001b[1;32m    914\u001b[0m \u001b[0;34m\u001b[0m\u001b[0m\n\u001b[1;32m    915\u001b[0m         \u001b[0mres\u001b[0m \u001b[0;34m=\u001b[0m \u001b[0m_CThunk\u001b[0m\u001b[0;34m(\u001b[0m\u001b[0mcthunk\u001b[0m\u001b[0;34m,\u001b[0m \u001b[0minit_tasks\u001b[0m\u001b[0;34m,\u001b[0m \u001b[0mtasks\u001b[0m\u001b[0;34m,\u001b[0m \u001b[0merror_storage\u001b[0m\u001b[0;34m)\u001b[0m\u001b[0;34m\u001b[0m\u001b[0m\n",
        "\u001b[0;32m/usr/local/lib/python2.7/dist-packages/theano/gof/cc.pyc\u001b[0m in \u001b[0;36m__compile__\u001b[0;34m(self, input_storage, output_storage, keep_lock)\u001b[0m\n\u001b[1;32m    854\u001b[0m                                     \u001b[0minput_storage\u001b[0m\u001b[0;34m,\u001b[0m\u001b[0;34m\u001b[0m\u001b[0m\n\u001b[1;32m    855\u001b[0m                                     \u001b[0moutput_storage\u001b[0m\u001b[0;34m,\u001b[0m\u001b[0;34m\u001b[0m\u001b[0m\n\u001b[0;32m--> 856\u001b[0;31m                                     keep_lock=keep_lock)\n\u001b[0m\u001b[1;32m    857\u001b[0m         return (thunk,\n\u001b[1;32m    858\u001b[0m                 [link.Container(input, storage) for input, storage in\n",
        "\u001b[0;32m/usr/local/lib/python2.7/dist-packages/theano/gof/cc.pyc\u001b[0m in \u001b[0;36mcthunk_factory\u001b[0;34m(self, error_storage, in_storage, out_storage, keep_lock)\u001b[0m\n\u001b[1;32m   1277\u001b[0m         \u001b[0;32melse\u001b[0m\u001b[0;34m:\u001b[0m\u001b[0;34m\u001b[0m\u001b[0m\n\u001b[1;32m   1278\u001b[0m             module = get_module_cache().module_from_key(\n\u001b[0;32m-> 1279\u001b[0;31m                 key=key, fn=self.compile_cmodule_by_step, keep_lock=keep_lock)\n\u001b[0m\u001b[1;32m   1280\u001b[0m \u001b[0;34m\u001b[0m\u001b[0m\n\u001b[1;32m   1281\u001b[0m         \u001b[0mvars\u001b[0m \u001b[0;34m=\u001b[0m \u001b[0mself\u001b[0m\u001b[0;34m.\u001b[0m\u001b[0minputs\u001b[0m \u001b[0;34m+\u001b[0m \u001b[0mself\u001b[0m\u001b[0;34m.\u001b[0m\u001b[0moutputs\u001b[0m \u001b[0;34m+\u001b[0m \u001b[0mself\u001b[0m\u001b[0;34m.\u001b[0m\u001b[0morphans\u001b[0m\u001b[0;34m\u001b[0m\u001b[0m\n",
        "\u001b[0;32m/usr/local/lib/python2.7/dist-packages/theano/gof/cmodule.pyc\u001b[0m in \u001b[0;36mmodule_from_key\u001b[0;34m(self, key, fn, keep_lock, key_data)\u001b[0m\n\u001b[1;32m    973\u001b[0m                                 \u001b[0;31m# The module should be returned by the last\u001b[0m\u001b[0;34m\u001b[0m\u001b[0;34m\u001b[0m\u001b[0m\n\u001b[1;32m    974\u001b[0m                                 \u001b[0;31m# step of the compilation.\u001b[0m\u001b[0;34m\u001b[0m\u001b[0;34m\u001b[0m\u001b[0m\n\u001b[0;32m--> 975\u001b[0;31m                                 \u001b[0mmodule\u001b[0m \u001b[0;34m=\u001b[0m \u001b[0mcompile_steps\u001b[0m\u001b[0;34m.\u001b[0m\u001b[0mnext\u001b[0m\u001b[0;34m(\u001b[0m\u001b[0;34m)\u001b[0m\u001b[0;34m\u001b[0m\u001b[0m\n\u001b[0m\u001b[1;32m    976\u001b[0m                             \u001b[0;32mexcept\u001b[0m \u001b[0mStopIteration\u001b[0m\u001b[0;34m:\u001b[0m\u001b[0;34m\u001b[0m\u001b[0m\n\u001b[1;32m    977\u001b[0m                                 \u001b[0;32mbreak\u001b[0m\u001b[0;34m\u001b[0m\u001b[0m\n",
        "\u001b[0;32m/usr/local/lib/python2.7/dist-packages/theano/gof/cc.pyc\u001b[0m in \u001b[0;36mcompile_cmodule_by_step\u001b[0;34m(self, location)\u001b[0m\n\u001b[1;32m   1199\u001b[0m                     \u001b[0mlib_dirs\u001b[0m\u001b[0;34m=\u001b[0m\u001b[0mself\u001b[0m\u001b[0;34m.\u001b[0m\u001b[0mlib_dirs\u001b[0m\u001b[0;34m(\u001b[0m\u001b[0;34m)\u001b[0m\u001b[0;34m,\u001b[0m\u001b[0;34m\u001b[0m\u001b[0m\n\u001b[1;32m   1200\u001b[0m                     \u001b[0mlibs\u001b[0m\u001b[0;34m=\u001b[0m\u001b[0mlibs\u001b[0m\u001b[0;34m,\u001b[0m\u001b[0;34m\u001b[0m\u001b[0m\n\u001b[0;32m-> 1201\u001b[0;31m                     preargs=preargs)\n\u001b[0m\u001b[1;32m   1202\u001b[0m             \u001b[0;32mexcept\u001b[0m \u001b[0mException\u001b[0m\u001b[0;34m,\u001b[0m \u001b[0me\u001b[0m\u001b[0;34m:\u001b[0m\u001b[0;34m\u001b[0m\u001b[0m\n\u001b[1;32m   1203\u001b[0m                 \u001b[0me\u001b[0m\u001b[0;34m.\u001b[0m\u001b[0margs\u001b[0m \u001b[0;34m+=\u001b[0m \u001b[0;34m(\u001b[0m\u001b[0mstr\u001b[0m\u001b[0;34m(\u001b[0m\u001b[0mself\u001b[0m\u001b[0;34m.\u001b[0m\u001b[0mfgraph\u001b[0m\u001b[0;34m)\u001b[0m\u001b[0;34m,\u001b[0m\u001b[0;34m)\u001b[0m\u001b[0;34m\u001b[0m\u001b[0m\n",
        "\u001b[0;32m/usr/local/lib/python2.7/dist-packages/theano/gof/cmodule.pyc\u001b[0m in \u001b[0;36mcompile_str\u001b[0;34m(module_name, src_code, location, include_dirs, lib_dirs, libs, preargs, py_module)\u001b[0m\n\u001b[1;32m   1610\u001b[0m         \u001b[0;32mtry\u001b[0m\u001b[0;34m:\u001b[0m\u001b[0;34m\u001b[0m\u001b[0m\n\u001b[1;32m   1611\u001b[0m             \u001b[0mp\u001b[0m \u001b[0;34m=\u001b[0m \u001b[0mcall_subprocess_Popen\u001b[0m\u001b[0;34m(\u001b[0m\u001b[0mcmd\u001b[0m\u001b[0;34m,\u001b[0m \u001b[0mstderr\u001b[0m\u001b[0;34m=\u001b[0m\u001b[0msubprocess\u001b[0m\u001b[0;34m.\u001b[0m\u001b[0mPIPE\u001b[0m\u001b[0;34m)\u001b[0m\u001b[0;34m\u001b[0m\u001b[0m\n\u001b[0;32m-> 1612\u001b[0;31m             \u001b[0mcompile_stderr\u001b[0m \u001b[0;34m=\u001b[0m \u001b[0mp\u001b[0m\u001b[0;34m.\u001b[0m\u001b[0mcommunicate\u001b[0m\u001b[0;34m(\u001b[0m\u001b[0;34m)\u001b[0m\u001b[0;34m[\u001b[0m\u001b[0;36m1\u001b[0m\u001b[0;34m]\u001b[0m\u001b[0;34m\u001b[0m\u001b[0m\n\u001b[0m\u001b[1;32m   1613\u001b[0m         \u001b[0;32mexcept\u001b[0m \u001b[0mException\u001b[0m\u001b[0;34m:\u001b[0m\u001b[0;34m\u001b[0m\u001b[0m\n\u001b[1;32m   1614\u001b[0m             \u001b[0;31m# An exception can occur e.g. if `g++` is not found.\u001b[0m\u001b[0;34m\u001b[0m\u001b[0;34m\u001b[0m\u001b[0m\n",
        "\u001b[0;32m/usr/lib/python2.7/subprocess.pyc\u001b[0m in \u001b[0;36mcommunicate\u001b[0;34m(self, input)\u001b[0m\n\u001b[1;32m    799\u001b[0m                 \u001b[0mself\u001b[0m\u001b[0;34m.\u001b[0m\u001b[0mstdout\u001b[0m\u001b[0;34m.\u001b[0m\u001b[0mclose\u001b[0m\u001b[0;34m(\u001b[0m\u001b[0;34m)\u001b[0m\u001b[0;34m\u001b[0m\u001b[0m\n\u001b[1;32m    800\u001b[0m             \u001b[0;32melif\u001b[0m \u001b[0mself\u001b[0m\u001b[0;34m.\u001b[0m\u001b[0mstderr\u001b[0m\u001b[0;34m:\u001b[0m\u001b[0;34m\u001b[0m\u001b[0m\n\u001b[0;32m--> 801\u001b[0;31m                 \u001b[0mstderr\u001b[0m \u001b[0;34m=\u001b[0m \u001b[0m_eintr_retry_call\u001b[0m\u001b[0;34m(\u001b[0m\u001b[0mself\u001b[0m\u001b[0;34m.\u001b[0m\u001b[0mstderr\u001b[0m\u001b[0;34m.\u001b[0m\u001b[0mread\u001b[0m\u001b[0;34m)\u001b[0m\u001b[0;34m\u001b[0m\u001b[0m\n\u001b[0m\u001b[1;32m    802\u001b[0m                 \u001b[0mself\u001b[0m\u001b[0;34m.\u001b[0m\u001b[0mstderr\u001b[0m\u001b[0;34m.\u001b[0m\u001b[0mclose\u001b[0m\u001b[0;34m(\u001b[0m\u001b[0;34m)\u001b[0m\u001b[0;34m\u001b[0m\u001b[0m\n\u001b[1;32m    803\u001b[0m             \u001b[0mself\u001b[0m\u001b[0;34m.\u001b[0m\u001b[0mwait\u001b[0m\u001b[0;34m(\u001b[0m\u001b[0;34m)\u001b[0m\u001b[0;34m\u001b[0m\u001b[0m\n",
        "\u001b[0;32m/usr/lib/python2.7/subprocess.pyc\u001b[0m in \u001b[0;36m_eintr_retry_call\u001b[0;34m(func, *args)\u001b[0m\n\u001b[1;32m    476\u001b[0m     \u001b[0;32mwhile\u001b[0m \u001b[0mTrue\u001b[0m\u001b[0;34m:\u001b[0m\u001b[0;34m\u001b[0m\u001b[0m\n\u001b[1;32m    477\u001b[0m         \u001b[0;32mtry\u001b[0m\u001b[0;34m:\u001b[0m\u001b[0;34m\u001b[0m\u001b[0m\n\u001b[0;32m--> 478\u001b[0;31m             \u001b[0;32mreturn\u001b[0m \u001b[0mfunc\u001b[0m\u001b[0;34m(\u001b[0m\u001b[0;34m*\u001b[0m\u001b[0margs\u001b[0m\u001b[0;34m)\u001b[0m\u001b[0;34m\u001b[0m\u001b[0m\n\u001b[0m\u001b[1;32m    479\u001b[0m         \u001b[0;32mexcept\u001b[0m \u001b[0;34m(\u001b[0m\u001b[0mOSError\u001b[0m\u001b[0;34m,\u001b[0m \u001b[0mIOError\u001b[0m\u001b[0;34m)\u001b[0m \u001b[0;32mas\u001b[0m \u001b[0me\u001b[0m\u001b[0;34m:\u001b[0m\u001b[0;34m\u001b[0m\u001b[0m\n\u001b[1;32m    480\u001b[0m             \u001b[0;32mif\u001b[0m \u001b[0me\u001b[0m\u001b[0;34m.\u001b[0m\u001b[0merrno\u001b[0m \u001b[0;34m==\u001b[0m \u001b[0merrno\u001b[0m\u001b[0;34m.\u001b[0m\u001b[0mEINTR\u001b[0m\u001b[0;34m:\u001b[0m\u001b[0;34m\u001b[0m\u001b[0m\n",
        "\u001b[0;31mKeyboardInterrupt\u001b[0m: "
       ]
      },
      {
       "output_type": "stream",
       "stream": "stdout",
       "text": [
        "Input shape:  (28, 14)\n",
        "Detector space:  (24, 10)\n"
       ]
      }
     ],
     "prompt_number": 26
    },
    {
     "cell_type": "code",
     "collapsed": false,
     "input": [
      "from pylearn2.costs.cost import Cost, SumOfCosts\n",
      "from pylearn2.space import VectorSpace, Conv2DSpace\n",
      "from collections import OrderedDict\n",
      "from itertools import izip\n",
      "\n",
      "import numpy\n",
      "import theano\n",
      "import theano.tensor as T\n",
      "\n",
      "from pylearn2.models.model import Model\n",
      "from pylearn2.base import Block\n",
      "from pylearn2.models.mlp import ConvRectifiedLinear, MLP\n",
      "from multi_AE_0226 import AdjustableMultimodalAutoEncoder, MyMultimodalAutoEncoder\n",
      "from multi_AE_0226 import CorreCost, CombineCrossEntropyCost, AdjustableCombineCrossEntropyCost, CrossModalCrossEntropyCost\n",
      "\n",
      "theano.config.compute_test_value = 'off'\n",
      "\n",
      "class SpecialCost(Cost):\n",
      "    \n",
      "    def expr(self, model, data, **kwargs):\n",
      "        \"\"\"\"\"\"\n",
      "        return None\n",
      "    \n",
      "    def get_gradients_1(self, model, data, **kwargs):\n",
      "        \"\"\"\"\"\"\n",
      "        #\u4e24\u90e8\u5206\u4ee3\u4ef7\n",
      "        AE_cost = AdjustableCombineCrossEntropyCost(img_dim=model.multi_AE.n_vis_img, txt_dim=model.multi_AE.n_vis_txt)\n",
      "        corre_cost = CorreCost(img_dim=model.multi_AE.n_vis_img, txt_dim=model.multi_AE.n_vis_txt)\n",
      "        \n",
      "        #AE_cost\u53ea\u5173\u4e8eAE\u7684\u53c2\u6570\u6c42\u5bfc\uff0ccorre_cost\u65e2\u5173\u4e8eAE\u7684\u53c2\u6570\u6709\u5173\u4e0emlp\u7684\u53c2\u6570\u6c42\u5bfc\n",
      "        print 'in get_gradients, model.mlp_left.nvis=', model.mlp_left.get_input_space().get_total_dimension()\n",
      "        print 'in get_gradients, model.mlp_right.nvis=', model.mlp_right.get_input_space().get_total_dimension()\n",
      "\n",
      "        #\u5bf9\u8bbe\u8ba1\u77e9\u9635\u8fdb\u884c\u5207\u5206\n",
      "        orin_data_left = data[:, :, :14, :]\n",
      "        orin_data_right = data[:,:, 14:28, :]\n",
      "        #\u5c06VectorSpace\u7684\u8f93\u5165\u8f6c\u6362\u4e3aConv2DSpace\u7684\u8f93\u5165\n",
      "        mlp_left_input = orin_data_left\n",
      "        mlp_right_input = orin_data_right\n",
      "        \n",
      "        print 'mlp_left_input.ndim=%d' % mlp_left_input.ndim\n",
      "        print 'mlp_right_input.ndim=%d'% mlp_right_input.ndim\n",
      "        \n",
      "        assert mlp_left_input.ndim == 4\n",
      "        assert mlp_right_input.ndim == 4\n",
      "        \n",
      "        mlp_left_output = model.mlp_left.fprop(mlp_left_input)\n",
      "        mlp_right_output = model.mlp_right.fprop(mlp_right_input)\n",
      "        \n",
      "        assert mlp_left_output.ndim == 4\n",
      "        assert mlp_right_output.ndim == 4\n",
      "        \n",
      "        data_AE_left_in = model.mlp_left.get_output_space().format_as(mlp_left_output, model.multi_AE.img_AE.get_input_space())\n",
      "        data_AE_right_in = model.mlp_right.get_output_space().format_as(mlp_right_output, model.multi_AE.txt_AE.get_input_space())\n",
      "        assert data_AE_left_in.ndim == 2\n",
      "        assert data_AE_right_in.ndim == 2\n",
      "        data_AE_in = T.concatenate([data_AE_left_in, data_AE_right_in], axis=1)\n",
      "        assert data_AE_in.ndim == 2\n",
      "        \n",
      "        multi_AE_gradients, update_AE = SumOfCosts([AE_cost, corre_cost]).get_gradients(model=model.multi_AE, data=data_AE_in)\n",
      "        \n",
      "        corre_cost_expr = corre_cost.expr(model=model.multi_AE, data=data_AE_in) #\u6ce8\u610f\u8be5\u7b26\u53f7\u8868\u8fbe\u5f0f\u4e2d\u542b\u6709mlp\u7684\u53c2\u6570\n",
      "        mlp_params_left = list(model.mlp_left.get_params())\n",
      "        mlp_params_right = list(model.mlp_right.get_params())\n",
      "        mlp_params = mlp_params_left + mlp_params_right #\u5de6\u53f3\u4e24\u4e2amlp\u53c2\u6570\u5217\u8868\n",
      "        mlp_grads = T.grad(corre_cost_expr, mlp_params, disconnected_inputs='ignore') #\u68af\u5ea6\u5217\u8868\n",
      "        mlp_gradients = OrderedDict(izip(mlp_params, mlp_grads)) #\u53c2\u6570\u5217\u8868\u4e0e\u68af\u5ea6\u5217\u8868\u5bf9\u5e94\u8d77\u6765\u7ec4\u6210\u5b57\u5178\n",
      "        \n",
      "        gradients = OrderedDict()\n",
      "        gradients.update(multi_AE_gradients)\n",
      "        gradients.update(mlp_gradients)\n",
      "        updates = OrderedDict()\n",
      "        updates.update(update_AE)\n",
      "        \n",
      "        return gradients, updates\n",
      "    \n",
      "    def get_gradients(self, model, data, **kwargs):\n",
      "        \"\"\"\"\"\"\n",
      "        #\u4e24\u90e8\u5206\u4ee3\u4ef7\n",
      "        assert data.ndim == 2\n",
      "        AE_cost = AdjustableCombineCrossEntropyCost(img_dim=model.multi_AE.n_vis_img, txt_dim=model.multi_AE.n_vis_txt)\n",
      "        corre_cost = CorreCost(img_dim=model.multi_AE.n_vis_img, txt_dim=model.multi_AE.n_vis_txt)\n",
      "        \n",
      "        #AE_cost\u53ea\u5173\u4e8eAE\u7684\u53c2\u6570\u6c42\u5bfc\uff0ccorre_cost\u65e2\u5173\u4e8eAE\u7684\u53c2\u6570\u6709\u5173\u4e0emlp\u7684\u53c2\u6570\u6c42\u5bfc\n",
      "        print 'in get_gradients, model.mlp_left.nvis=', model.mlp_left.get_input_space().get_total_dimension()\n",
      "        print 'in get_gradients, model.mlp_right.nvis=', model.mlp_right.get_input_space().get_total_dimension()\n",
      "        \n",
      "        #orin_data_left = data[:, :model.mlp_left.get_input_space().get_total_dimension()]\n",
      "        #orin_data_right = data[:, model.mlp_left.get_input_space().get_total_dimension(): \\\n",
      "        #                     model.mlp_left.get_input_space().get_total_dimension() + model.mlp_right.get_input_space().get_total_dimension()]\n",
      "        #\u5bf9\u8bbe\u8ba1\u77e9\u9635\u8fdb\u884c\u5207\u5206\n",
      "        orin_data_left = data[:, :392]\n",
      "        orin_data_right = data[:, 392: 784]\n",
      "        #\u5c06VectorSpace\u7684\u8f93\u5165\u8f6c\u6362\u4e3aConv2DSpace\u7684\u8f93\u5165\n",
      "        mlp_left_input = VectorSpace(dim=392).format_as(orin_data_left, model.mlp_left.get_input_space())\n",
      "        mlp_right_input = VectorSpace(dim=392).format_as(orin_data_right, model.mlp_left.get_input_space())\n",
      "        \n",
      "        print 'mlp_left_input.ndim=%d' % mlp_left_input.ndim\n",
      "        print 'mlp_right_input.ndim=%d'% mlp_right_input.ndim\n",
      "        \n",
      "        assert mlp_left_input.ndim == 4\n",
      "        assert mlp_right_input.ndim == 4\n",
      "        \n",
      "        mlp_left_output = model.mlp_left.fprop(mlp_left_input)\n",
      "        mlp_right_output = model.mlp_right.fprop(mlp_right_input)\n",
      "        \n",
      "        assert mlp_left_output.ndim == 4\n",
      "        assert mlp_right_output.ndim == 4\n",
      "        \n",
      "        data_AE_left_in = model.mlp_left.get_output_space().format_as(mlp_left_output, model.multi_AE.img_AE.get_input_space())\n",
      "        data_AE_right_in = model.mlp_right.get_output_space().format_as(mlp_right_output, model.multi_AE.txt_AE.get_input_space())\n",
      "        assert data_AE_left_in.ndim == 2\n",
      "        assert data_AE_right_in.ndim == 2\n",
      "        data_AE_in = T.concatenate([data_AE_left_in, data_AE_right_in], axis=1)\n",
      "        assert data_AE_in.ndim == 2\n",
      "        \n",
      "        multi_AE_gradients, update_AE = SumOfCosts([AE_cost, corre_cost]).get_gradients(model=model.multi_AE, data=data_AE_in)\n",
      "        \n",
      "        corre_cost_expr = corre_cost.expr(model=model.multi_AE, data=data_AE_in) #\u6ce8\u610f\u8be5\u7b26\u53f7\u8868\u8fbe\u5f0f\u4e2d\u542b\u6709mlp\u7684\u53c2\u6570\n",
      "        mlp_params_left = list(model.mlp_left.get_params())\n",
      "        mlp_params_right = list(model.mlp_right.get_params())\n",
      "        mlp_params = mlp_params_left + mlp_params_right #\u5de6\u53f3\u4e24\u4e2amlp\u53c2\u6570\u5217\u8868\n",
      "        mlp_grads = T.grad(corre_cost_expr, mlp_params, disconnected_inputs='ignore') #\u68af\u5ea6\u5217\u8868\n",
      "        mlp_gradients = OrderedDict(izip(mlp_params, mlp_grads)) #\u53c2\u6570\u5217\u8868\u4e0e\u68af\u5ea6\u5217\u8868\u5bf9\u5e94\u8d77\u6765\u7ec4\u6210\u5b57\u5178\n",
      "        \n",
      "        gradients = OrderedDict()\n",
      "        gradients.update(multi_AE_gradients)\n",
      "        gradients.update(mlp_gradients)\n",
      "        updates = OrderedDict()\n",
      "        updates.update(update_AE)\n",
      "        \n",
      "        return gradients, updates\n",
      "        \n",
      "    def get_data_specs(self, model):\n",
      "        \"\"\"\"\"\"\n",
      "        return model.get_monitoring_data_specs()\n",
      "\n",
      "class ConvMultimodalAutoEncoder(Model, Block):\n",
      "    \"\"\"\u62e5\u6709\u4e24\u4e2aMLP\u5bf9\u8c61\u4f55\u4e00\u4e2aAdjustableMultimodalAutoEncoder\u5bf9\u8c61\"\"\"\n",
      "    def __init__(self, mlp_left, mlp_right, multi_AE, numpy_rng=None, theano_rng=None):\n",
      "        \"\"\"\u8bbe\u8ba1\u5047\u8bbe\u4e09\u4e2a\u81ea\u6478\u578b\u5df2\u7ecf\u5206\u522b\u521d\u59cb\u5316\u5b8c\u6210\uff0c\u76f4\u63a5\u4f5c\u4e3a\u53c2\u6570\u8f93\u5165\uff0c\u4f5c\u4e3a\u5c5e\u6027\"\"\"\n",
      "        Model.__init__(self) # self.names_to_del = set(); self._test_batch_size = 2\n",
      "        Block.__init__(self) # self.fn = None; self.cpu_only = False\n",
      "        \n",
      "        for m in [mlp_left, mlp_right]:\n",
      "            assert isinstance(m, MLP)\n",
      "            for layer in m.layers:\n",
      "                assert isinstance(layer, ConvRectifiedLinear) #\u8981\u6c42MLP\u5bf9\u8c61\u7684\u6bcf\u4e00\u5c42\u90fd\u662f\u5377\u79ef\u7f51\u7edc\n",
      "        \n",
      "        assert isinstance(multi_AE, AdjustableMultimodalAutoEncoder)\n",
      "        #\u68c0\u67e5\u4e0b\u5c42\u7684\u8f93\u51fa\u7ef4\u6570\u662f\u5426\u7b49\u4e8e\u4e0a\u5c42\u7684\u8f93\u5165\u7ef4\u6570\n",
      "        #print 'mlp: ', mlp_left.get_output_space().get_total_dimension()\n",
      "        #print 'AE: ', multi_AE.n_vis_img\n",
      "        assert mlp_left.get_output_space().get_total_dimension() == multi_AE.n_vis_img #\u5de6\u4fa7mlp\u5bf9img\n",
      "        assert mlp_right.get_output_space().get_total_dimension() == multi_AE.n_vis_txt #\u53f3\u4fa7mlp\u5bf9txt\n",
      "        \n",
      "        self.mlp_left = mlp_left\n",
      "        self.mlp_right = mlp_right\n",
      "        self.multi_AE = multi_AE\n",
      "        \n",
      "        #self.mlp_left.nvis = self.mlp_left.get_input_space().get_total_dimension()\n",
      "        #self.mlp_right.nvis = self.mlp_right.get_input_space().get_total_dimension()\n",
      "\n",
      "        input_dim = self.mlp_left.get_input_space().get_total_dimension() + self.mlp_right.get_input_space().get_total_dimension()\n",
      "        #self.input_space = Conv2DSpace(shape=[28, 28], num_channels=1) # add input_space\n",
      "        self.input_space = VectorSpace(dim=self.multi_AE.n_vis) # add input_space\n",
      "        self.output_space = VectorSpace(dim=self.multi_AE.n_hid) # add output_space\n",
      "        \n",
      "        #\u53c2\u6570\u987a\u5e8f\uff1a\u56fe\u50cf\u6743\u503c\u77e9\u9635\uff0c \u56fe\u50cf\u7f16\u7801\u504f\u7f6e\uff0c\u56fe\u50cf\u89e3\u7801\u504f\u7f6e\uff0c\u6587\u672c\u6743\u503c\u77e9\u9635\uff0c\u6587\u672c\u7f16\u7801\u504f\u7f6e\uff0c\u6587\u672c\u89e3\u7801\u504f\u7f6e\n",
      "        #self._params = [self.img_AE.W, self.img_AE.b_enc, self.img_AE.b_dec, self.txt_AE.W, self.txt_AE.b_enc, self.txt_AE.b_dec] \n",
      "        self._params = list(set.union(set(self.mlp_left.get_params()), set(self.mlp_right.get_params()), set(self.multi_AE.get_params())))\n",
      "        \n",
      "    def get_monitoring_data_specs(self):\n",
      "        \"\"\"\"\"\"\n",
      "        return (self.get_input_space(), self.get_input_source())\n",
      "    \n",
      "    def get_monitoring_channels(self, data):\n",
      "        \"\"\"\"\"\"\n",
      "        channels = OrderedDict()\n",
      "        return channels\n",
      "    \n",
      "    def get_default_cost(self):\n",
      "        \"\"\"\"\"\"\n",
      "        return SpecialCost()\n",
      "    \n",
      "if __name__ == '__main__':\n",
      "    \n",
      "    from pylearn2.datasets.mnist import MNIST\n",
      "    from pylearn2.space import Conv2DSpace\n",
      "    from pylearn2.training_algorithms.sgd import SGD\n",
      "    from pylearn2.costs.cost import SumOfCosts\n",
      "    from pylearn2.train import Train\n",
      "    #from pylearn2.training_algorithms.sgd import MonitorBasedLRAdjuster\n",
      "    #from pylearn2.training_algorithms.sgd import MomentumAdjustor\n",
      "    from pylearn2.termination_criteria import EpochCounter\n",
      "    \n",
      "    dsm_train = MNIST(which_set='train', start=0, stop=500, one_hot=True)\n",
      "    dsm_valid = MNIST(which_set='train', start=500, stop=600, one_hot=True)\n",
      "    dsm_test = MNIST(which_set='test', start=0, stop=100, one_hot=True)\n",
      "    \n",
      "    #monitoring_dataset = {'train': dsm_train, 'valid': dsm_valid, 'test': dsm_test}\n",
      "    monitoring_dataset = {'train': dsm_train}\n",
      "\t\n",
      "    ae_model = AdjustableMultimodalAutoEncoder(model_type='Combine', alpha=0.5, beta=0.5, n_vis_img=2816, n_vis_txt=2816, n_hid_img=100, n_hid_txt=100)\n",
      "    \n",
      "    crl_layer_left = ConvRectifiedLinear(layer_name='mlp_left', output_channels=64, irange=0.05, \n",
      "                                kernel_shape=[5, 5], pool_shape=[4, 4], pool_stride=[2, 2], max_kernel_norm=1.9365)\n",
      "    crl_layer_right = ConvRectifiedLinear(layer_name='mlp_right', output_channels=64, irange=0.05, \n",
      "                                kernel_shape=[5, 5], pool_shape=[4, 4], pool_stride=[2, 2], max_kernel_norm=1.9365)\n",
      "    \n",
      "    mlp_left = MLP(input_space=Conv2DSpace(shape=[28, 14], num_channels=1), layers=[crl_layer_left])\n",
      "    mlp_right = MLP(input_space=Conv2DSpace(shape=[28, 14], num_channels=1), layers=[crl_layer_right])\n",
      "    \n",
      "    conv_ae_model = ConvMultimodalAutoEncoder(mlp_left=mlp_left, mlp_right=mlp_right, multi_AE=ae_model)\n",
      "    \n",
      "    alg = SGD(learning_rate=0.01, cost=None, batch_size=20, init_momentum=None, monitoring_dataset=monitoring_dataset,\n",
      "              termination_criterion=EpochCounter(max_epochs=15))\n",
      "    \n",
      "    train = Train(dataset=dsm_train, model=conv_ae_model, algorithm=alg, save_path='ae_save.pkl', save_freq=5)\n",
      "    \n",
      "    train.main_loop()"
     ],
     "language": "python",
     "metadata": {},
     "outputs": [
      {
       "output_type": "stream",
       "stream": "stdout",
       "text": [
        "Input shape:  (28, 14)\n",
        "Detector space:  (24, 10)\n",
        "Output space: "
       ]
      },
      {
       "output_type": "stream",
       "stream": "stdout",
       "text": [
        " (11, 4)\n",
        "Input shape:  (28, 14)\n",
        "Detector space:  (24, 10)\n",
        "Output space: "
       ]
      },
      {
       "output_type": "stream",
       "stream": "stdout",
       "text": [
        " (11, 4)\n",
        "in get_gradients, model.mlp_left.nvis= 392\n",
        "in get_gradients, model.mlp_right.nvis= 392\n",
        "mlp_left_input.ndim=4\n",
        "mlp_right_input.ndim=4\n",
        "Parameter and initial learning rate summary:\n"
       ]
      },
      {
       "output_type": "stream",
       "stream": "stdout",
       "text": [
        "\tb: 0.01\n"
       ]
      },
      {
       "output_type": "stream",
       "stream": "stdout",
       "text": [
        "\tb: 0.01\n"
       ]
      },
      {
       "output_type": "stream",
       "stream": "stdout",
       "text": [
        "\tW: 0.01\n"
       ]
      },
      {
       "output_type": "stream",
       "stream": "stdout",
       "text": [
        "\tb_enc: 0.01\n"
       ]
      },
      {
       "output_type": "stream",
       "stream": "stdout",
       "text": [
        "\tb_enc: 0.01\n"
       ]
      },
      {
       "output_type": "stream",
       "stream": "stdout",
       "text": [
        "\tb_dec: 0.01\n"
       ]
      },
      {
       "output_type": "stream",
       "stream": "stdout",
       "text": [
        "\tW: 0.01\n"
       ]
      },
      {
       "output_type": "stream",
       "stream": "stdout",
       "text": [
        "\tW: 0.01\n"
       ]
      },
      {
       "output_type": "stream",
       "stream": "stdout",
       "text": [
        "\tW: 0.01\n"
       ]
      },
      {
       "output_type": "stream",
       "stream": "stdout",
       "text": [
        "\tb_dec: 0.01\n"
       ]
      },
      {
       "output_type": "stream",
       "stream": "stdout",
       "text": [
        "Compiling sgd_update...\n"
       ]
      },
      {
       "output_type": "stream",
       "stream": "stdout",
       "text": [
        "Compiling sgd_update done. Time elapsed: 10.000000 seconds\n"
       ]
      },
      {
       "output_type": "stream",
       "stream": "stdout",
       "text": [
        "compiling begin_record_entry...\n"
       ]
      },
      {
       "output_type": "stream",
       "stream": "stdout",
       "text": [
        "compiling begin_record_entry done. Time elapsed: 0.000000 seconds\n"
       ]
      },
      {
       "output_type": "stream",
       "stream": "stdout",
       "text": [
        "Monitored channels: \n"
       ]
      },
      {
       "output_type": "stream",
       "stream": "stdout",
       "text": [
        "\tlearning_rate\n"
       ]
      },
      {
       "output_type": "stream",
       "stream": "stdout",
       "text": [
        "\tmonitor_seconds_per_epoch\n"
       ]
      },
      {
       "output_type": "stream",
       "stream": "stdout",
       "text": [
        "Compiling accum...\n"
       ]
      },
      {
       "output_type": "stream",
       "stream": "stdout",
       "text": [
        "graph size: 4\n"
       ]
      },
      {
       "output_type": "stream",
       "stream": "stdout",
       "text": [
        "Compiling accum done. Time elapsed: 0.000000 seconds\n"
       ]
      },
      {
       "ename": "NotImplementedError",
       "evalue": "VectorSpace(dim=784) doesn't know how to format as VectorSpace(dim=5632)",
       "output_type": "pyerr",
       "traceback": [
        "\u001b[0;31m---------------------------------------------------------------------------\u001b[0m\n\u001b[0;31mNotImplementedError\u001b[0m                       Traceback (most recent call last)",
        "\u001b[0;32m<ipython-input-64-31b10d1466ac>\u001b[0m in \u001b[0;36m<module>\u001b[0;34m()\u001b[0m\n\u001b[1;32m    219\u001b[0m     \u001b[0mtrain\u001b[0m \u001b[0;34m=\u001b[0m \u001b[0mTrain\u001b[0m\u001b[0;34m(\u001b[0m\u001b[0mdataset\u001b[0m\u001b[0;34m=\u001b[0m\u001b[0mdsm_train\u001b[0m\u001b[0;34m,\u001b[0m \u001b[0mmodel\u001b[0m\u001b[0;34m=\u001b[0m\u001b[0mconv_ae_model\u001b[0m\u001b[0;34m,\u001b[0m \u001b[0malgorithm\u001b[0m\u001b[0;34m=\u001b[0m\u001b[0malg\u001b[0m\u001b[0;34m,\u001b[0m \u001b[0msave_path\u001b[0m\u001b[0;34m=\u001b[0m\u001b[0;34m'ae_save.pkl'\u001b[0m\u001b[0;34m,\u001b[0m \u001b[0msave_freq\u001b[0m\u001b[0;34m=\u001b[0m\u001b[0;36m5\u001b[0m\u001b[0;34m)\u001b[0m\u001b[0;34m\u001b[0m\u001b[0m\n\u001b[1;32m    220\u001b[0m \u001b[0;34m\u001b[0m\u001b[0m\n\u001b[0;32m--> 221\u001b[0;31m     \u001b[0mtrain\u001b[0m\u001b[0;34m.\u001b[0m\u001b[0mmain_loop\u001b[0m\u001b[0;34m(\u001b[0m\u001b[0;34m)\u001b[0m\u001b[0;34m\u001b[0m\u001b[0m\n\u001b[0m",
        "\u001b[0;32m/usr/local/lib/python2.7/dist-packages/pylearn2/train.pyc\u001b[0m in \u001b[0;36mmain_loop\u001b[0;34m(self)\u001b[0m\n\u001b[1;32m    131\u001b[0m                                                \u001b[0mdata_specs\u001b[0m\u001b[0;34m=\u001b[0m\u001b[0;34m(\u001b[0m\u001b[0mNullSpace\u001b[0m\u001b[0;34m(\u001b[0m\u001b[0;34m)\u001b[0m\u001b[0;34m,\u001b[0m \u001b[0;34m''\u001b[0m\u001b[0;34m)\u001b[0m\u001b[0;34m,\u001b[0m\u001b[0;34m\u001b[0m\u001b[0m\n\u001b[1;32m    132\u001b[0m                                                dataset=self.model.monitor._datasets[0])\n\u001b[0;32m--> 133\u001b[0;31m             \u001b[0mself\u001b[0m\u001b[0;34m.\u001b[0m\u001b[0mrun_callbacks_and_monitoring\u001b[0m\u001b[0;34m(\u001b[0m\u001b[0;34m)\u001b[0m\u001b[0;34m\u001b[0m\u001b[0m\n\u001b[0m\u001b[1;32m    134\u001b[0m             \u001b[0;32mwhile\u001b[0m \u001b[0mTrue\u001b[0m\u001b[0;34m:\u001b[0m\u001b[0;34m\u001b[0m\u001b[0m\n\u001b[1;32m    135\u001b[0m                 with log_timing(log, None, final_msg='Time this epoch:',\n",
        "\u001b[0;32m/usr/local/lib/python2.7/dist-packages/pylearn2/train.pyc\u001b[0m in \u001b[0;36mrun_callbacks_and_monitoring\u001b[0;34m(self)\u001b[0m\n\u001b[1;32m    153\u001b[0m \u001b[0;34m\u001b[0m\u001b[0m\n\u001b[1;32m    154\u001b[0m     \u001b[0;32mdef\u001b[0m \u001b[0mrun_callbacks_and_monitoring\u001b[0m\u001b[0;34m(\u001b[0m\u001b[0mself\u001b[0m\u001b[0;34m)\u001b[0m\u001b[0;34m:\u001b[0m\u001b[0;34m\u001b[0m\u001b[0m\n\u001b[0;32m--> 155\u001b[0;31m         \u001b[0mself\u001b[0m\u001b[0;34m.\u001b[0m\u001b[0mmodel\u001b[0m\u001b[0;34m.\u001b[0m\u001b[0mmonitor\u001b[0m\u001b[0;34m(\u001b[0m\u001b[0;34m)\u001b[0m\u001b[0;34m\u001b[0m\u001b[0m\n\u001b[0m\u001b[1;32m    156\u001b[0m         \u001b[0;32mfor\u001b[0m \u001b[0mextension\u001b[0m \u001b[0;32min\u001b[0m \u001b[0mself\u001b[0m\u001b[0;34m.\u001b[0m\u001b[0mextensions\u001b[0m\u001b[0;34m:\u001b[0m\u001b[0;34m\u001b[0m\u001b[0m\n\u001b[1;32m    157\u001b[0m             \u001b[0;32mtry\u001b[0m\u001b[0;34m:\u001b[0m\u001b[0;34m\u001b[0m\u001b[0m\n",
        "\u001b[0;32m/usr/local/lib/python2.7/dist-packages/pylearn2/monitor.pyc\u001b[0m in \u001b[0;36m__call__\u001b[0;34m(self)\u001b[0m\n\u001b[1;32m    220\u001b[0m             \u001b[0;32melse\u001b[0m\u001b[0;34m:\u001b[0m\u001b[0;34m\u001b[0m\u001b[0m\n\u001b[1;32m    221\u001b[0m                 \u001b[0mactual_ne\u001b[0m \u001b[0;34m=\u001b[0m \u001b[0;36m0\u001b[0m\u001b[0;34m\u001b[0m\u001b[0m\n\u001b[0;32m--> 222\u001b[0;31m                 \u001b[0;32mfor\u001b[0m \u001b[0mX\u001b[0m \u001b[0;32min\u001b[0m \u001b[0mmyiterator\u001b[0m\u001b[0;34m:\u001b[0m\u001b[0;34m\u001b[0m\u001b[0m\n\u001b[0m\u001b[1;32m    223\u001b[0m                     \u001b[0;31m# X is a flat (not nested) tuple\u001b[0m\u001b[0;34m\u001b[0m\u001b[0;34m\u001b[0m\u001b[0m\n\u001b[1;32m    224\u001b[0m                     \u001b[0mself\u001b[0m\u001b[0;34m.\u001b[0m\u001b[0mrun_prereqs\u001b[0m\u001b[0;34m(\u001b[0m\u001b[0mX\u001b[0m\u001b[0;34m,\u001b[0m \u001b[0md\u001b[0m\u001b[0;34m)\u001b[0m\u001b[0;34m\u001b[0m\u001b[0m\n",
        "\u001b[0;32m/usr/local/lib/python2.7/dist-packages/pylearn2/utils/iteration.pyc\u001b[0m in \u001b[0;36mnext\u001b[0;34m(self)\u001b[0m\n\u001b[1;32m    429\u001b[0m             rval = tuple(\n\u001b[1;32m    430\u001b[0m                     \u001b[0mfn\u001b[0m\u001b[0;34m(\u001b[0m\u001b[0mdata\u001b[0m\u001b[0;34m[\u001b[0m\u001b[0mnext_index\u001b[0m\u001b[0;34m]\u001b[0m\u001b[0;34m)\u001b[0m \u001b[0;32mif\u001b[0m \u001b[0mfn\u001b[0m \u001b[0;32melse\u001b[0m \u001b[0mdata\u001b[0m\u001b[0;34m[\u001b[0m\u001b[0mnext_index\u001b[0m\u001b[0;34m]\u001b[0m\u001b[0;34m\u001b[0m\u001b[0m\n\u001b[0;32m--> 431\u001b[0;31m                     for data, fn in safe_zip(self._raw_data, self._convert))\n\u001b[0m\u001b[1;32m    432\u001b[0m             \u001b[0;32mif\u001b[0m \u001b[0;32mnot\u001b[0m \u001b[0mself\u001b[0m\u001b[0;34m.\u001b[0m\u001b[0m_return_tuple\u001b[0m \u001b[0;32mand\u001b[0m \u001b[0mlen\u001b[0m\u001b[0;34m(\u001b[0m\u001b[0mrval\u001b[0m\u001b[0;34m)\u001b[0m \u001b[0;34m==\u001b[0m \u001b[0;36m1\u001b[0m\u001b[0;34m:\u001b[0m\u001b[0;34m\u001b[0m\u001b[0m\n\u001b[1;32m    433\u001b[0m                 \u001b[0mrval\u001b[0m\u001b[0;34m,\u001b[0m \u001b[0;34m=\u001b[0m \u001b[0mrval\u001b[0m\u001b[0;34m\u001b[0m\u001b[0m\n",
        "\u001b[0;32m/usr/local/lib/python2.7/dist-packages/pylearn2/utils/iteration.pyc\u001b[0m in \u001b[0;36m<genexpr>\u001b[0;34m((data, fn))\u001b[0m\n\u001b[1;32m    429\u001b[0m             rval = tuple(\n\u001b[1;32m    430\u001b[0m                     \u001b[0mfn\u001b[0m\u001b[0;34m(\u001b[0m\u001b[0mdata\u001b[0m\u001b[0;34m[\u001b[0m\u001b[0mnext_index\u001b[0m\u001b[0;34m]\u001b[0m\u001b[0;34m)\u001b[0m \u001b[0;32mif\u001b[0m \u001b[0mfn\u001b[0m \u001b[0;32melse\u001b[0m \u001b[0mdata\u001b[0m\u001b[0;34m[\u001b[0m\u001b[0mnext_index\u001b[0m\u001b[0;34m]\u001b[0m\u001b[0;34m\u001b[0m\u001b[0m\n\u001b[0;32m--> 431\u001b[0;31m                     for data, fn in safe_zip(self._raw_data, self._convert))\n\u001b[0m\u001b[1;32m    432\u001b[0m             \u001b[0;32mif\u001b[0m \u001b[0;32mnot\u001b[0m \u001b[0mself\u001b[0m\u001b[0;34m.\u001b[0m\u001b[0m_return_tuple\u001b[0m \u001b[0;32mand\u001b[0m \u001b[0mlen\u001b[0m\u001b[0;34m(\u001b[0m\u001b[0mrval\u001b[0m\u001b[0;34m)\u001b[0m \u001b[0;34m==\u001b[0m \u001b[0;36m1\u001b[0m\u001b[0;34m:\u001b[0m\u001b[0;34m\u001b[0m\u001b[0m\n\u001b[1;32m    433\u001b[0m                 \u001b[0mrval\u001b[0m\u001b[0;34m,\u001b[0m \u001b[0;34m=\u001b[0m \u001b[0mrval\u001b[0m\u001b[0;34m\u001b[0m\u001b[0m\n",
        "\u001b[0;32m/usr/local/lib/python2.7/dist-packages/pylearn2/utils/iteration.pyc\u001b[0m in \u001b[0;36m<lambda>\u001b[0;34m(batch, dspace, sp, fn_)\u001b[0m\n\u001b[1;32m    397\u001b[0m                     \u001b[0;32melse\u001b[0m\u001b[0;34m:\u001b[0m\u001b[0;34m\u001b[0m\u001b[0m\n\u001b[1;32m    398\u001b[0m                         fn = (lambda batch, dspace=dspace, sp=sp, fn_=fn:\n\u001b[0;32m--> 399\u001b[0;31m                                 dspace.np_format_as(fn_(batch), sp))\n\u001b[0m\u001b[1;32m    400\u001b[0m \u001b[0;34m\u001b[0m\u001b[0m\n\u001b[1;32m    401\u001b[0m                 \u001b[0mself\u001b[0m\u001b[0;34m.\u001b[0m\u001b[0m_convert\u001b[0m\u001b[0;34m.\u001b[0m\u001b[0mappend\u001b[0m\u001b[0;34m(\u001b[0m\u001b[0mfn\u001b[0m\u001b[0;34m)\u001b[0m\u001b[0;34m\u001b[0m\u001b[0m\n",
        "\u001b[0;32m/usr/local/lib/python2.7/dist-packages/pylearn2/space/__init__.pyc\u001b[0m in \u001b[0;36mnp_format_as\u001b[0;34m(self, batch, space)\u001b[0m\n\u001b[1;32m    283\u001b[0m     \u001b[0;32mdef\u001b[0m \u001b[0mnp_format_as\u001b[0m\u001b[0;34m(\u001b[0m\u001b[0mself\u001b[0m\u001b[0;34m,\u001b[0m \u001b[0mbatch\u001b[0m\u001b[0;34m,\u001b[0m \u001b[0mspace\u001b[0m\u001b[0;34m)\u001b[0m\u001b[0;34m:\u001b[0m\u001b[0;34m\u001b[0m\u001b[0m\n\u001b[1;32m    284\u001b[0m         \u001b[0mself\u001b[0m\u001b[0;34m.\u001b[0m\u001b[0mnp_validate\u001b[0m\u001b[0;34m(\u001b[0m\u001b[0mbatch\u001b[0m\u001b[0;34m)\u001b[0m\u001b[0;34m\u001b[0m\u001b[0m\n\u001b[0;32m--> 285\u001b[0;31m         \u001b[0;32mreturn\u001b[0m \u001b[0mself\u001b[0m\u001b[0;34m.\u001b[0m\u001b[0m_format_as\u001b[0m\u001b[0;34m(\u001b[0m\u001b[0mbatch\u001b[0m\u001b[0;34m,\u001b[0m \u001b[0mspace\u001b[0m\u001b[0;34m)\u001b[0m\u001b[0;34m\u001b[0m\u001b[0m\n\u001b[0m\u001b[1;32m    286\u001b[0m \u001b[0;34m\u001b[0m\u001b[0m\n\u001b[1;32m    287\u001b[0m     \u001b[0;34m@\u001b[0m\u001b[0mfunctools\u001b[0m\u001b[0;34m.\u001b[0m\u001b[0mwraps\u001b[0m\u001b[0;34m(\u001b[0m\u001b[0mSpace\u001b[0m\u001b[0;34m.\u001b[0m\u001b[0m_format_as\u001b[0m\u001b[0;34m)\u001b[0m\u001b[0;34m\u001b[0m\u001b[0m\n",
        "\u001b[0;32m/usr/local/lib/python2.7/dist-packages/pylearn2/space/__init__.pyc\u001b[0m in \u001b[0;36m_format_as\u001b[0;34m(self, batch, space)\u001b[0m\n\u001b[1;32m    315\u001b[0m             \u001b[0;32mreturn\u001b[0m \u001b[0mrval\u001b[0m\u001b[0;34m\u001b[0m\u001b[0m\n\u001b[1;32m    316\u001b[0m \u001b[0;34m\u001b[0m\u001b[0m\n\u001b[0;32m--> 317\u001b[0;31m         \u001b[0;32mraise\u001b[0m \u001b[0mNotImplementedError\u001b[0m\u001b[0;34m(\u001b[0m\u001b[0mstr\u001b[0m\u001b[0;34m(\u001b[0m\u001b[0mself\u001b[0m\u001b[0;34m)\u001b[0m\u001b[0;34m+\u001b[0m\u001b[0;34m\" doesn't know how to format as \"\u001b[0m\u001b[0;34m+\u001b[0m\u001b[0mstr\u001b[0m\u001b[0;34m(\u001b[0m\u001b[0mspace\u001b[0m\u001b[0;34m)\u001b[0m\u001b[0;34m)\u001b[0m\u001b[0;34m\u001b[0m\u001b[0m\n\u001b[0m\u001b[1;32m    318\u001b[0m \u001b[0;34m\u001b[0m\u001b[0m\n\u001b[1;32m    319\u001b[0m     \u001b[0;32mdef\u001b[0m \u001b[0m__eq__\u001b[0m\u001b[0;34m(\u001b[0m\u001b[0mself\u001b[0m\u001b[0;34m,\u001b[0m \u001b[0mother\u001b[0m\u001b[0;34m)\u001b[0m\u001b[0;34m:\u001b[0m\u001b[0;34m\u001b[0m\u001b[0m\n",
        "\u001b[0;31mNotImplementedError\u001b[0m: VectorSpace(dim=784) doesn't know how to format as VectorSpace(dim=5632)"
       ]
      }
     ],
     "prompt_number": 64
    },
    {
     "cell_type": "code",
     "collapsed": false,
     "input": [
      "import numpy\n",
      "import copy\n",
      "\n",
      "a = [0, 1, 5, 8, 9, 10, 17, 17, 20, 24, 30] #\u4e0d\u540c\u957f\u5ea6\u94a2\u6761\u7684\u4ef7\u683c\u8868\uff0ca[k]\u5bf9\u5e94\u4e8e\u957f\u5ea6\u4e3ak\u7684\u521a\u6761\u7684\u4ef7\u683c\n",
      "assert len(a) == 11\n",
      "\n",
      "\n",
      "cost = numpy.zeros(shape=101, dtype=int)\n",
      "N = 100 #\u5f85\u6c42\u957f\u5ea6\n",
      "K = 10 #\u4ef7\u683c\u8868\u957f\u5ea6\n",
      "pattern_dict = {0: []}\n",
      "for n in xrange(1, N+1):\n",
      "    temp = 0\n",
      "    max_num = min(n, K)\n",
      "    for k in xrange(1, max_num+1):\n",
      "        cur = a[k] + cost[n-k]\n",
      "        if cur > temp:\n",
      "            temp = cur\n",
      "            pattern = copy.copy(pattern_dict[n-k])\n",
      "            pattern.append(k)\n",
      "    cost[n] = temp\n",
      "    pattern_dict[n] = pattern\n",
      "print '\u957f\u5ea6\u4e3a%d\u7684\u94a2\u6761\u7684\u6700\u4f18\u5207\u5206\u65b9\u6848\u4e3a:' % N\n",
      "print '  ', pattern_dict[N]\n",
      "print '\u6700\u9ad8\u4ef7\u683c\u4e3a\uff1a%d' % cost[-1]\n",
      "        "
     ],
     "language": "python",
     "metadata": {},
     "outputs": [
      {
       "output_type": "stream",
       "stream": "stdout",
       "text": [
        "\u957f\u5ea6\u4e3a100\u7684\u94a2\u6761\u7684\u6700\u4f18\u5207\u5206\u65b9\u6848\u4e3a:\n",
        "   [10, 10, 10, 10, 10, 10, 10, 10, 10, 10]\n",
        "\u6700\u9ad8\u4ef7\u683c\u4e3a\uff1a300\n"
       ]
      }
     ],
     "prompt_number": 24
    },
    {
     "cell_type": "code",
     "collapsed": false,
     "input": [],
     "language": "python",
     "metadata": {},
     "outputs": []
    }
   ],
   "metadata": {}
  }
 ]
}